{
 "cells": [
  {
   "cell_type": "markdown",
   "metadata": {},
   "source": [
    "# Intro to Recommender Systems Lab\n",
    "\n",
    "Complete the exercises below to solidify your knowledge and understanding of recommender systems.\n",
    "\n",
    "For this lab, we are going to be putting together a user similarity based recommender system in a step-by-step fashion. Our data set contains customer grocery purchases, and we will use similar purchase behavior to inform our recommender system. Our recommender system will generate 5 recommendations for each customer based on the purchases they have made."
   ]
  },
  {
   "cell_type": "code",
   "execution_count": 1,
   "metadata": {},
   "outputs": [],
   "source": [
    "import pandas as pd\n",
    "import numpy as np\n",
    "from scipy.spatial.distance import pdist, squareform"
   ]
  },
  {
   "cell_type": "code",
   "execution_count": 2,
   "metadata": {},
   "outputs": [],
   "source": [
    "data = pd.read_csv('../data/customer_product_sales.csv')"
   ]
  },
  {
   "cell_type": "code",
   "execution_count": 3,
   "metadata": {},
   "outputs": [
    {
     "data": {
      "text/html": "<div>\n<style scoped>\n    .dataframe tbody tr th:only-of-type {\n        vertical-align: middle;\n    }\n\n    .dataframe tbody tr th {\n        vertical-align: top;\n    }\n\n    .dataframe thead th {\n        text-align: right;\n    }\n</style>\n<table border=\"1\" class=\"dataframe\">\n  <thead>\n    <tr style=\"text-align: right;\">\n      <th></th>\n      <th>CustomerID</th>\n      <th>FirstName</th>\n      <th>LastName</th>\n      <th>SalesID</th>\n      <th>ProductID</th>\n      <th>ProductName</th>\n      <th>Quantity</th>\n    </tr>\n  </thead>\n  <tbody>\n    <tr>\n      <td>0</td>\n      <td>61288</td>\n      <td>Rosa</td>\n      <td>Andersen</td>\n      <td>134196</td>\n      <td>229</td>\n      <td>Bread - Hot Dog Buns</td>\n      <td>16</td>\n    </tr>\n    <tr>\n      <td>1</td>\n      <td>77352</td>\n      <td>Myron</td>\n      <td>Murray</td>\n      <td>6167892</td>\n      <td>229</td>\n      <td>Bread - Hot Dog Buns</td>\n      <td>20</td>\n    </tr>\n    <tr>\n      <td>2</td>\n      <td>40094</td>\n      <td>Susan</td>\n      <td>Stevenson</td>\n      <td>5970885</td>\n      <td>229</td>\n      <td>Bread - Hot Dog Buns</td>\n      <td>11</td>\n    </tr>\n    <tr>\n      <td>3</td>\n      <td>23548</td>\n      <td>Tricia</td>\n      <td>Vincent</td>\n      <td>6426954</td>\n      <td>229</td>\n      <td>Bread - Hot Dog Buns</td>\n      <td>6</td>\n    </tr>\n    <tr>\n      <td>4</td>\n      <td>78981</td>\n      <td>Scott</td>\n      <td>Burch</td>\n      <td>819094</td>\n      <td>229</td>\n      <td>Bread - Hot Dog Buns</td>\n      <td>20</td>\n    </tr>\n  </tbody>\n</table>\n</div>",
      "text/plain": "   CustomerID FirstName   LastName  SalesID  ProductID           ProductName  \\\n0       61288      Rosa   Andersen   134196        229  Bread - Hot Dog Buns   \n1       77352     Myron     Murray  6167892        229  Bread - Hot Dog Buns   \n2       40094     Susan  Stevenson  5970885        229  Bread - Hot Dog Buns   \n3       23548    Tricia    Vincent  6426954        229  Bread - Hot Dog Buns   \n4       78981     Scott      Burch   819094        229  Bread - Hot Dog Buns   \n\n   Quantity  \n0        16  \n1        20  \n2        11  \n3         6  \n4        20  "
     },
     "execution_count": 3,
     "metadata": {},
     "output_type": "execute_result"
    }
   ],
   "source": [
    "data.head()"
   ]
  },
  {
   "cell_type": "markdown",
   "metadata": {},
   "source": [
    "## Step 1: Create a data frame that contains the total quantity of each product purchased by each customer.\n",
    "\n",
    "You will need to group by CustomerID and ProductName and then sum the Quantity field."
   ]
  },
  {
   "cell_type": "code",
   "execution_count": 4,
   "metadata": {},
   "outputs": [
    {
     "data": {
      "text/html": "<div>\n<style scoped>\n    .dataframe tbody tr th:only-of-type {\n        vertical-align: middle;\n    }\n\n    .dataframe tbody tr th {\n        vertical-align: top;\n    }\n\n    .dataframe thead th {\n        text-align: right;\n    }\n</style>\n<table border=\"1\" class=\"dataframe\">\n  <thead>\n    <tr style=\"text-align: right;\">\n      <th></th>\n      <th>CustomerID</th>\n      <th>ProductName</th>\n      <th>Quantity</th>\n    </tr>\n  </thead>\n  <tbody>\n    <tr>\n      <td>0</td>\n      <td>33</td>\n      <td>Apricots - Dried</td>\n      <td>1</td>\n    </tr>\n    <tr>\n      <td>1</td>\n      <td>33</td>\n      <td>Assorted Desserts</td>\n      <td>1</td>\n    </tr>\n    <tr>\n      <td>2</td>\n      <td>33</td>\n      <td>Bandage - Flexible Neon</td>\n      <td>1</td>\n    </tr>\n    <tr>\n      <td>3</td>\n      <td>33</td>\n      <td>Bar Mix - Pina Colada, 355 Ml</td>\n      <td>1</td>\n    </tr>\n    <tr>\n      <td>4</td>\n      <td>33</td>\n      <td>Beans - Kidney, Canned</td>\n      <td>1</td>\n    </tr>\n    <tr>\n      <td>...</td>\n      <td>...</td>\n      <td>...</td>\n      <td>...</td>\n    </tr>\n    <tr>\n      <td>63623</td>\n      <td>98200</td>\n      <td>Vol Au Vents</td>\n      <td>50</td>\n    </tr>\n    <tr>\n      <td>63624</td>\n      <td>98200</td>\n      <td>Wasabi Powder</td>\n      <td>25</td>\n    </tr>\n    <tr>\n      <td>63625</td>\n      <td>98200</td>\n      <td>Wine - Fume Blanc Fetzer</td>\n      <td>25</td>\n    </tr>\n    <tr>\n      <td>63626</td>\n      <td>98200</td>\n      <td>Wine - Hardys Bankside Shiraz</td>\n      <td>25</td>\n    </tr>\n    <tr>\n      <td>63627</td>\n      <td>98200</td>\n      <td>Yogurt - French Vanilla</td>\n      <td>25</td>\n    </tr>\n  </tbody>\n</table>\n<p>63628 rows × 3 columns</p>\n</div>",
      "text/plain": "       CustomerID                    ProductName  Quantity\n0              33               Apricots - Dried         1\n1              33              Assorted Desserts         1\n2              33        Bandage - Flexible Neon         1\n3              33  Bar Mix - Pina Colada, 355 Ml         1\n4              33         Beans - Kidney, Canned         1\n...           ...                            ...       ...\n63623       98200                   Vol Au Vents        50\n63624       98200                  Wasabi Powder        25\n63625       98200       Wine - Fume Blanc Fetzer        25\n63626       98200  Wine - Hardys Bankside Shiraz        25\n63627       98200        Yogurt - French Vanilla        25\n\n[63628 rows x 3 columns]"
     },
     "execution_count": 4,
     "metadata": {},
     "output_type": "execute_result"
    }
   ],
   "source": [
    "df = data.groupby(['CustomerID', 'ProductName'])['Quantity'].sum().reset_index()\n",
    "df"
   ]
  },
  {
   "cell_type": "markdown",
   "metadata": {},
   "source": [
    "## Step 2: Use the `pivot_table` method to create a product by customer matrix.\n",
    "\n",
    "The rows of the matrix should represent the products, the columns should represent the customers, and the values should be the quantities of each product purchased by each customer. You will also need to replace nulls with zeros, which you can do using the `fillna` method."
   ]
  },
  {
   "cell_type": "code",
   "execution_count": 5,
   "metadata": {},
   "outputs": [
    {
     "data": {
      "text/html": "<div>\n<style scoped>\n    .dataframe tbody tr th:only-of-type {\n        vertical-align: middle;\n    }\n\n    .dataframe tbody tr th {\n        vertical-align: top;\n    }\n\n    .dataframe thead tr th {\n        text-align: left;\n    }\n\n    .dataframe thead tr:last-of-type th {\n        text-align: right;\n    }\n</style>\n<table border=\"1\" class=\"dataframe\">\n  <thead>\n    <tr>\n      <th></th>\n      <th colspan=\"21\" halign=\"left\">Quantity</th>\n    </tr>\n    <tr>\n      <th>CustomerID</th>\n      <th>33</th>\n      <th>200</th>\n      <th>264</th>\n      <th>356</th>\n      <th>412</th>\n      <th>464</th>\n      <th>477</th>\n      <th>639</th>\n      <th>649</th>\n      <th>669</th>\n      <th>...</th>\n      <th>97697</th>\n      <th>97753</th>\n      <th>97769</th>\n      <th>97793</th>\n      <th>97900</th>\n      <th>97928</th>\n      <th>98069</th>\n      <th>98159</th>\n      <th>98185</th>\n      <th>98200</th>\n    </tr>\n    <tr>\n      <th>ProductName</th>\n      <th></th>\n      <th></th>\n      <th></th>\n      <th></th>\n      <th></th>\n      <th></th>\n      <th></th>\n      <th></th>\n      <th></th>\n      <th></th>\n      <th></th>\n      <th></th>\n      <th></th>\n      <th></th>\n      <th></th>\n      <th></th>\n      <th></th>\n      <th></th>\n      <th></th>\n      <th></th>\n      <th></th>\n    </tr>\n  </thead>\n  <tbody>\n    <tr>\n      <td>Anchovy Paste - 56 G Tube</td>\n      <td>0.0</td>\n      <td>0.0</td>\n      <td>0.0</td>\n      <td>0.0</td>\n      <td>0.0</td>\n      <td>0.0</td>\n      <td>0.0</td>\n      <td>1.0</td>\n      <td>0.0</td>\n      <td>0.0</td>\n      <td>...</td>\n      <td>0.0</td>\n      <td>25.0</td>\n      <td>0.0</td>\n      <td>0.0</td>\n      <td>0.0</td>\n      <td>0.0</td>\n      <td>0.0</td>\n      <td>0.0</td>\n      <td>0.0</td>\n      <td>0.0</td>\n    </tr>\n    <tr>\n      <td>Appetizer - Mini Egg Roll, Shrimp</td>\n      <td>0.0</td>\n      <td>0.0</td>\n      <td>0.0</td>\n      <td>0.0</td>\n      <td>0.0</td>\n      <td>0.0</td>\n      <td>0.0</td>\n      <td>0.0</td>\n      <td>0.0</td>\n      <td>0.0</td>\n      <td>...</td>\n      <td>25.0</td>\n      <td>25.0</td>\n      <td>0.0</td>\n      <td>0.0</td>\n      <td>0.0</td>\n      <td>0.0</td>\n      <td>0.0</td>\n      <td>0.0</td>\n      <td>0.0</td>\n      <td>0.0</td>\n    </tr>\n    <tr>\n      <td>Appetizer - Mushroom Tart</td>\n      <td>0.0</td>\n      <td>0.0</td>\n      <td>0.0</td>\n      <td>0.0</td>\n      <td>0.0</td>\n      <td>0.0</td>\n      <td>0.0</td>\n      <td>1.0</td>\n      <td>0.0</td>\n      <td>0.0</td>\n      <td>...</td>\n      <td>25.0</td>\n      <td>0.0</td>\n      <td>0.0</td>\n      <td>0.0</td>\n      <td>0.0</td>\n      <td>0.0</td>\n      <td>0.0</td>\n      <td>0.0</td>\n      <td>25.0</td>\n      <td>0.0</td>\n    </tr>\n    <tr>\n      <td>Appetizer - Sausage Rolls</td>\n      <td>0.0</td>\n      <td>0.0</td>\n      <td>0.0</td>\n      <td>0.0</td>\n      <td>0.0</td>\n      <td>0.0</td>\n      <td>0.0</td>\n      <td>0.0</td>\n      <td>0.0</td>\n      <td>0.0</td>\n      <td>...</td>\n      <td>0.0</td>\n      <td>0.0</td>\n      <td>0.0</td>\n      <td>0.0</td>\n      <td>25.0</td>\n      <td>25.0</td>\n      <td>25.0</td>\n      <td>0.0</td>\n      <td>25.0</td>\n      <td>0.0</td>\n    </tr>\n    <tr>\n      <td>Apricots - Dried</td>\n      <td>1.0</td>\n      <td>0.0</td>\n      <td>0.0</td>\n      <td>0.0</td>\n      <td>1.0</td>\n      <td>0.0</td>\n      <td>0.0</td>\n      <td>0.0</td>\n      <td>0.0</td>\n      <td>0.0</td>\n      <td>...</td>\n      <td>0.0</td>\n      <td>25.0</td>\n      <td>0.0</td>\n      <td>0.0</td>\n      <td>0.0</td>\n      <td>0.0</td>\n      <td>0.0</td>\n      <td>0.0</td>\n      <td>0.0</td>\n      <td>0.0</td>\n    </tr>\n    <tr>\n      <td>...</td>\n      <td>...</td>\n      <td>...</td>\n      <td>...</td>\n      <td>...</td>\n      <td>...</td>\n      <td>...</td>\n      <td>...</td>\n      <td>...</td>\n      <td>...</td>\n      <td>...</td>\n      <td>...</td>\n      <td>...</td>\n      <td>...</td>\n      <td>...</td>\n      <td>...</td>\n      <td>...</td>\n      <td>...</td>\n      <td>...</td>\n      <td>...</td>\n      <td>...</td>\n      <td>...</td>\n    </tr>\n    <tr>\n      <td>Yeast Dry - Fermipan</td>\n      <td>0.0</td>\n      <td>0.0</td>\n      <td>0.0</td>\n      <td>0.0</td>\n      <td>0.0</td>\n      <td>0.0</td>\n      <td>0.0</td>\n      <td>0.0</td>\n      <td>0.0</td>\n      <td>0.0</td>\n      <td>...</td>\n      <td>0.0</td>\n      <td>0.0</td>\n      <td>0.0</td>\n      <td>25.0</td>\n      <td>0.0</td>\n      <td>0.0</td>\n      <td>0.0</td>\n      <td>0.0</td>\n      <td>0.0</td>\n      <td>0.0</td>\n    </tr>\n    <tr>\n      <td>Yoghurt Tubes</td>\n      <td>0.0</td>\n      <td>0.0</td>\n      <td>0.0</td>\n      <td>0.0</td>\n      <td>0.0</td>\n      <td>0.0</td>\n      <td>0.0</td>\n      <td>0.0</td>\n      <td>2.0</td>\n      <td>0.0</td>\n      <td>...</td>\n      <td>0.0</td>\n      <td>0.0</td>\n      <td>0.0</td>\n      <td>0.0</td>\n      <td>0.0</td>\n      <td>0.0</td>\n      <td>0.0</td>\n      <td>25.0</td>\n      <td>0.0</td>\n      <td>0.0</td>\n    </tr>\n    <tr>\n      <td>Yogurt - Blueberry, 175 Gr</td>\n      <td>0.0</td>\n      <td>1.0</td>\n      <td>0.0</td>\n      <td>0.0</td>\n      <td>0.0</td>\n      <td>0.0</td>\n      <td>0.0</td>\n      <td>0.0</td>\n      <td>0.0</td>\n      <td>0.0</td>\n      <td>...</td>\n      <td>25.0</td>\n      <td>0.0</td>\n      <td>0.0</td>\n      <td>25.0</td>\n      <td>0.0</td>\n      <td>0.0</td>\n      <td>0.0</td>\n      <td>0.0</td>\n      <td>0.0</td>\n      <td>0.0</td>\n    </tr>\n    <tr>\n      <td>Yogurt - French Vanilla</td>\n      <td>1.0</td>\n      <td>0.0</td>\n      <td>0.0</td>\n      <td>1.0</td>\n      <td>0.0</td>\n      <td>0.0</td>\n      <td>2.0</td>\n      <td>0.0</td>\n      <td>0.0</td>\n      <td>1.0</td>\n      <td>...</td>\n      <td>0.0</td>\n      <td>0.0</td>\n      <td>25.0</td>\n      <td>0.0</td>\n      <td>0.0</td>\n      <td>0.0</td>\n      <td>0.0</td>\n      <td>0.0</td>\n      <td>0.0</td>\n      <td>25.0</td>\n    </tr>\n    <tr>\n      <td>Zucchini - Yellow</td>\n      <td>0.0</td>\n      <td>0.0</td>\n      <td>0.0</td>\n      <td>0.0</td>\n      <td>0.0</td>\n      <td>0.0</td>\n      <td>0.0</td>\n      <td>0.0</td>\n      <td>0.0</td>\n      <td>0.0</td>\n      <td>...</td>\n      <td>0.0</td>\n      <td>0.0</td>\n      <td>0.0</td>\n      <td>0.0</td>\n      <td>0.0</td>\n      <td>0.0</td>\n      <td>0.0</td>\n      <td>0.0</td>\n      <td>0.0</td>\n      <td>0.0</td>\n    </tr>\n  </tbody>\n</table>\n<p>452 rows × 1000 columns</p>\n</div>",
      "text/plain": "                                  Quantity                                \\\nCustomerID                           33    200   264   356   412   464     \nProductName                                                                \nAnchovy Paste - 56 G Tube              0.0   0.0   0.0   0.0   0.0   0.0   \nAppetizer - Mini Egg Roll, Shrimp      0.0   0.0   0.0   0.0   0.0   0.0   \nAppetizer - Mushroom Tart              0.0   0.0   0.0   0.0   0.0   0.0   \nAppetizer - Sausage Rolls              0.0   0.0   0.0   0.0   0.0   0.0   \nApricots - Dried                       1.0   0.0   0.0   0.0   1.0   0.0   \n...                                    ...   ...   ...   ...   ...   ...   \nYeast Dry - Fermipan                   0.0   0.0   0.0   0.0   0.0   0.0   \nYoghurt Tubes                          0.0   0.0   0.0   0.0   0.0   0.0   \nYogurt - Blueberry, 175 Gr             0.0   1.0   0.0   0.0   0.0   0.0   \nYogurt - French Vanilla                1.0   0.0   0.0   1.0   0.0   0.0   \nZucchini - Yellow                      0.0   0.0   0.0   0.0   0.0   0.0   \n\n                                                           ...              \\\nCustomerID                        477   639   649   669    ... 97697 97753   \nProductName                                                ...               \nAnchovy Paste - 56 G Tube           0.0   1.0   0.0   0.0  ...   0.0  25.0   \nAppetizer - Mini Egg Roll, Shrimp   0.0   0.0   0.0   0.0  ...  25.0  25.0   \nAppetizer - Mushroom Tart           0.0   1.0   0.0   0.0  ...  25.0   0.0   \nAppetizer - Sausage Rolls           0.0   0.0   0.0   0.0  ...   0.0   0.0   \nApricots - Dried                    0.0   0.0   0.0   0.0  ...   0.0  25.0   \n...                                 ...   ...   ...   ...  ...   ...   ...   \nYeast Dry - Fermipan                0.0   0.0   0.0   0.0  ...   0.0   0.0   \nYoghurt Tubes                       0.0   0.0   2.0   0.0  ...   0.0   0.0   \nYogurt - Blueberry, 175 Gr          0.0   0.0   0.0   0.0  ...  25.0   0.0   \nYogurt - French Vanilla             2.0   0.0   0.0   1.0  ...   0.0   0.0   \nZucchini - Yellow                   0.0   0.0   0.0   0.0  ...   0.0   0.0   \n\n                                                                             \\\nCustomerID                        97769 97793 97900 97928 98069 98159 98185   \nProductName                                                                   \nAnchovy Paste - 56 G Tube           0.0   0.0   0.0   0.0   0.0   0.0   0.0   \nAppetizer - Mini Egg Roll, Shrimp   0.0   0.0   0.0   0.0   0.0   0.0   0.0   \nAppetizer - Mushroom Tart           0.0   0.0   0.0   0.0   0.0   0.0  25.0   \nAppetizer - Sausage Rolls           0.0   0.0  25.0  25.0  25.0   0.0  25.0   \nApricots - Dried                    0.0   0.0   0.0   0.0   0.0   0.0   0.0   \n...                                 ...   ...   ...   ...   ...   ...   ...   \nYeast Dry - Fermipan                0.0  25.0   0.0   0.0   0.0   0.0   0.0   \nYoghurt Tubes                       0.0   0.0   0.0   0.0   0.0  25.0   0.0   \nYogurt - Blueberry, 175 Gr          0.0  25.0   0.0   0.0   0.0   0.0   0.0   \nYogurt - French Vanilla            25.0   0.0   0.0   0.0   0.0   0.0   0.0   \nZucchini - Yellow                   0.0   0.0   0.0   0.0   0.0   0.0   0.0   \n\n                                         \nCustomerID                        98200  \nProductName                              \nAnchovy Paste - 56 G Tube           0.0  \nAppetizer - Mini Egg Roll, Shrimp   0.0  \nAppetizer - Mushroom Tart           0.0  \nAppetizer - Sausage Rolls           0.0  \nApricots - Dried                    0.0  \n...                                 ...  \nYeast Dry - Fermipan                0.0  \nYoghurt Tubes                       0.0  \nYogurt - Blueberry, 175 Gr          0.0  \nYogurt - French Vanilla            25.0  \nZucchini - Yellow                   0.0  \n\n[452 rows x 1000 columns]"
     },
     "execution_count": 5,
     "metadata": {},
     "output_type": "execute_result"
    }
   ],
   "source": [
    "matrix = pd.pivot_table(data, index=[\"ProductName\"], columns=[\"CustomerID\"], values=[\"Quantity\"], aggfunc= 'sum').fillna(0)\n",
    "matrix"
   ]
  },
  {
   "cell_type": "markdown",
   "metadata": {},
   "source": [
    "## Step 3: Create a customer similarity matrix using `squareform` and `pdist`. For the distance metric, choose \"euclidean.\""
   ]
  },
  {
   "cell_type": "code",
   "execution_count": 6,
   "metadata": {},
   "outputs": [
    {
     "data": {
      "text/plain": "Int64Index([   33,   200,   264,   356,   412,   464,   477,   639,   649,\n              669,\n            ...\n            97697, 97753, 97769, 97793, 97900, 97928, 98069, 98159, 98185,\n            98200],\n           dtype='int64', name='CustomerID', length=1000)"
     },
     "execution_count": 6,
     "metadata": {},
     "output_type": "execute_result"
    }
   ],
   "source": [
    "def similarity_matrix(df):\n",
    "    return pd.DataFrame(\n",
    "        data = 1 / (1 + squareform(pdist(df.transpose()))),\n",
    "        index = df.columns,\n",
    "        columns = df.columns\n",
    "    )\n",
    "similarities = similarity_matrix(matrix)\n",
    "similarities.columns = similarities.columns.droplevel()\n",
    "similarities_transp = similarities.transpose()\n",
    "similarities_transp.columns = similarities_transp.columns.droplevel()\n",
    "similarities_transp.columns"
   ]
  },
  {
   "cell_type": "markdown",
   "metadata": {},
   "source": [
    "## Step 4: Check your results by generating a list of the top 5 most similar customers for a specific CustomerID."
   ]
  },
  {
   "cell_type": "code",
   "execution_count": 7,
   "metadata": {},
   "outputs": [
    {
     "data": {
      "text/plain": "[264, 3535, 3317, 2503, 3305]"
     },
     "execution_count": 7,
     "metadata": {},
     "output_type": "execute_result"
    }
   ],
   "source": [
    "top_5 = similarities[33].sort_values(ascending = False).head(6)\n",
    "list_top_6 = []\n",
    "for n in top_5.index:\n",
    "    list_top_6.append(n[1])\n",
    "list_top_5 = list_top_6[1:6]\n",
    "list_top_5"
   ]
  },
  {
   "cell_type": "markdown",
   "metadata": {},
   "source": [
    "## Step 5: From the data frame you created in Step 1, select the records for the list of similar CustomerIDs you obtained in Step 4."
   ]
  },
  {
   "cell_type": "code",
   "execution_count": 8,
   "metadata": {},
   "outputs": [
    {
     "data": {
      "text/html": "<div>\n<style scoped>\n    .dataframe tbody tr th:only-of-type {\n        vertical-align: middle;\n    }\n\n    .dataframe tbody tr th {\n        vertical-align: top;\n    }\n\n    .dataframe thead th {\n        text-align: right;\n    }\n</style>\n<table border=\"1\" class=\"dataframe\">\n  <thead>\n    <tr style=\"text-align: right;\">\n      <th></th>\n      <th>CustomerID</th>\n      <th>ProductName</th>\n      <th>Quantity</th>\n    </tr>\n  </thead>\n  <tbody>\n    <tr>\n      <td>131</td>\n      <td>264</td>\n      <td>Apricots - Halves</td>\n      <td>1</td>\n    </tr>\n    <tr>\n      <td>132</td>\n      <td>264</td>\n      <td>Apricots Fresh</td>\n      <td>1</td>\n    </tr>\n    <tr>\n      <td>133</td>\n      <td>264</td>\n      <td>Bacardi Breezer - Tropical</td>\n      <td>1</td>\n    </tr>\n    <tr>\n      <td>134</td>\n      <td>264</td>\n      <td>Bagel - Plain</td>\n      <td>1</td>\n    </tr>\n    <tr>\n      <td>135</td>\n      <td>264</td>\n      <td>Banana - Leaves</td>\n      <td>1</td>\n    </tr>\n    <tr>\n      <td>...</td>\n      <td>...</td>\n      <td>...</td>\n      <td>...</td>\n    </tr>\n    <tr>\n      <td>3003</td>\n      <td>3535</td>\n      <td>Tray - 16in Rnd Blk</td>\n      <td>1</td>\n    </tr>\n    <tr>\n      <td>3004</td>\n      <td>3535</td>\n      <td>Wanton Wrap</td>\n      <td>1</td>\n    </tr>\n    <tr>\n      <td>3005</td>\n      <td>3535</td>\n      <td>Wine - Blue Nun Qualitatswein</td>\n      <td>1</td>\n    </tr>\n    <tr>\n      <td>3006</td>\n      <td>3535</td>\n      <td>Wine - Magnotta, Merlot Sr Vqa</td>\n      <td>1</td>\n    </tr>\n    <tr>\n      <td>3007</td>\n      <td>3535</td>\n      <td>Yoghurt Tubes</td>\n      <td>1</td>\n    </tr>\n  </tbody>\n</table>\n<p>270 rows × 3 columns</p>\n</div>",
      "text/plain": "      CustomerID                     ProductName  Quantity\n131          264               Apricots - Halves         1\n132          264                  Apricots Fresh         1\n133          264      Bacardi Breezer - Tropical         1\n134          264                   Bagel - Plain         1\n135          264                 Banana - Leaves         1\n...          ...                             ...       ...\n3003        3535             Tray - 16in Rnd Blk         1\n3004        3535                     Wanton Wrap         1\n3005        3535   Wine - Blue Nun Qualitatswein         1\n3006        3535  Wine - Magnotta, Merlot Sr Vqa         1\n3007        3535                   Yoghurt Tubes         1\n\n[270 rows x 3 columns]"
     },
     "execution_count": 8,
     "metadata": {},
     "output_type": "execute_result"
    }
   ],
   "source": [
    "df1 = df[df['CustomerID'].isin(list_top_5)]\n",
    "df1"
   ]
  },
  {
   "cell_type": "markdown",
   "metadata": {},
   "source": [
    "## Step 6: Aggregate those customer purchase records by ProductName, sum the Quantity field, and then rank them in descending order by quantity.\n",
    "\n",
    "This will give you the total number of each product purchased by the 5 most similar customers to the customer you selected in order from most purchased to least."
   ]
  },
  {
   "cell_type": "code",
   "execution_count": 9,
   "metadata": {},
   "outputs": [
    {
     "data": {
      "text/html": "<div>\n<style scoped>\n    .dataframe tbody tr th:only-of-type {\n        vertical-align: middle;\n    }\n\n    .dataframe tbody tr th {\n        vertical-align: top;\n    }\n\n    .dataframe thead th {\n        text-align: right;\n    }\n</style>\n<table border=\"1\" class=\"dataframe\">\n  <thead>\n    <tr style=\"text-align: right;\">\n      <th>CustomerID</th>\n      <th>264</th>\n      <th>2503</th>\n      <th>3305</th>\n      <th>3317</th>\n      <th>3535</th>\n      <th>Total</th>\n    </tr>\n    <tr>\n      <th>ProductName</th>\n      <th></th>\n      <th></th>\n      <th></th>\n      <th></th>\n      <th></th>\n      <th></th>\n    </tr>\n  </thead>\n  <tbody>\n    <tr>\n      <td>Butter - Unsalted</td>\n      <td>0.0</td>\n      <td>2.0</td>\n      <td>0.0</td>\n      <td>1.0</td>\n      <td>0.0</td>\n      <td>3.0</td>\n    </tr>\n    <tr>\n      <td>Wine - Ej Gallo Sierra Valley</td>\n      <td>0.0</td>\n      <td>0.0</td>\n      <td>2.0</td>\n      <td>1.0</td>\n      <td>0.0</td>\n      <td>3.0</td>\n    </tr>\n    <tr>\n      <td>Towels - Paper / Kraft</td>\n      <td>1.0</td>\n      <td>0.0</td>\n      <td>1.0</td>\n      <td>0.0</td>\n      <td>1.0</td>\n      <td>3.0</td>\n    </tr>\n    <tr>\n      <td>Soup - Campbells Bean Medley</td>\n      <td>1.0</td>\n      <td>0.0</td>\n      <td>0.0</td>\n      <td>1.0</td>\n      <td>1.0</td>\n      <td>3.0</td>\n    </tr>\n    <tr>\n      <td>Wine - Blue Nun Qualitatswein</td>\n      <td>1.0</td>\n      <td>0.0</td>\n      <td>1.0</td>\n      <td>0.0</td>\n      <td>1.0</td>\n      <td>3.0</td>\n    </tr>\n  </tbody>\n</table>\n</div>",
      "text/plain": "CustomerID                     264  2503  3305  3317  3535  Total\nProductName                                                      \nButter - Unsalted              0.0   2.0   0.0   1.0   0.0    3.0\nWine - Ej Gallo Sierra Valley  0.0   0.0   2.0   1.0   0.0    3.0\nTowels - Paper / Kraft         1.0   0.0   1.0   0.0   1.0    3.0\nSoup - Campbells Bean Medley   1.0   0.0   0.0   1.0   1.0    3.0\nWine - Blue Nun Qualitatswein  1.0   0.0   1.0   0.0   1.0    3.0"
     },
     "execution_count": 9,
     "metadata": {},
     "output_type": "execute_result"
    }
   ],
   "source": [
    "matrix1 = df1.pivot_table(index=[\"ProductName\"], columns=[\"CustomerID\"], values=[\"Quantity\"], aggfunc= 'sum').fillna(0)\n",
    "matrix1.columns = matrix1.columns.droplevel()\n",
    "matrix1['Total'] = matrix1.sum(axis = 1)\n",
    "matrix1.sort_values('Total', ascending = False).head(5)"
   ]
  },
  {
   "cell_type": "markdown",
   "metadata": {},
   "source": [
    "## Step 7: Filter the list for products that the chosen customer has not yet purchased and then recommend the top 5 products with the highest quantities that are left.\n",
    "\n",
    "- Merge the ranked products data frame with the customer product matrix on the ProductName field.\n",
    "- Filter for records where the chosen customer has not purchased the product.\n",
    "- Show the top 5 results."
   ]
  },
  {
   "cell_type": "code",
   "execution_count": 20,
   "metadata": {},
   "outputs": [],
   "source": [
    "no_products = list(matrix[matrix[33] == 0].index)\n",
    "df2 = matrix1[matrix1.index.isin(no_products)].sort_values('Total', ascending = False).head(5)\n",
    "#df2.columns = df2.columns.droplevel()\n",
    "recommend_products = list(df2.index)\n",
    "\n",
    "#matrix.columns = matrix.columns.droplevel()\n",
    "#matrix\n",
    "\n"
   ]
  },
  {
   "cell_type": "markdown",
   "metadata": {},
   "source": [
    "## Step 8: Now that we have generated product recommendations for a single user, put the pieces together and iterate over a list of all CustomerIDs.\n",
    "\n",
    "- Create an empty dictionary that will hold the recommendations for all customers.\n",
    "- Create a list of unique CustomerIDs to iterate over.\n",
    "- Iterate over the customer list performing steps 4 through 7 for each and appending the results of each iteration to the dictionary you created."
   ]
  },
  {
   "cell_type": "code",
   "execution_count": 21,
   "metadata": {},
   "outputs": [
    {
     "data": {
      "text/html": "<div>\n<style scoped>\n    .dataframe tbody tr th:only-of-type {\n        vertical-align: middle;\n    }\n\n    .dataframe tbody tr th {\n        vertical-align: top;\n    }\n\n    .dataframe thead th {\n        text-align: right;\n    }\n</style>\n<table border=\"1\" class=\"dataframe\">\n  <thead>\n    <tr style=\"text-align: right;\">\n      <th></th>\n      <th>83973</th>\n      <th>59399</th>\n      <th>92168</th>\n      <th>49159</th>\n      <th>18441</th>\n      <th>22536</th>\n      <th>86028</th>\n      <th>75791</th>\n      <th>96272</th>\n      <th>32785</th>\n      <th>...</th>\n      <th>55281</th>\n      <th>75762</th>\n      <th>45042</th>\n      <th>59379</th>\n      <th>77810</th>\n      <th>77814</th>\n      <th>32753</th>\n      <th>20476</th>\n      <th>67582</th>\n      <th>65535</th>\n    </tr>\n  </thead>\n  <tbody>\n    <tr>\n      <td>0</td>\n      <td>Cocoa Butter</td>\n      <td>Baking Powder</td>\n      <td>Baking Powder</td>\n      <td>Baking Powder</td>\n      <td>Baking Powder</td>\n      <td>Baking Powder</td>\n      <td>Baking Powder</td>\n      <td>Baking Powder</td>\n      <td>Baking Powder</td>\n      <td>Baking Powder</td>\n      <td>...</td>\n      <td>Baking Powder</td>\n      <td>Cocoa Butter</td>\n      <td>Baking Powder</td>\n      <td>Guinea Fowl</td>\n      <td>Baking Powder</td>\n      <td>Muffin Chocolate Individual Wrap</td>\n      <td>Baking Powder</td>\n      <td>Baking Powder</td>\n      <td>Cocoa Butter</td>\n      <td>Baking Powder</td>\n    </tr>\n    <tr>\n      <td>1</td>\n      <td>Veal - Slab Bacon</td>\n      <td>Guinea Fowl</td>\n      <td>Thermometer Digital</td>\n      <td>Thermometer Digital</td>\n      <td>Cocoa Butter</td>\n      <td>Guinea Fowl</td>\n      <td>Thermometer Digital</td>\n      <td>Cocoa Butter</td>\n      <td>Thermometer Digital</td>\n      <td>Muffin Chocolate Individual Wrap</td>\n      <td>...</td>\n      <td>Guinea Fowl</td>\n      <td>Muffin Chocolate Individual Wrap</td>\n      <td>Thermometer Digital</td>\n      <td>Thermometer Digital</td>\n      <td>Thermometer Digital</td>\n      <td>Guinea Fowl</td>\n      <td>Cocoa Butter</td>\n      <td>Thermometer Digital</td>\n      <td>Guinea Fowl</td>\n      <td>Thermometer Digital</td>\n    </tr>\n    <tr>\n      <td>2</td>\n      <td>Bandage - Fexible 1x3</td>\n      <td>Muffin Chocolate Individual Wrap</td>\n      <td>Muffin Chocolate Individual Wrap</td>\n      <td>Cocoa Butter</td>\n      <td>Guinea Fowl</td>\n      <td>Thermometer Digital</td>\n      <td>Guinea Fowl</td>\n      <td>Guinea Fowl</td>\n      <td>Guinea Fowl</td>\n      <td>Cocoa Butter</td>\n      <td>...</td>\n      <td>Thermometer Digital</td>\n      <td>Thermometer Digital</td>\n      <td>Cocoa Butter</td>\n      <td>Cocoa Butter</td>\n      <td>Guinea Fowl</td>\n      <td>Thermometer Digital</td>\n      <td>Guinea Fowl</td>\n      <td>Cocoa Butter</td>\n      <td>Thermometer Digital</td>\n      <td>Cocoa Butter</td>\n    </tr>\n    <tr>\n      <td>3</td>\n      <td>Ezy Change Mophandle</td>\n      <td>Cocoa Butter</td>\n      <td>Cocoa Butter</td>\n      <td>Veal - Slab Bacon</td>\n      <td>Veal - Slab Bacon</td>\n      <td>Muffin Chocolate Individual Wrap</td>\n      <td>Cocoa Butter</td>\n      <td>Thermometer Digital</td>\n      <td>Muffin Chocolate Individual Wrap</td>\n      <td>Guinea Fowl</td>\n      <td>...</td>\n      <td>Muffin Chocolate Individual Wrap</td>\n      <td>Veal - Slab Bacon</td>\n      <td>Muffin Chocolate Individual Wrap</td>\n      <td>Muffin Chocolate Individual Wrap</td>\n      <td>Cocoa Butter</td>\n      <td>Cocoa Butter</td>\n      <td>Thermometer Digital</td>\n      <td>Guinea Fowl</td>\n      <td>Muffin Chocolate Individual Wrap</td>\n      <td>Muffin Chocolate Individual Wrap</td>\n    </tr>\n    <tr>\n      <td>4</td>\n      <td>Pop Shoppe Cream Soda</td>\n      <td>Thermometer Digital</td>\n      <td>Veal - Slab Bacon</td>\n      <td>Lettuce - Frisee</td>\n      <td>Lettuce - Frisee</td>\n      <td>Lettuce - Frisee</td>\n      <td>Muffin Chocolate Individual Wrap</td>\n      <td>Muffin Chocolate Individual Wrap</td>\n      <td>Veal - Slab Bacon</td>\n      <td>Thermometer Digital</td>\n      <td>...</td>\n      <td>Cocoa Butter</td>\n      <td>Lettuce - Frisee</td>\n      <td>Veal - Slab Bacon</td>\n      <td>Veal - Slab Bacon</td>\n      <td>Veal - Slab Bacon</td>\n      <td>Lettuce - Frisee</td>\n      <td>Veal - Slab Bacon</td>\n      <td>Muffin Chocolate Individual Wrap</td>\n      <td>Lettuce - Frisee</td>\n      <td>Veal - Slab Bacon</td>\n    </tr>\n  </tbody>\n</table>\n<p>5 rows × 1000 columns</p>\n</div>",
      "text/plain": "                   83973                             59399  \\\n0           Cocoa Butter                     Baking Powder   \n1      Veal - Slab Bacon                       Guinea Fowl   \n2  Bandage - Fexible 1x3  Muffin Chocolate Individual Wrap   \n3   Ezy Change Mophandle                      Cocoa Butter   \n4  Pop Shoppe Cream Soda               Thermometer Digital   \n\n                              92168                49159              18441  \\\n0                     Baking Powder        Baking Powder      Baking Powder   \n1               Thermometer Digital  Thermometer Digital       Cocoa Butter   \n2  Muffin Chocolate Individual Wrap         Cocoa Butter        Guinea Fowl   \n3                      Cocoa Butter    Veal - Slab Bacon  Veal - Slab Bacon   \n4                 Veal - Slab Bacon     Lettuce - Frisee   Lettuce - Frisee   \n\n                              22536                             86028  \\\n0                     Baking Powder                     Baking Powder   \n1                       Guinea Fowl               Thermometer Digital   \n2               Thermometer Digital                       Guinea Fowl   \n3  Muffin Chocolate Individual Wrap                      Cocoa Butter   \n4                  Lettuce - Frisee  Muffin Chocolate Individual Wrap   \n\n                              75791                             96272  \\\n0                     Baking Powder                     Baking Powder   \n1                      Cocoa Butter               Thermometer Digital   \n2                       Guinea Fowl                       Guinea Fowl   \n3               Thermometer Digital  Muffin Chocolate Individual Wrap   \n4  Muffin Chocolate Individual Wrap                 Veal - Slab Bacon   \n\n                              32785  ...                             55281  \\\n0                     Baking Powder  ...                     Baking Powder   \n1  Muffin Chocolate Individual Wrap  ...                       Guinea Fowl   \n2                      Cocoa Butter  ...               Thermometer Digital   \n3                       Guinea Fowl  ...  Muffin Chocolate Individual Wrap   \n4               Thermometer Digital  ...                      Cocoa Butter   \n\n                              75762                             45042  \\\n0                      Cocoa Butter                     Baking Powder   \n1  Muffin Chocolate Individual Wrap               Thermometer Digital   \n2               Thermometer Digital                      Cocoa Butter   \n3                 Veal - Slab Bacon  Muffin Chocolate Individual Wrap   \n4                  Lettuce - Frisee                 Veal - Slab Bacon   \n\n                              59379                77810  \\\n0                       Guinea Fowl        Baking Powder   \n1               Thermometer Digital  Thermometer Digital   \n2                      Cocoa Butter          Guinea Fowl   \n3  Muffin Chocolate Individual Wrap         Cocoa Butter   \n4                 Veal - Slab Bacon    Veal - Slab Bacon   \n\n                              77814                32753  \\\n0  Muffin Chocolate Individual Wrap        Baking Powder   \n1                       Guinea Fowl         Cocoa Butter   \n2               Thermometer Digital          Guinea Fowl   \n3                      Cocoa Butter  Thermometer Digital   \n4                  Lettuce - Frisee    Veal - Slab Bacon   \n\n                              20476                             67582  \\\n0                     Baking Powder                      Cocoa Butter   \n1               Thermometer Digital                       Guinea Fowl   \n2                      Cocoa Butter               Thermometer Digital   \n3                       Guinea Fowl  Muffin Chocolate Individual Wrap   \n4  Muffin Chocolate Individual Wrap                  Lettuce - Frisee   \n\n                              65535  \n0                     Baking Powder  \n1               Thermometer Digital  \n2                      Cocoa Butter  \n3  Muffin Chocolate Individual Wrap  \n4                 Veal - Slab Bacon  \n\n[5 rows x 1000 columns]"
     },
     "execution_count": 21,
     "metadata": {},
     "output_type": "execute_result"
    }
   ],
   "source": [
    "all_cost = {}\n",
    "customers = list(set(data['CustomerID']))\n",
    "\n",
    "list_top_6 = []\n",
    "def f_list_top_5(top_5):\n",
    "    for n in top_5.index:\n",
    "        list_top_6.append(n[1])\n",
    "    list_top_5 = list_top_6[1:6]\n",
    "    return list_top_5\n",
    "\n",
    "def product_recomendation(df, customer):\n",
    "        top_5 = similarities[customer].sort_values(ascending = False).head(6)\n",
    "        list_top_5 = f_list_top_5(top_5)\n",
    "        df1 = df[df['CustomerID'].isin(list_top_5)]\n",
    "        matrix1 = df1.pivot_table(index=[\"ProductName\"], columns=[\"CustomerID\"], values=[\"Quantity\"], aggfunc= 'sum').fillna(0)\n",
    "        matrix1.columns = matrix1.columns.droplevel()\n",
    "        matrix1['Total'] = matrix1.sum(axis = 1)\n",
    "        matrix1.sort_values('Total', ascending = False).head(5)\n",
    "        no_products = list(matrix[matrix[customer] == 0].index)\n",
    "        df2 = matrix1[matrix1.index.isin(no_products)].sort_values('Total', ascending = False).head(5)\n",
    "        recommend_products = list(df2.index)\n",
    "        return recommend_products\n",
    "\n",
    "all_cost = {customer : product_recomendation(df, customer) for customer in customers}\n",
    "\n",
    "df_all_cost = pd.DataFrame(all_cost)\n",
    "df_all_cost.head()\n",
    "    "
   ]
  },
  {
   "cell_type": "markdown",
   "metadata": {},
   "source": [
    "##  Step 9: Store the results in a Pandas data frame. The data frame should a column for Customer ID and then a column for each of the 5 product recommendations for each customer."
   ]
  },
  {
   "cell_type": "code",
   "execution_count": 22,
   "metadata": {},
   "outputs": [
    {
     "data": {
      "text/html": "<div>\n<style scoped>\n    .dataframe tbody tr th:only-of-type {\n        vertical-align: middle;\n    }\n\n    .dataframe tbody tr th {\n        vertical-align: top;\n    }\n\n    .dataframe thead th {\n        text-align: right;\n    }\n</style>\n<table border=\"1\" class=\"dataframe\">\n  <thead>\n    <tr style=\"text-align: right;\">\n      <th></th>\n      <th>0</th>\n      <th>1</th>\n      <th>2</th>\n      <th>3</th>\n      <th>4</th>\n    </tr>\n  </thead>\n  <tbody>\n    <tr>\n      <td>83973</td>\n      <td>Cocoa Butter</td>\n      <td>Veal - Slab Bacon</td>\n      <td>Bandage - Fexible 1x3</td>\n      <td>Ezy Change Mophandle</td>\n      <td>Pop Shoppe Cream Soda</td>\n    </tr>\n    <tr>\n      <td>59399</td>\n      <td>Baking Powder</td>\n      <td>Guinea Fowl</td>\n      <td>Muffin Chocolate Individual Wrap</td>\n      <td>Cocoa Butter</td>\n      <td>Thermometer Digital</td>\n    </tr>\n    <tr>\n      <td>92168</td>\n      <td>Baking Powder</td>\n      <td>Thermometer Digital</td>\n      <td>Muffin Chocolate Individual Wrap</td>\n      <td>Cocoa Butter</td>\n      <td>Veal - Slab Bacon</td>\n    </tr>\n    <tr>\n      <td>49159</td>\n      <td>Baking Powder</td>\n      <td>Thermometer Digital</td>\n      <td>Cocoa Butter</td>\n      <td>Veal - Slab Bacon</td>\n      <td>Lettuce - Frisee</td>\n    </tr>\n    <tr>\n      <td>18441</td>\n      <td>Baking Powder</td>\n      <td>Cocoa Butter</td>\n      <td>Guinea Fowl</td>\n      <td>Veal - Slab Bacon</td>\n      <td>Lettuce - Frisee</td>\n    </tr>\n    <tr>\n      <td>...</td>\n      <td>...</td>\n      <td>...</td>\n      <td>...</td>\n      <td>...</td>\n      <td>...</td>\n    </tr>\n    <tr>\n      <td>77814</td>\n      <td>Muffin Chocolate Individual Wrap</td>\n      <td>Guinea Fowl</td>\n      <td>Thermometer Digital</td>\n      <td>Cocoa Butter</td>\n      <td>Lettuce - Frisee</td>\n    </tr>\n    <tr>\n      <td>32753</td>\n      <td>Baking Powder</td>\n      <td>Cocoa Butter</td>\n      <td>Guinea Fowl</td>\n      <td>Thermometer Digital</td>\n      <td>Veal - Slab Bacon</td>\n    </tr>\n    <tr>\n      <td>20476</td>\n      <td>Baking Powder</td>\n      <td>Thermometer Digital</td>\n      <td>Cocoa Butter</td>\n      <td>Guinea Fowl</td>\n      <td>Muffin Chocolate Individual Wrap</td>\n    </tr>\n    <tr>\n      <td>67582</td>\n      <td>Cocoa Butter</td>\n      <td>Guinea Fowl</td>\n      <td>Thermometer Digital</td>\n      <td>Muffin Chocolate Individual Wrap</td>\n      <td>Lettuce - Frisee</td>\n    </tr>\n    <tr>\n      <td>65535</td>\n      <td>Baking Powder</td>\n      <td>Thermometer Digital</td>\n      <td>Cocoa Butter</td>\n      <td>Muffin Chocolate Individual Wrap</td>\n      <td>Veal - Slab Bacon</td>\n    </tr>\n  </tbody>\n</table>\n<p>1000 rows × 5 columns</p>\n</div>",
      "text/plain": "                                      0                    1  \\\n83973                      Cocoa Butter    Veal - Slab Bacon   \n59399                     Baking Powder          Guinea Fowl   \n92168                     Baking Powder  Thermometer Digital   \n49159                     Baking Powder  Thermometer Digital   \n18441                     Baking Powder         Cocoa Butter   \n...                                 ...                  ...   \n77814  Muffin Chocolate Individual Wrap          Guinea Fowl   \n32753                     Baking Powder         Cocoa Butter   \n20476                     Baking Powder  Thermometer Digital   \n67582                      Cocoa Butter          Guinea Fowl   \n65535                     Baking Powder  Thermometer Digital   \n\n                                      2                                 3  \\\n83973             Bandage - Fexible 1x3              Ezy Change Mophandle   \n59399  Muffin Chocolate Individual Wrap                      Cocoa Butter   \n92168  Muffin Chocolate Individual Wrap                      Cocoa Butter   \n49159                      Cocoa Butter                 Veal - Slab Bacon   \n18441                       Guinea Fowl                 Veal - Slab Bacon   \n...                                 ...                               ...   \n77814               Thermometer Digital                      Cocoa Butter   \n32753                       Guinea Fowl               Thermometer Digital   \n20476                      Cocoa Butter                       Guinea Fowl   \n67582               Thermometer Digital  Muffin Chocolate Individual Wrap   \n65535                      Cocoa Butter  Muffin Chocolate Individual Wrap   \n\n                                      4  \n83973             Pop Shoppe Cream Soda  \n59399               Thermometer Digital  \n92168                 Veal - Slab Bacon  \n49159                  Lettuce - Frisee  \n18441                  Lettuce - Frisee  \n...                                 ...  \n77814                  Lettuce - Frisee  \n32753                 Veal - Slab Bacon  \n20476  Muffin Chocolate Individual Wrap  \n67582                  Lettuce - Frisee  \n65535                 Veal - Slab Bacon  \n\n[1000 rows x 5 columns]"
     },
     "execution_count": 22,
     "metadata": {},
     "output_type": "execute_result"
    }
   ],
   "source": [
    "df_all_cost_transp = df_all_cost.transpose()\n",
    "df_all_cost_transp "
   ]
  },
  {
   "cell_type": "markdown",
   "metadata": {},
   "source": [
    "## Step 10: Change the distance metric used in Step 3 to something other than euclidean (correlation, cityblock, consine, jaccard, etc.). Regenerate the recommendations for all customers and note the differences."
   ]
  },
  {
   "cell_type": "code",
   "execution_count": 28,
   "metadata": {},
   "outputs": [
    {
     "data": {
      "text/html": "<div>\n<style scoped>\n    .dataframe tbody tr th:only-of-type {\n        vertical-align: middle;\n    }\n\n    .dataframe tbody tr th {\n        vertical-align: top;\n    }\n\n    .dataframe thead th {\n        text-align: right;\n    }\n</style>\n<table border=\"1\" class=\"dataframe\">\n  <thead>\n    <tr style=\"text-align: right;\">\n      <th>CustomerID</th>\n      <th>33</th>\n      <th>200</th>\n      <th>264</th>\n      <th>356</th>\n      <th>412</th>\n      <th>464</th>\n      <th>477</th>\n      <th>639</th>\n      <th>649</th>\n      <th>669</th>\n      <th>...</th>\n      <th>97697</th>\n      <th>97753</th>\n      <th>97769</th>\n      <th>97793</th>\n      <th>97900</th>\n      <th>97928</th>\n      <th>98069</th>\n      <th>98159</th>\n      <th>98185</th>\n      <th>98200</th>\n    </tr>\n    <tr>\n      <th>CustomerID</th>\n      <th></th>\n      <th></th>\n      <th></th>\n      <th></th>\n      <th></th>\n      <th></th>\n      <th></th>\n      <th></th>\n      <th></th>\n      <th></th>\n      <th></th>\n      <th></th>\n      <th></th>\n      <th></th>\n      <th></th>\n      <th></th>\n      <th></th>\n      <th></th>\n      <th></th>\n      <th></th>\n      <th></th>\n    </tr>\n  </thead>\n  <tbody>\n    <tr>\n      <td>33</td>\n      <td>1.000000</td>\n      <td>0.530003</td>\n      <td>0.563492</td>\n      <td>0.543546</td>\n      <td>0.542393</td>\n      <td>0.541054</td>\n      <td>0.522016</td>\n      <td>0.530783</td>\n      <td>0.533096</td>\n      <td>0.535293</td>\n      <td>...</td>\n      <td>0.530306</td>\n      <td>0.517987</td>\n      <td>0.527662</td>\n      <td>0.511471</td>\n      <td>0.534181</td>\n      <td>0.513809</td>\n      <td>0.528795</td>\n      <td>0.520208</td>\n      <td>0.529481</td>\n      <td>0.527142</td>\n    </tr>\n    <tr>\n      <td>200</td>\n      <td>0.530003</td>\n      <td>1.000000</td>\n      <td>0.537166</td>\n      <td>0.535098</td>\n      <td>0.521226</td>\n      <td>0.519193</td>\n      <td>0.556945</td>\n      <td>0.516729</td>\n      <td>0.536350</td>\n      <td>0.541451</td>\n      <td>...</td>\n      <td>0.545224</td>\n      <td>0.533067</td>\n      <td>0.555246</td>\n      <td>0.543554</td>\n      <td>0.530308</td>\n      <td>0.521925</td>\n      <td>0.573177</td>\n      <td>0.537284</td>\n      <td>0.526167</td>\n      <td>0.527280</td>\n    </tr>\n    <tr>\n      <td>264</td>\n      <td>0.563492</td>\n      <td>0.537166</td>\n      <td>1.000000</td>\n      <td>0.531963</td>\n      <td>0.550168</td>\n      <td>0.525368</td>\n      <td>0.538967</td>\n      <td>0.514932</td>\n      <td>0.537046</td>\n      <td>0.524193</td>\n      <td>...</td>\n      <td>0.546880</td>\n      <td>0.525550</td>\n      <td>0.535062</td>\n      <td>0.531806</td>\n      <td>0.553085</td>\n      <td>0.560225</td>\n      <td>0.548538</td>\n      <td>0.538340</td>\n      <td>0.554929</td>\n      <td>0.527142</td>\n    </tr>\n    <tr>\n      <td>356</td>\n      <td>0.543546</td>\n      <td>0.535098</td>\n      <td>0.531963</td>\n      <td>1.000000</td>\n      <td>0.525982</td>\n      <td>0.523986</td>\n      <td>0.536792</td>\n      <td>0.540890</td>\n      <td>0.516901</td>\n      <td>0.519482</td>\n      <td>...</td>\n      <td>0.536321</td>\n      <td>0.520565</td>\n      <td>0.533119</td>\n      <td>0.534066</td>\n      <td>0.528874</td>\n      <td>0.530406</td>\n      <td>0.520138</td>\n      <td>0.536202</td>\n      <td>0.544727</td>\n      <td>0.535974</td>\n    </tr>\n    <tr>\n      <td>412</td>\n      <td>0.542393</td>\n      <td>0.521226</td>\n      <td>0.550168</td>\n      <td>0.525982</td>\n      <td>1.000000</td>\n      <td>0.534073</td>\n      <td>0.542308</td>\n      <td>0.547743</td>\n      <td>0.530459</td>\n      <td>0.543050</td>\n      <td>...</td>\n      <td>0.527903</td>\n      <td>0.565369</td>\n      <td>0.528847</td>\n      <td>0.529278</td>\n      <td>0.541674</td>\n      <td>0.536686</td>\n      <td>0.519628</td>\n      <td>0.538710</td>\n      <td>0.546943</td>\n      <td>0.552636</td>\n    </tr>\n    <tr>\n      <td>...</td>\n      <td>...</td>\n      <td>...</td>\n      <td>...</td>\n      <td>...</td>\n      <td>...</td>\n      <td>...</td>\n      <td>...</td>\n      <td>...</td>\n      <td>...</td>\n      <td>...</td>\n      <td>...</td>\n      <td>...</td>\n      <td>...</td>\n      <td>...</td>\n      <td>...</td>\n      <td>...</td>\n      <td>...</td>\n      <td>...</td>\n      <td>...</td>\n      <td>...</td>\n      <td>...</td>\n    </tr>\n    <tr>\n      <td>97928</td>\n      <td>0.513809</td>\n      <td>0.521925</td>\n      <td>0.560225</td>\n      <td>0.530406</td>\n      <td>0.536686</td>\n      <td>0.542873</td>\n      <td>0.540381</td>\n      <td>0.533190</td>\n      <td>0.535224</td>\n      <td>0.526495</td>\n      <td>...</td>\n      <td>0.532674</td>\n      <td>0.539309</td>\n      <td>0.522883</td>\n      <td>0.542570</td>\n      <td>0.569539</td>\n      <td>1.000000</td>\n      <td>0.562050</td>\n      <td>0.543657</td>\n      <td>0.531363</td>\n      <td>0.519127</td>\n    </tr>\n    <tr>\n      <td>98069</td>\n      <td>0.528795</td>\n      <td>0.573177</td>\n      <td>0.548538</td>\n      <td>0.520138</td>\n      <td>0.519628</td>\n      <td>0.520835</td>\n      <td>0.534221</td>\n      <td>0.525789</td>\n      <td>0.531918</td>\n      <td>0.541402</td>\n      <td>...</td>\n      <td>0.529233</td>\n      <td>0.535979</td>\n      <td>0.530224</td>\n      <td>0.518742</td>\n      <td>0.554911</td>\n      <td>0.562050</td>\n      <td>1.000000</td>\n      <td>0.548011</td>\n      <td>0.542143</td>\n      <td>0.536728</td>\n    </tr>\n    <tr>\n      <td>98159</td>\n      <td>0.520208</td>\n      <td>0.537284</td>\n      <td>0.538340</td>\n      <td>0.536202</td>\n      <td>0.538710</td>\n      <td>0.533856</td>\n      <td>0.535601</td>\n      <td>0.535704</td>\n      <td>0.544926</td>\n      <td>0.535721</td>\n      <td>...</td>\n      <td>0.542777</td>\n      <td>0.556893</td>\n      <td>0.535487</td>\n      <td>0.521507</td>\n      <td>0.541404</td>\n      <td>0.543657</td>\n      <td>0.548011</td>\n      <td>1.000000</td>\n      <td>0.543258</td>\n      <td>0.531447</td>\n    </tr>\n    <tr>\n      <td>98185</td>\n      <td>0.529481</td>\n      <td>0.526167</td>\n      <td>0.554929</td>\n      <td>0.544727</td>\n      <td>0.546943</td>\n      <td>0.528842</td>\n      <td>0.527943</td>\n      <td>0.548943</td>\n      <td>0.539210</td>\n      <td>0.518002</td>\n      <td>...</td>\n      <td>0.526429</td>\n      <td>0.509322</td>\n      <td>0.537103</td>\n      <td>0.531411</td>\n      <td>0.529780</td>\n      <td>0.531363</td>\n      <td>0.542143</td>\n      <td>0.543258</td>\n      <td>1.000000</td>\n      <td>0.546336</td>\n    </tr>\n    <tr>\n      <td>98200</td>\n      <td>0.527142</td>\n      <td>0.527280</td>\n      <td>0.527142</td>\n      <td>0.535974</td>\n      <td>0.552636</td>\n      <td>0.552221</td>\n      <td>0.532238</td>\n      <td>0.531706</td>\n      <td>0.519657</td>\n      <td>0.549685</td>\n      <td>...</td>\n      <td>0.531214</td>\n      <td>0.526748</td>\n      <td>0.545760</td>\n      <td>0.525116</td>\n      <td>0.537737</td>\n      <td>0.519127</td>\n      <td>0.536728</td>\n      <td>0.531447</td>\n      <td>0.546336</td>\n      <td>1.000000</td>\n    </tr>\n  </tbody>\n</table>\n<p>1000 rows × 1000 columns</p>\n</div>",
      "text/plain": "CustomerID     33        200       264       356       412       464    \\\nCustomerID                                                               \n33          1.000000  0.530003  0.563492  0.543546  0.542393  0.541054   \n200         0.530003  1.000000  0.537166  0.535098  0.521226  0.519193   \n264         0.563492  0.537166  1.000000  0.531963  0.550168  0.525368   \n356         0.543546  0.535098  0.531963  1.000000  0.525982  0.523986   \n412         0.542393  0.521226  0.550168  0.525982  1.000000  0.534073   \n...              ...       ...       ...       ...       ...       ...   \n97928       0.513809  0.521925  0.560225  0.530406  0.536686  0.542873   \n98069       0.528795  0.573177  0.548538  0.520138  0.519628  0.520835   \n98159       0.520208  0.537284  0.538340  0.536202  0.538710  0.533856   \n98185       0.529481  0.526167  0.554929  0.544727  0.546943  0.528842   \n98200       0.527142  0.527280  0.527142  0.535974  0.552636  0.552221   \n\nCustomerID     477       639       649       669    ...     97697     97753  \\\nCustomerID                                          ...                       \n33          0.522016  0.530783  0.533096  0.535293  ...  0.530306  0.517987   \n200         0.556945  0.516729  0.536350  0.541451  ...  0.545224  0.533067   \n264         0.538967  0.514932  0.537046  0.524193  ...  0.546880  0.525550   \n356         0.536792  0.540890  0.516901  0.519482  ...  0.536321  0.520565   \n412         0.542308  0.547743  0.530459  0.543050  ...  0.527903  0.565369   \n...              ...       ...       ...       ...  ...       ...       ...   \n97928       0.540381  0.533190  0.535224  0.526495  ...  0.532674  0.539309   \n98069       0.534221  0.525789  0.531918  0.541402  ...  0.529233  0.535979   \n98159       0.535601  0.535704  0.544926  0.535721  ...  0.542777  0.556893   \n98185       0.527943  0.548943  0.539210  0.518002  ...  0.526429  0.509322   \n98200       0.532238  0.531706  0.519657  0.549685  ...  0.531214  0.526748   \n\nCustomerID     97769     97793     97900     97928     98069     98159  \\\nCustomerID                                                               \n33          0.527662  0.511471  0.534181  0.513809  0.528795  0.520208   \n200         0.555246  0.543554  0.530308  0.521925  0.573177  0.537284   \n264         0.535062  0.531806  0.553085  0.560225  0.548538  0.538340   \n356         0.533119  0.534066  0.528874  0.530406  0.520138  0.536202   \n412         0.528847  0.529278  0.541674  0.536686  0.519628  0.538710   \n...              ...       ...       ...       ...       ...       ...   \n97928       0.522883  0.542570  0.569539  1.000000  0.562050  0.543657   \n98069       0.530224  0.518742  0.554911  0.562050  1.000000  0.548011   \n98159       0.535487  0.521507  0.541404  0.543657  0.548011  1.000000   \n98185       0.537103  0.531411  0.529780  0.531363  0.542143  0.543258   \n98200       0.545760  0.525116  0.537737  0.519127  0.536728  0.531447   \n\nCustomerID     98185     98200  \nCustomerID                      \n33          0.529481  0.527142  \n200         0.526167  0.527280  \n264         0.554929  0.527142  \n356         0.544727  0.535974  \n412         0.546943  0.552636  \n...              ...       ...  \n97928       0.531363  0.519127  \n98069       0.542143  0.536728  \n98159       0.543258  0.531447  \n98185       1.000000  0.546336  \n98200       0.546336  1.000000  \n\n[1000 rows x 1000 columns]"
     },
     "execution_count": 28,
     "metadata": {},
     "output_type": "execute_result"
    }
   ],
   "source": [
    "def similarity_matrix_metric(df, metric):\n",
    "    return pd.DataFrame(\n",
    "        data = 1 / (1 + squareform(pdist(df.transpose(), metric))),\n",
    "        index = df.columns,\n",
    "        columns = df.columns\n",
    "    )\n",
    "similarities_cosine = similarity_matrix_metric(matrix, 'cosine')\n",
    "# similarities_cosine.columns = similarities_cosine.columns.droplevel()\n",
    "# similarities_transp = similarities_cosine.transpose()\n",
    "# similarities_transp#.columns = similarities_transp.columns.droplevel()\n",
    "# # similarities_transp.columns\n",
    "similarities_cosine"
   ]
  },
  {
   "cell_type": "code",
   "execution_count": 36,
   "metadata": {},
   "outputs": [],
   "source": [
    "# similarities_cosine.columns\n",
    "\n",
    "all_cost = {}\n",
    "customers = list(set(data['CustomerID']))\n",
    "\n",
    "list_top_6 = []\n",
    "def f_list_top_5(top_5):\n",
    "    for n in top_5.index:\n",
    "        list_top_6.append(n[1])\n",
    "    list_top_5 = list_top_6[1:6]\n",
    "    return list_top_5\n",
    "\n",
    "def product_recomendation(df, customer):\n",
    "        top_5 = similarities_cosine[customer].sort_values(ascending = False).head(6)\n",
    "        list_top_5 = f_list_top_5(top_5)\n",
    "        df1 = df[df['CustomerID'].isin(list_top_5)]\n",
    "        matrix1 = df1.pivot_table(index=[\"ProductName\"], columns=[\"CustomerID\"], values=[\"Quantity\"], aggfunc= 'sum').fillna(0)\n",
    "        matrix1.columns = matrix1.columns.droplevel()\n",
    "        matrix1['Total'] = matrix1.sum(axis = 1)\n",
    "        matrix1.sort_values('Total', ascending = False).head(5)\n",
    "        no_products = list(matrix[matrix[customer] == 0].index)\n",
    "        df2 = matrix1[matrix1.index.isin(no_products)].sort_values('Total', ascending = False).head(5)\n",
    "        recommend_products = list(df2.index)\n",
    "        return recommend_products\n",
    "\n",
    "all_cost = {customer : product_recomendation(df, customer) for customer in customers}\n",
    "\n",
    "df_all_cost = pd.DataFrame(all_cost)\n",
    "df_all_cost.head()"
   ]
  },
  {
   "cell_type": "code",
   "execution_count": null,
   "metadata": {},
   "outputs": [],
   "source": []
  }
 ],
 "metadata": {
  "kernelspec": {
   "display_name": "Python 3",
   "language": "python",
   "name": "python3"
  },
  "language_info": {
   "codemirror_mode": {
    "name": "ipython",
    "version": 3
   },
   "file_extension": ".py",
   "mimetype": "text/x-python",
   "name": "python",
   "nbconvert_exporter": "python",
   "pygments_lexer": "ipython3",
   "version": "3.7.0"
  }
 },
 "nbformat": 4,
 "nbformat_minor": 2
}