{
 "cells": [
  {
   "cell_type": "markdown",
   "metadata": {},
   "source": [
    "# Before your start:\n",
    "- Read the README.md file\n",
    "- Comment as much as you can and use the resources (README.md file)\n",
    "- Happy learning!"
   ]
  },
  {
   "cell_type": "code",
   "execution_count": 1,
   "metadata": {},
   "outputs": [],
   "source": [
    "# import numpy and pandas\n",
    "import pandas as pd\n",
    "import numpy as np"
   ]
  },
  {
   "cell_type": "markdown",
   "metadata": {},
   "source": [
    "# Challenge 1 - Exploring the Data\n",
    "\n",
    "In this challenge, we will examine all salaries of employees of the City of Chicago. We will start by loading the dataset and examining its contents"
   ]
  },
  {
   "cell_type": "code",
   "execution_count": 2,
   "metadata": {},
   "outputs": [],
   "source": [
    "# Run this code:\n",
    "\n",
    "salaries = pd.read_csv('../Current_Employee_Names__Salaries__and_Position_Titles.csv')"
   ]
  },
  {
   "cell_type": "markdown",
   "metadata": {},
   "source": [
    "Examine the `salaries` dataset using the `head` function below."
   ]
  },
  {
   "cell_type": "code",
   "execution_count": 3,
   "metadata": {},
   "outputs": [
    {
     "data": {
      "text/html": "<div>\n<style scoped>\n    .dataframe tbody tr th:only-of-type {\n        vertical-align: middle;\n    }\n\n    .dataframe tbody tr th {\n        vertical-align: top;\n    }\n\n    .dataframe thead th {\n        text-align: right;\n    }\n</style>\n<table border=\"1\" class=\"dataframe\">\n  <thead>\n    <tr style=\"text-align: right;\">\n      <th></th>\n      <th>Name</th>\n      <th>Job Titles</th>\n      <th>Department</th>\n      <th>Full or Part-Time</th>\n      <th>Salary or Hourly</th>\n      <th>Typical Hours</th>\n      <th>Annual Salary</th>\n      <th>Hourly Rate</th>\n    </tr>\n  </thead>\n  <tbody>\n    <tr>\n      <td>0</td>\n      <td>AARON,  JEFFERY M</td>\n      <td>SERGEANT</td>\n      <td>POLICE</td>\n      <td>F</td>\n      <td>Salary</td>\n      <td>NaN</td>\n      <td>101442.0</td>\n      <td>NaN</td>\n    </tr>\n    <tr>\n      <td>1</td>\n      <td>AARON,  KARINA</td>\n      <td>POLICE OFFICER (ASSIGNED AS DETECTIVE)</td>\n      <td>POLICE</td>\n      <td>F</td>\n      <td>Salary</td>\n      <td>NaN</td>\n      <td>94122.0</td>\n      <td>NaN</td>\n    </tr>\n    <tr>\n      <td>2</td>\n      <td>AARON,  KIMBERLEI R</td>\n      <td>CHIEF CONTRACT EXPEDITER</td>\n      <td>GENERAL SERVICES</td>\n      <td>F</td>\n      <td>Salary</td>\n      <td>NaN</td>\n      <td>101592.0</td>\n      <td>NaN</td>\n    </tr>\n    <tr>\n      <td>3</td>\n      <td>ABAD JR,  VICENTE M</td>\n      <td>CIVIL ENGINEER IV</td>\n      <td>WATER MGMNT</td>\n      <td>F</td>\n      <td>Salary</td>\n      <td>NaN</td>\n      <td>110064.0</td>\n      <td>NaN</td>\n    </tr>\n    <tr>\n      <td>4</td>\n      <td>ABASCAL,  REECE E</td>\n      <td>TRAFFIC CONTROL AIDE-HOURLY</td>\n      <td>OEMC</td>\n      <td>P</td>\n      <td>Hourly</td>\n      <td>20.0</td>\n      <td>NaN</td>\n      <td>19.86</td>\n    </tr>\n  </tbody>\n</table>\n</div>",
      "text/plain": "                  Name                              Job Titles  \\\n0    AARON,  JEFFERY M                                SERGEANT   \n1      AARON,  KARINA   POLICE OFFICER (ASSIGNED AS DETECTIVE)   \n2  AARON,  KIMBERLEI R                CHIEF CONTRACT EXPEDITER   \n3  ABAD JR,  VICENTE M                       CIVIL ENGINEER IV   \n4    ABASCAL,  REECE E             TRAFFIC CONTROL AIDE-HOURLY   \n\n         Department Full or Part-Time Salary or Hourly  Typical Hours  \\\n0            POLICE                 F           Salary            NaN   \n1            POLICE                 F           Salary            NaN   \n2  GENERAL SERVICES                 F           Salary            NaN   \n3       WATER MGMNT                 F           Salary            NaN   \n4              OEMC                 P           Hourly           20.0   \n\n   Annual Salary  Hourly Rate  \n0       101442.0          NaN  \n1        94122.0          NaN  \n2       101592.0          NaN  \n3       110064.0          NaN  \n4            NaN        19.86  "
     },
     "execution_count": 3,
     "metadata": {},
     "output_type": "execute_result"
    }
   ],
   "source": [
    "# Your code here:\n",
    "salaries.head()"
   ]
  },
  {
   "cell_type": "markdown",
   "metadata": {},
   "source": [
    "We see from looking at the `head` function that there is quite a bit of missing data. Let's examine how much missing data is in each column. Produce this output in the cell below"
   ]
  },
  {
   "cell_type": "code",
   "execution_count": 7,
   "metadata": {},
   "outputs": [
    {
     "name": "stdout",
     "output_type": "stream",
     "text": "33183\nName                 33183\nJob Titles           33183\nDepartment           33183\nFull or Part-Time    33183\nSalary or Hourly     33183\nTypical Hours         8022\nAnnual Salary        25161\nHourly Rate           8022\ndtype: int64\n"
    }
   ],
   "source": [
    "# Your code here:\n",
    "print(len(salaries))\n",
    "print(salaries.notnull().sum())"
   ]
  },
  {
   "cell_type": "markdown",
   "metadata": {},
   "source": [
    "Let's also look at the count of hourly vs. salaried employees. Write the code in the cell below"
   ]
  },
  {
   "cell_type": "code",
   "execution_count": 9,
   "metadata": {},
   "outputs": [
    {
     "data": {
      "text/plain": "Name                 8022\nJob Titles           8022\nDepartment           8022\nFull or Part-Time    8022\nSalary or Hourly     8022\nTypical Hours        8022\nAnnual Salary           0\nHourly Rate          8022\ndtype: int64"
     },
     "execution_count": 9,
     "metadata": {},
     "output_type": "execute_result"
    }
   ],
   "source": [
    "# Your code here:\n",
    "count_salaried = salaries[salaries['Salary or Hourly'] == 'Salary'].count()\n",
    "count_hourly = salaries[salaries['Salary or Hourly'] == 'Hourly'].count()\n",
    "\n",
    "count_salaried\n",
    "count_hourly"
   ]
  },
  {
   "cell_type": "markdown",
   "metadata": {},
   "source": [
    "What this information indicates is that the table contains information about two types of employees - salaried and hourly. Some columns apply only to one type of employee while other columns only apply to another kind. This is why there are so many missing values. Therefore, we will not do anything to handle the missing values."
   ]
  },
  {
   "cell_type": "markdown",
   "metadata": {},
   "source": [
    "There are different departments in the city. List all departments and the count of employees in each department."
   ]
  },
  {
   "cell_type": "code",
   "execution_count": 8,
   "metadata": {},
   "outputs": [
    {
     "data": {
      "text/html": "<div>\n<style scoped>\n    .dataframe tbody tr th:only-of-type {\n        vertical-align: middle;\n    }\n\n    .dataframe tbody tr th {\n        vertical-align: top;\n    }\n\n    .dataframe thead th {\n        text-align: right;\n    }\n</style>\n<table border=\"1\" class=\"dataframe\">\n  <thead>\n    <tr style=\"text-align: right;\">\n      <th></th>\n      <th>Name</th>\n      <th>Job Titles</th>\n      <th>Full or Part-Time</th>\n      <th>Salary or Hourly</th>\n      <th>Typical Hours</th>\n      <th>Annual Salary</th>\n      <th>Hourly Rate</th>\n    </tr>\n    <tr>\n      <th>Department</th>\n      <th></th>\n      <th></th>\n      <th></th>\n      <th></th>\n      <th></th>\n      <th></th>\n      <th></th>\n    </tr>\n  </thead>\n  <tbody>\n    <tr>\n      <td>ADMIN HEARNG</td>\n      <td>39</td>\n      <td>39</td>\n      <td>39</td>\n      <td>39</td>\n      <td>0</td>\n      <td>39</td>\n      <td>0</td>\n    </tr>\n    <tr>\n      <td>ANIMAL CONTRL</td>\n      <td>81</td>\n      <td>81</td>\n      <td>81</td>\n      <td>81</td>\n      <td>19</td>\n      <td>62</td>\n      <td>19</td>\n    </tr>\n    <tr>\n      <td>AVIATION</td>\n      <td>1629</td>\n      <td>1629</td>\n      <td>1629</td>\n      <td>1629</td>\n      <td>1082</td>\n      <td>547</td>\n      <td>1082</td>\n    </tr>\n    <tr>\n      <td>BOARD OF ELECTION</td>\n      <td>107</td>\n      <td>107</td>\n      <td>107</td>\n      <td>107</td>\n      <td>0</td>\n      <td>107</td>\n      <td>0</td>\n    </tr>\n    <tr>\n      <td>BOARD OF ETHICS</td>\n      <td>8</td>\n      <td>8</td>\n      <td>8</td>\n      <td>8</td>\n      <td>0</td>\n      <td>8</td>\n      <td>0</td>\n    </tr>\n    <tr>\n      <td>BUDGET &amp; MGMT</td>\n      <td>46</td>\n      <td>46</td>\n      <td>46</td>\n      <td>46</td>\n      <td>2</td>\n      <td>44</td>\n      <td>2</td>\n    </tr>\n    <tr>\n      <td>BUILDINGS</td>\n      <td>269</td>\n      <td>269</td>\n      <td>269</td>\n      <td>269</td>\n      <td>0</td>\n      <td>269</td>\n      <td>0</td>\n    </tr>\n    <tr>\n      <td>BUSINESS AFFAIRS</td>\n      <td>171</td>\n      <td>171</td>\n      <td>171</td>\n      <td>171</td>\n      <td>7</td>\n      <td>164</td>\n      <td>7</td>\n    </tr>\n    <tr>\n      <td>CITY CLERK</td>\n      <td>84</td>\n      <td>84</td>\n      <td>84</td>\n      <td>84</td>\n      <td>0</td>\n      <td>84</td>\n      <td>0</td>\n    </tr>\n    <tr>\n      <td>CITY COUNCIL</td>\n      <td>411</td>\n      <td>411</td>\n      <td>411</td>\n      <td>411</td>\n      <td>64</td>\n      <td>347</td>\n      <td>64</td>\n    </tr>\n    <tr>\n      <td>COMMUNITY DEVELOPMENT</td>\n      <td>207</td>\n      <td>207</td>\n      <td>207</td>\n      <td>207</td>\n      <td>4</td>\n      <td>203</td>\n      <td>4</td>\n    </tr>\n    <tr>\n      <td>COPA</td>\n      <td>116</td>\n      <td>116</td>\n      <td>116</td>\n      <td>116</td>\n      <td>0</td>\n      <td>116</td>\n      <td>0</td>\n    </tr>\n    <tr>\n      <td>CULTURAL AFFAIRS</td>\n      <td>65</td>\n      <td>65</td>\n      <td>65</td>\n      <td>65</td>\n      <td>7</td>\n      <td>58</td>\n      <td>7</td>\n    </tr>\n    <tr>\n      <td>DISABILITIES</td>\n      <td>28</td>\n      <td>28</td>\n      <td>28</td>\n      <td>28</td>\n      <td>0</td>\n      <td>28</td>\n      <td>0</td>\n    </tr>\n    <tr>\n      <td>DoIT</td>\n      <td>99</td>\n      <td>99</td>\n      <td>99</td>\n      <td>99</td>\n      <td>0</td>\n      <td>99</td>\n      <td>0</td>\n    </tr>\n    <tr>\n      <td>FAMILY &amp; SUPPORT</td>\n      <td>615</td>\n      <td>615</td>\n      <td>615</td>\n      <td>615</td>\n      <td>287</td>\n      <td>328</td>\n      <td>287</td>\n    </tr>\n    <tr>\n      <td>FINANCE</td>\n      <td>560</td>\n      <td>560</td>\n      <td>560</td>\n      <td>560</td>\n      <td>44</td>\n      <td>516</td>\n      <td>44</td>\n    </tr>\n    <tr>\n      <td>FIRE</td>\n      <td>4641</td>\n      <td>4641</td>\n      <td>4641</td>\n      <td>4641</td>\n      <td>2</td>\n      <td>4639</td>\n      <td>2</td>\n    </tr>\n    <tr>\n      <td>GENERAL SERVICES</td>\n      <td>980</td>\n      <td>980</td>\n      <td>980</td>\n      <td>980</td>\n      <td>765</td>\n      <td>215</td>\n      <td>765</td>\n    </tr>\n    <tr>\n      <td>HEALTH</td>\n      <td>488</td>\n      <td>488</td>\n      <td>488</td>\n      <td>488</td>\n      <td>3</td>\n      <td>485</td>\n      <td>3</td>\n    </tr>\n    <tr>\n      <td>HUMAN RELATIONS</td>\n      <td>16</td>\n      <td>16</td>\n      <td>16</td>\n      <td>16</td>\n      <td>0</td>\n      <td>16</td>\n      <td>0</td>\n    </tr>\n    <tr>\n      <td>HUMAN RESOURCES</td>\n      <td>79</td>\n      <td>79</td>\n      <td>79</td>\n      <td>79</td>\n      <td>4</td>\n      <td>75</td>\n      <td>4</td>\n    </tr>\n    <tr>\n      <td>INSPECTOR GEN</td>\n      <td>87</td>\n      <td>87</td>\n      <td>87</td>\n      <td>87</td>\n      <td>0</td>\n      <td>87</td>\n      <td>0</td>\n    </tr>\n    <tr>\n      <td>LAW</td>\n      <td>407</td>\n      <td>407</td>\n      <td>407</td>\n      <td>407</td>\n      <td>40</td>\n      <td>367</td>\n      <td>40</td>\n    </tr>\n    <tr>\n      <td>LICENSE APPL COMM</td>\n      <td>1</td>\n      <td>1</td>\n      <td>1</td>\n      <td>1</td>\n      <td>0</td>\n      <td>1</td>\n      <td>0</td>\n    </tr>\n    <tr>\n      <td>MAYOR'S OFFICE</td>\n      <td>85</td>\n      <td>85</td>\n      <td>85</td>\n      <td>85</td>\n      <td>8</td>\n      <td>77</td>\n      <td>8</td>\n    </tr>\n    <tr>\n      <td>OEMC</td>\n      <td>2102</td>\n      <td>2102</td>\n      <td>2102</td>\n      <td>2102</td>\n      <td>1273</td>\n      <td>829</td>\n      <td>1273</td>\n    </tr>\n    <tr>\n      <td>POLICE</td>\n      <td>13414</td>\n      <td>13414</td>\n      <td>13414</td>\n      <td>13414</td>\n      <td>10</td>\n      <td>13404</td>\n      <td>10</td>\n    </tr>\n    <tr>\n      <td>POLICE BOARD</td>\n      <td>2</td>\n      <td>2</td>\n      <td>2</td>\n      <td>2</td>\n      <td>0</td>\n      <td>2</td>\n      <td>0</td>\n    </tr>\n    <tr>\n      <td>PROCUREMENT</td>\n      <td>92</td>\n      <td>92</td>\n      <td>92</td>\n      <td>92</td>\n      <td>2</td>\n      <td>90</td>\n      <td>2</td>\n    </tr>\n    <tr>\n      <td>PUBLIC LIBRARY</td>\n      <td>1015</td>\n      <td>1015</td>\n      <td>1015</td>\n      <td>1015</td>\n      <td>299</td>\n      <td>716</td>\n      <td>299</td>\n    </tr>\n    <tr>\n      <td>STREETS &amp; SAN</td>\n      <td>2198</td>\n      <td>2198</td>\n      <td>2198</td>\n      <td>2198</td>\n      <td>1862</td>\n      <td>336</td>\n      <td>1862</td>\n    </tr>\n    <tr>\n      <td>TRANSPORTN</td>\n      <td>1140</td>\n      <td>1140</td>\n      <td>1140</td>\n      <td>1140</td>\n      <td>725</td>\n      <td>415</td>\n      <td>725</td>\n    </tr>\n    <tr>\n      <td>TREASURER</td>\n      <td>22</td>\n      <td>22</td>\n      <td>22</td>\n      <td>22</td>\n      <td>0</td>\n      <td>22</td>\n      <td>0</td>\n    </tr>\n    <tr>\n      <td>WATER MGMNT</td>\n      <td>1879</td>\n      <td>1879</td>\n      <td>1879</td>\n      <td>1879</td>\n      <td>1513</td>\n      <td>366</td>\n      <td>1513</td>\n    </tr>\n  </tbody>\n</table>\n</div>",
      "text/plain": "                        Name  Job Titles  Full or Part-Time  Salary or Hourly  \\\nDepartment                                                                      \nADMIN HEARNG              39          39                 39                39   \nANIMAL CONTRL             81          81                 81                81   \nAVIATION                1629        1629               1629              1629   \nBOARD OF ELECTION        107         107                107               107   \nBOARD OF ETHICS            8           8                  8                 8   \nBUDGET & MGMT             46          46                 46                46   \nBUILDINGS                269         269                269               269   \nBUSINESS AFFAIRS         171         171                171               171   \nCITY CLERK                84          84                 84                84   \nCITY COUNCIL             411         411                411               411   \nCOMMUNITY DEVELOPMENT    207         207                207               207   \nCOPA                     116         116                116               116   \nCULTURAL AFFAIRS          65          65                 65                65   \nDISABILITIES              28          28                 28                28   \nDoIT                      99          99                 99                99   \nFAMILY & SUPPORT         615         615                615               615   \nFINANCE                  560         560                560               560   \nFIRE                    4641        4641               4641              4641   \nGENERAL SERVICES         980         980                980               980   \nHEALTH                   488         488                488               488   \nHUMAN RELATIONS           16          16                 16                16   \nHUMAN RESOURCES           79          79                 79                79   \nINSPECTOR GEN             87          87                 87                87   \nLAW                      407         407                407               407   \nLICENSE APPL COMM          1           1                  1                 1   \nMAYOR'S OFFICE            85          85                 85                85   \nOEMC                    2102        2102               2102              2102   \nPOLICE                 13414       13414              13414             13414   \nPOLICE BOARD               2           2                  2                 2   \nPROCUREMENT               92          92                 92                92   \nPUBLIC LIBRARY          1015        1015               1015              1015   \nSTREETS & SAN           2198        2198               2198              2198   \nTRANSPORTN              1140        1140               1140              1140   \nTREASURER                 22          22                 22                22   \nWATER MGMNT             1879        1879               1879              1879   \n\n                       Typical Hours  Annual Salary  Hourly Rate  \nDepartment                                                        \nADMIN HEARNG                       0             39            0  \nANIMAL CONTRL                     19             62           19  \nAVIATION                        1082            547         1082  \nBOARD OF ELECTION                  0            107            0  \nBOARD OF ETHICS                    0              8            0  \nBUDGET & MGMT                      2             44            2  \nBUILDINGS                          0            269            0  \nBUSINESS AFFAIRS                   7            164            7  \nCITY CLERK                         0             84            0  \nCITY COUNCIL                      64            347           64  \nCOMMUNITY DEVELOPMENT              4            203            4  \nCOPA                               0            116            0  \nCULTURAL AFFAIRS                   7             58            7  \nDISABILITIES                       0             28            0  \nDoIT                               0             99            0  \nFAMILY & SUPPORT                 287            328          287  \nFINANCE                           44            516           44  \nFIRE                               2           4639            2  \nGENERAL SERVICES                 765            215          765  \nHEALTH                             3            485            3  \nHUMAN RELATIONS                    0             16            0  \nHUMAN RESOURCES                    4             75            4  \nINSPECTOR GEN                      0             87            0  \nLAW                               40            367           40  \nLICENSE APPL COMM                  0              1            0  \nMAYOR'S OFFICE                     8             77            8  \nOEMC                            1273            829         1273  \nPOLICE                            10          13404           10  \nPOLICE BOARD                       0              2            0  \nPROCUREMENT                        2             90            2  \nPUBLIC LIBRARY                   299            716          299  \nSTREETS & SAN                   1862            336         1862  \nTRANSPORTN                       725            415          725  \nTREASURER                          0             22            0  \nWATER MGMNT                     1513            366         1513  "
     },
     "execution_count": 8,
     "metadata": {},
     "output_type": "execute_result"
    }
   ],
   "source": [
    "# Your code here:\n",
    "count_department = salaries.groupby('Department').count()\n",
    "count_department\n"
   ]
  },
  {
   "cell_type": "markdown",
   "metadata": {},
   "source": [
    "# Challenge 2 - Hypothesis Tests\n",
    "\n",
    "In this section of the lab, we will test whether the hourly wage of all hourly workers is significantly different from $30/hr. Import the correct one sample test function from scipy and perform the hypothesis test for a 95% two sided confidence interval."
   ]
  },
  {
   "cell_type": "code",
   "execution_count": 44,
   "metadata": {},
   "outputs": [],
   "source": [
    "def decimal_str(x: float, decimals: int = 10) -> str:\n",
    "    return format(x, f\".{decimals}f\").lstrip().rstrip('0')\n",
    "\n",
    "def interpret(alpha, p_val):\n",
    "    print(f\"Probability results occurred by chance: {decimal_str(p_val, 30)}.\\nIs our p-value less than the alpha? {'Yes. We reject the null hypothesis! Kill it with fire!' if p_val < alpha else 'No. Our null hypothesis is correct.'}\")"
   ]
  },
  {
   "cell_type": "code",
   "execution_count": 12,
   "metadata": {},
   "outputs": [
    {
     "name": "stdout",
     "output_type": "stream",
     "text": "4.3230240486229894e-92 : The lower the probability value (“p-value”), the less likely the difference between our null hypothesis and our data occurred by chance. If the p-value falls below a certain threshold (i.e., the “alpha”, typically 0.05), then we reject our null hypothesis.\n"
    }
   ],
   "source": [
    "# Your code here:\n",
    "from scipy.stats import ttest_1samp\n",
    "\n",
    "alpha = .05\n",
    "\n",
    "expected_mean = 30\n",
    "\n",
    "hourly_rate = salaries[salaries['Hourly Rate'].notnull()] ['Hourly Rate']\n",
    "\n",
    "p_val = ttest_1samp(\n",
    "    hourly_rate, #observations\n",
    "    expected_mean\n",
    ")[1]\n",
    "\n",
    "p_val\n",
    "\n",
    "print(p_val , \": The lower the probability value (“p-value”), the less likely the difference between our null hypothesis and our data occurred by chance. If the p-value falls below a certain threshold (i.e., the “alpha”, typically 0.05), then we reject our null hypothesis.\")\n"
   ]
  },
  {
   "cell_type": "markdown",
   "metadata": {},
   "source": [
    "We are also curious about salaries in the police force. The chief of police in Chicago claimed in a press briefing that salaries this year are higher than last year's mean of $86000/year a year for all salaried employees. Test this one sided hypothesis using a 95% confidence interval.\n",
    "\n",
    "Hint: A one tailed test has a p-value that is half of the two tailed p-value. If our hypothesis is greater than, then to reject, the test statistic must also be positive."
   ]
  },
  {
   "cell_type": "code",
   "execution_count": 13,
   "metadata": {},
   "outputs": [
    {
     "data": {
      "text/plain": "True"
     },
     "execution_count": 13,
     "metadata": {},
     "output_type": "execute_result"
    }
   ],
   "source": [
    "# Your code here:\n",
    "salary = salaries[salaries['Annual Salary'].notnull()]['Annual Salary']\n",
    "#salary.mean()\n",
    "#null_hypothesis = 86000\n",
    "t_stat, p_val = ttest_1samp(salary, 86000)\n",
    "p_val / 2 < 0.05"
   ]
  },
  {
   "cell_type": "markdown",
   "metadata": {},
   "source": [
    "Using the `crosstab` function, find the department that has the most hourly workers. "
   ]
  },
  {
   "cell_type": "code",
   "execution_count": 14,
   "metadata": {},
   "outputs": [
    {
     "data": {
      "text/plain": "Department\nANIMAL CONTRL              19\nAVIATION                 1082\nBUDGET & MGMT               2\nBUSINESS AFFAIRS            7\nCITY COUNCIL               64\nCOMMUNITY DEVELOPMENT       4\nCULTURAL AFFAIRS            7\nFAMILY & SUPPORT          287\nFINANCE                    44\nFIRE                        2\nGENERAL SERVICES          765\nHEALTH                      3\nHUMAN RESOURCES             4\nLAW                        40\nMAYOR'S OFFICE              8\nOEMC                     1273\nPOLICE                     10\nPROCUREMENT                 2\nPUBLIC LIBRARY            299\nSTREETS & SAN            1862\nTRANSPORTN                725\nWATER MGMNT              1513\ndtype: int64"
     },
     "execution_count": 14,
     "metadata": {},
     "output_type": "execute_result"
    }
   ],
   "source": [
    "# Your code here:\n",
    "table = pd.crosstab(salaries[\"Hourly Rate\"], salaries['Department'])\n",
    "table.sum()"
   ]
  },
  {
   "cell_type": "markdown",
   "metadata": {},
   "source": [
    "The workers from the department with the most hourly workers have complained that their hourly wage is less than $35/hour. Using a one sample t-test, test this one-sided hypothesis at the 95% confidence level."
   ]
  },
  {
   "cell_type": "code",
   "execution_count": 54,
   "metadata": {},
   "outputs": [
    {
     "data": {
      "text/plain": "1.6689265282353859e-21"
     },
     "execution_count": 54,
     "metadata": {},
     "output_type": "execute_result"
    }
   ],
   "source": [
    "# Your code here:\n",
    "streets = salaries.query(\"Department == 'STREETS & SAN'\")\n",
    "street_hourly = streets[streets['Hourly Rate'].notnull()]['Hourly Rate']\n",
    "# street-hourly.head()\n",
    "# street-hourly.mean()\n",
    "t_stat, p_val = ttest_1samp(street_hourly, 35)\n",
    "p_val / 2"
   ]
  },
  {
   "cell_type": "markdown",
   "metadata": {},
   "source": [
    "# Challenge 3 - Constructing Confidence Intervals\n",
    "\n",
    "While testing our hypothesis is a great way to gather empirical evidence for accepting or rejecting the hypothesis, another way to gather evidence is by creating a confidence interval. A confidence interval gives us information about the true mean of the population. So for a 95% confidence interval, we are 95% sure that the mean of the population is within the confidence interval. \n",
    ").\n",
    "\n",
    "To read more about confidence intervals, click [here](https://en.wikipedia.org/wiki/Confidence_interval).\n",
    "\n",
    "\n",
    "In the cell below, we will construct a 95% confidence interval for the mean hourly wage of all hourly workers. \n",
    "\n",
    "The confidence interval is computed in SciPy using the `t.interval` function. You can read more about this function [here](https://docs.scipy.org/doc/scipy-0.14.0/reference/generated/scipy.stats.t.html).\n",
    "\n",
    "To compute the confidence interval of the hourly wage, use the 0.95 for the confidence level, number of rows - 1 for degrees of freedom, the mean of the sample for the location parameter and the standard error for the scale. The standard error can be computed using [this](https://docs.scipy.org/doc/scipy/reference/generated/scipy.stats.sem.html) function in SciPy."
   ]
  },
  {
   "cell_type": "code",
   "execution_count": 24,
   "metadata": {},
   "outputs": [
    {
     "data": {
      "text/plain": "(0.11176684080601208, 0.26823315919398794)"
     },
     "execution_count": 24,
     "metadata": {},
     "output_type": "execute_result"
    }
   ],
   "source": [
    "# Your code here:\n",
    "from scipy.stats import t, sem\n",
    "sample = salaries.sample(n = 100)['Hourly Rate'].notnull()\n",
    "\n",
    "lower, upper = t.interval(\n",
    "    1 - alpha, #confidence level\n",
    "    len(sample) - 1, # degrees of freedom\n",
    "    loc = sample.mean(), # sample mean\n",
    "    scale = sem(sample) # sample SEM\n",
    ")\n",
    "lower, upper"
   ]
  },
  {
   "cell_type": "markdown",
   "metadata": {},
   "source": [
    "Now construct the 95% confidence interval for all salaried employeed in the police in the cell below."
   ]
  },
  {
   "cell_type": "code",
   "execution_count": 25,
   "metadata": {},
   "outputs": [
    {
     "data": {
      "text/plain": "(0.6973904607296008, 0.8626095392703993)"
     },
     "execution_count": 25,
     "metadata": {},
     "output_type": "execute_result"
    }
   ],
   "source": [
    "# Your code here:\n",
    "from scipy.stats import t, sem\n",
    "sample = salaries.sample(n = 100)['Annual Salary'].notnull()\n",
    "\n",
    "lower, upper = t.interval(\n",
    "    1 - alpha, #confidence level\n",
    "    len(sample) - 1, # degrees of freedom\n",
    "    loc = sample.mean(), # sample mean\n",
    "    scale = sem(sample) # sample SEM\n",
    ")\n",
    "lower, upper"
   ]
  },
  {
   "cell_type": "markdown",
   "metadata": {},
   "source": [
    "# Challenge 4 - Hypothesis Tests of Proportions\n",
    "\n",
    "Another type of one sample test is a hypothesis test of proportions. In this test, we examine whether the proportion of a group in our sample is significantly different than a fraction. \n",
    "\n",
    "You can read more about one sample proportion tests [here](http://sphweb.bumc.bu.edu/otlt/MPH-Modules/BS/SAS/SAS6-CategoricalData/SAS6-CategoricalData2.html).\n",
    "\n",
    "In the cell below, use the `proportions_ztest` function from `statsmodels` to perform a hypothesis test that will determine whether the number of hourly workers in the City of Chicago is significantly different from 25% at the 95% confidence level."
   ]
  },
  {
   "cell_type": "code",
   "execution_count": null,
   "metadata": {},
   "outputs": [],
   "source": [
    "from statsmodels.stats.proportion import proportions_ztest\n",
    "\n",
    "sample = salaries.sample(n = 100)\n",
    "chicago = sample.query(\"City == 'Chicago'\")\n",
    "chicago_hourly = chicago[chicago['Hourly Rate'].notnull()].shape[0]\n",
    "\n",
    "prob_chicago_hourly = chicago_hourly / sample.shape[0]\n",
    "\n",
    "p_val = proportions_ztest(\n",
    "    chicago_hourly, # number of hourly workers in the City of Chicago\n",
    "    sample.shape[0], # number of total observations\n",
    "    prob_chicago_hourly # Probability to which we're comparing hourly workers in the City of Chicago\n",
    ")[1] / 2 "
   ]
  }
 ],
 "metadata": {
  "kernelspec": {
   "display_name": "Python 3",
   "language": "python",
   "name": "python3"
  },
  "language_info": {
   "codemirror_mode": {
    "name": "ipython",
    "version": 3
   },
   "file_extension": ".py",
   "mimetype": "text/x-python",
   "name": "python",
   "nbconvert_exporter": "python",
   "pygments_lexer": "ipython3",
   "version": "3.7.3"
  }
 },
 "nbformat": 4,
 "nbformat_minor": 2
}