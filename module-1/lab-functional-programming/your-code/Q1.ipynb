{
 "cells": [
  {
   "cell_type": "markdown",
   "metadata": {},
   "source": [
    "In the cell below, create a Python function that wraps your previous solution for the Bag of Words lab.\n",
    "\n",
    "Requirements:\n",
    "\n",
    "1. Your function should accept the following parameters:\n",
    "    * `docs` [REQUIRED] - array of document paths.\n",
    "    * `stop_words` [OPTIONAL] - array of stop words. The default value is an empty array.\n",
    "\n",
    "1. Your function should return a Python object that contains the following:\n",
    "    * `bag_of_words` - array of strings of normalized unique words in the corpus.\n",
    "    * `term_freq` - array of the term-frequency vectors."
   ]
  },
  {
   "cell_type": "code",
   "execution_count": 9,
   "metadata": {},
   "outputs": [],
   "source": [
    "# Import required libraries\n",
    "\n",
    "# Define function\n",
    "def get_bow_from_docs(docs, stop_words=[]):\n",
    "    \n",
    "    # In the function, first define the variables you will use such as `corpus`, `bag_of_words`, and `term_freq`.\n",
    "    \n",
    "    corpus = []\n",
    "    bag_of_words = []\n",
    "    term_freq = []\n",
    "    \n",
    "    \"\"\"\n",
    "    Loop `docs` and read the content of each doc into a string in `corpus`.\n",
    "    Remember to convert the doc content to lowercases and remove punctuation.\n",
    "    \"\"\"\n",
    "\n",
    "    corpus = [open(doc,\"r\").read() for doc in docs]\n",
    "    corpus = [line.lower().rstrip('.') for line in corpus]\n",
    "    \n",
    "    \"\"\"\n",
    "    Loop `corpus`. Append the terms in each doc into the `bag_of_words` array. The terms in `bag_of_words` \n",
    "    should be unique which means before adding each term you need to check if it's already added to the array.\n",
    "    In addition, check if each term is in the `stop_words` array. Only append the term to `bag_of_words`\n",
    "    if it is not a stop word.\n",
    "    \"\"\"\n",
    "\n",
    "    for string in corpus:\n",
    "        for term in string.split(' '):\n",
    "            if term not in bag_of_words and term not in stop_words:\n",
    "                bag_of_words.append(term)\n",
    "    \n",
    "    \n",
    "    \"\"\"\n",
    "    Loop `corpus` again. For each doc string, count the number of occurrences of each term in `bag_of_words`. \n",
    "    Create an array for each doc's term frequency and append it to `term_freq`.\n",
    "    \"\"\"\n",
    "\n",
    "    for string in corpus:\n",
    "        term_freq_temp = []\n",
    "        for term in bag_of_words:\n",
    "            if term in string.split(' '):\n",
    "                term_freq_temp.append(1)\n",
    "            else:\n",
    "                term_freq_temp.append(0)\n",
    "        term_freq.append(term_freq_temp)\n",
    "    \n",
    "    # Now return your output as an object\n",
    "    return {\n",
    "        \"bag_of_words\": bag_of_words,\n",
    "        \"term_freq\": term_freq\n",
    "    }\n",
    "\n",
    "    "
   ]
  },
  {
   "cell_type": "markdown",
   "metadata": {},
   "source": [
    "Test your function without stop words. You should see the output like below:\n",
    "\n",
    "```{'bag_of_words': ['ironhack', 'is', 'cool', 'i', 'love', 'am', 'a', 'student', 'at'], 'term_freq': [[1, 1, 1, 0, 0, 0, 0, 0, 0], [1, 0, 0, 1, 1, 0, 0, 0, 0], [1, 0, 0, 1, 0, 1, 1, 1, 1]]}```"
   ]
  },
  {
   "cell_type": "code",
   "execution_count": 16,
   "metadata": {},
   "outputs": [
    {
     "name": "stdout",
     "output_type": "stream",
     "text": [
      "{'bag_of_words': ['ironhack', 'is', 'cool', 'i', 'love', 'am', 'a', 'student', 'at'], 'term_freq': [[1, 1, 1, 0, 0, 0, 0, 0, 0], [1, 0, 0, 1, 1, 0, 0, 0, 0], [1, 0, 0, 1, 0, 1, 1, 1, 1]]}\n"
     ]
    }
   ],
   "source": [
    "# Define doc paths array\n",
    "path = \"../../lab-string-operations/your-code\"\n",
    "docs = [path + '/doc1.txt', path + '/doc2.txt', path + '/doc3.txt']\n",
    "\n",
    "# Obtain BoW from your function\n",
    "bow = get_bow_from_docs(docs)\n",
    "\n",
    "# Print BoW\n",
    "print(bow)"
   ]
  },
  {
   "cell_type": "markdown",
   "metadata": {},
   "source": [
    "If your attempt above is successful, nice work done!\n",
    "\n",
    "Now test your function again with the stop words. In the previous lab we defined the stop words in a large array. In this lab, we'll import the stop words from Scikit-Learn."
   ]
  },
  {
   "cell_type": "code",
   "execution_count": 14,
   "metadata": {},
   "outputs": [
    {
     "name": "stdout",
     "output_type": "stream",
     "text": [
      "frozenset({'you', 'everyone', 'should', 'empty', 'interest', 'nevertheless', 'thereafter', 'seemed', 'eg', 'is', 'forty', 'first', 'by', 'mine', 'rather', 'both', 'am', 'none', 'were', 'again', 'nor', 'amount', 'hundred', 'himself', 'what', 'since', 'could', 'be', 'during', 'seems', 'into', 'take', 'another', 'across', 'inc', 'almost', 'somehow', 'yourself', 'down', 'thick', 'made', 'move', 'thin', 'co', 'someone', 'call', 'ourselves', 'she', 'meanwhile', 'amongst', 'ie', 'are', 'ten', 'their', 'even', 'fill', 'alone', 'four', 'every', 'show', 'mostly', 'becoming', 'found', 'nine', 'much', 'done', 'beyond', 'some', 'eight', 'whom', 'besides', 'might', 'cant', 'once', 'those', 'formerly', 'being', 'above', 'back', 'hereby', 'whether', 'sometime', 'except', 'no', 'wherein', 'to', 'put', 'me', 'see', 'thru', 'under', 'after', 'everything', 'where', 'elsewhere', 'below', 'when', 'fifty', 'one', 'still', 'he', 'often', 'among', 'around', 'thereupon', 'we', 'thereby', 'bill', 'ours', 'upon', 'whole', 'less', 'everywhere', 'latter', 'against', 'anywhere', 'whenever', 'because', 'same', 'front', 'third', 'moreover', 'seeming', 'few', 'un', 'ltd', 'hers', 'had', 'as', 'more', 'yourselves', 'describe', 'noone', 'now', 'de', 'an', 'must', 'bottom', 'though', 'his', 'neither', 'part', 'sixty', 'of', 'him', 'couldnt', 'get', 'very', 'beforehand', 'hence', 'there', 'therefore', 'whereby', 'from', 'itself', 'five', 'well', 'con', 'this', 'never', 'always', 'cry', 'other', 'please', 'along', 'therein', 'two', 'about', 'twenty', 'its', 'our', 'all', 'anyway', 'find', 'and', 'hasnt', 'any', 'only', 'many', 'whither', 'so', 'than', 'seem', 'already', 'otherwise', 'was', 'these', 'due', 'become', 'us', 'indeed', 'until', 'via', 'will', 'nothing', 'within', 'enough', 'full', 'whence', 'etc', 'whatever', 'herself', 'namely', 'a', 'go', 'give', 'anyone', 'own', 'then', 'sincere', 'nowhere', 'either', 'how', 'whoever', 'off', 'here', 'ever', 'have', 'amoungst', 'each', 'do', 'next', 'hereafter', 'perhaps', 'that', 'however', 'who', 'if', 'system', 'your', 'twelve', 'would', 'why', 'although', 'serious', 'fire', 'whereupon', 'side', 'my', 'without', 'keep', 'them', 'while', 'yours', 'nobody', 'whereas', 'former', 'but', 'somewhere', 'toward', 'became', 'at', 'it', 'last', 'the', 'whose', 'wherever', 'herein', 'else', 'least', 'or', 'out', 'sometimes', 'such', 'behind', 'her', 'together', 'i', 'fifteen', 'they', 'towards', 're', 'has', 'for', 'themselves', 'up', 'anything', 'latterly', 'top', 'which', 'six', 'myself', 'on', 'before', 'between', 'with', 'thus', 'further', 'hereupon', 'over', 'eleven', 'thence', 'most', 'beside', 'yet', 'per', 'can', 'too', 'cannot', 'been', 'in', 'anyhow', 'through', 'onto', 'several', 'not', 'throughout', 'something', 'detail', 'may', 'also', 'afterwards', 'becomes', 'mill', 'three', 'whereafter', 'name', 'others'})\n"
     ]
    }
   ],
   "source": [
    "from sklearn.feature_extraction import stop_words\n",
    "print(stop_words.ENGLISH_STOP_WORDS)"
   ]
  },
  {
   "cell_type": "markdown",
   "metadata": {},
   "source": [
    "You should have seen a large list of words that looks like:\n",
    "\n",
    "```frozenset({'across', 'mine', 'cannot', ...})```\n",
    "\n",
    "`frozenset` is a type of Python object that is immutable. In this lab you can use it just like an array without conversion."
   ]
  },
  {
   "cell_type": "markdown",
   "metadata": {},
   "source": [
    "Next, test your function with supplying `stop_words.ENGLISH_STOP_WORDS` as the second parameter."
   ]
  },
  {
   "cell_type": "code",
   "execution_count": 20,
   "metadata": {},
   "outputs": [
    {
     "name": "stdout",
     "output_type": "stream",
     "text": [
      "{'bag_of_words': ['ironhack', 'cool', 'love', 'student'], 'term_freq': [[1, 1, 0, 0], [1, 0, 1, 0], [1, 0, 0, 1]]}\n"
     ]
    }
   ],
   "source": [
    "bow = get_bow_from_docs(docs, stop_words.ENGLISH_STOP_WORDS)\n",
    "\n",
    "print(bow)"
   ]
  },
  {
   "cell_type": "markdown",
   "metadata": {},
   "source": [
    "You should have seen:\n",
    "\n",
    "```{'bag_of_words': ['ironhack', 'cool', 'love', 'student'], 'term_freq': [[1, 1, 0, 0], [1, 0, 1, 0], [1, 0, 0, 1]]}```"
   ]
  },
  {
   "cell_type": "code",
   "execution_count": null,
   "metadata": {},
   "outputs": [],
   "source": []
  }
 ],
 "metadata": {
  "kernelspec": {
   "display_name": "Python 3",
   "language": "python",
   "name": "python3"
  },
  "language_info": {
   "codemirror_mode": {
    "name": "ipython",
    "version": 3
   },
   "file_extension": ".py",
   "mimetype": "text/x-python",
   "name": "python",
   "nbconvert_exporter": "python",
   "pygments_lexer": "ipython3",
   "version": "3.7.3"
  }
 },
 "nbformat": 4,
 "nbformat_minor": 2
}
