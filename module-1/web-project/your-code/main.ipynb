{
 "cells": [
  {
   "cell_type": "markdown",
   "metadata": {},
   "source": [
    "# Project: API and Web Data Scraping"
   ]
  },
  {
   "cell_type": "markdown",
   "metadata": {},
   "source": [
    "The goal of this project is for you to practice what you have learned in the APIs and Web Scraping chapter of this program. For this project, you will choose both an API to obtain data from and a web page to scrape. \n",
    "\n",
    "For the API portion of the project will need to make calls to your chosen API, successfully obtain a response, request data, convert it into a Pandas data frame, and export it as a CSV file. \n",
    "\n",
    "For the web scraping portion of the project, you will need to scrape the HTML from your chosen page, parse the HTML to extract the necessary information, and either save the results to a text (txt) file if it is text or into a CSV file if it is tabular data."
   ]
  },
  {
   "cell_type": "markdown",
   "metadata": {},
   "source": [
    "The following deliverables should be pushed to your Github repo for this chapter.\n",
    "\n",
    "-A Jupyter Notebook (.ipynb) file that contains the code used to work with your API and scrape your web page.\n",
    "-An output folder containing the outputs of your API and scraping efforts.\n",
    "-A README.md file containing a detailed explanation of your approach and code for retrieving data from the API and scraping the web page as well as your results, obstacles encountered, and lessons learned."
   ]
  },
  {
   "cell_type": "markdown",
   "metadata": {},
   "source": [
    "### Importing libraries"
   ]
  },
  {
   "cell_type": "code",
   "execution_count": 46,
   "metadata": {},
   "outputs": [],
   "source": [
    "import requests\n",
    "from bs4 import BeautifulSoup as bs\n",
    "import pandas as pd\n",
    "import json"
   ]
  },
  {
   "cell_type": "markdown",
   "metadata": {},
   "source": [
    "### Stock Market Most Actives Companies API\n",
    "##### Output: The most actives companies"
   ]
  },
  {
   "cell_type": "code",
   "execution_count": 47,
   "metadata": {},
   "outputs": [],
   "source": [
    "url = (\"https://financialmodelingprep.com/api/stock/actives?datatype=json\")\n",
    "response = requests.get(url)\n",
    "results = response.json()\n",
    "\n",
    "df = pd.DataFrame(results)\n",
    "df = df.transpose() \n",
    "\n",
    "df['Company'] = df['companyName']\n",
    "df['Price'] = df['Price']\n",
    "df['Changes'] = df['Changes']\n",
    "df['Changes(%)'] = df['ChangesPerc']\n",
    "\n",
    "result = df[['Company', 'Price', 'Changes', 'Changes(%)']]\n",
    "\n",
    "result.to_csv('output-folder/stock_market_most_actives_companies.csv')"
   ]
  },
  {
   "cell_type": "markdown",
   "metadata": {},
   "source": [
    "### List of languages by number of native speakers - Wikipedia\n",
    "##### Output: Top 10 languages by number of native speakers"
   ]
  },
  {
   "cell_type": "code",
   "execution_count": 48,
   "metadata": {},
   "outputs": [],
   "source": [
    "url = 'https://en.wikipedia.org/wiki/List_of_languages_by_number_of_native_speakers'\n",
    "html = requests.get(url).content\n",
    "soup = bs(html, \"html.parser\")\n",
    "tables = soup.find_all('table',{'class':'wikitable sortable'})\n",
    "tr = tables[1].find_all('tr')\n",
    "\n",
    "elements_list = [el.text.split('\\n') for el in tr]\n",
    "    \n",
    "df = pd.DataFrame(elements_list)\n",
    "\n",
    "df['Language'] = df[2]\n",
    "df['Nativespeakers'] = df[3]\n",
    "\n",
    "languages = df[['Language', 'Nativespeakers']]\n",
    "top_ten_languages = languages.iloc[1:11]\n",
    "top_ten_languages.to_csv('output-folder/top_ten_languages.csv')"
   ]
  }
 ],
 "metadata": {
  "kernelspec": {
   "display_name": "Python 3",
   "language": "python",
   "name": "python3"
  },
  "language_info": {
   "codemirror_mode": {
    "name": "ipython",
    "version": 3
   },
   "file_extension": ".py",
   "mimetype": "text/x-python",
   "name": "python",
   "nbconvert_exporter": "python",
   "pygments_lexer": "ipython3",
   "version": "3.7.3"
  }
 },
 "nbformat": 4,
 "nbformat_minor": 2
}
