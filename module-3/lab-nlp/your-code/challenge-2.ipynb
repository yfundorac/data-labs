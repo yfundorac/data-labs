{
 "cells": [
  {
   "cell_type": "markdown",
   "metadata": {},
   "source": [
    "# Challenge 2: Sentiment Analysis\n",
    "\n",
    "In this challenge we will learn sentiment analysis and practice performing sentiment analysis on Twitter tweets. \n",
    "\n",
    "## Introduction\n",
    "\n",
    "Sentiment analysis is to *systematically identify, extract, quantify, and study affective states and subjective information* based on texts ([reference](https://en.wikipedia.org/wiki/Sentiment_analysis)). In simple words, it's to understand whether a person is happy or unhappy in producing the piece of text. Why we (or rather, companies) care about sentiment in texts? It's because by understanding the sentiments in texts, we will be able to know if our customers are happy or unhappy about our products and services. If they are unhappy, the subsequent action is to figure out what have caused the unhappiness and make improvements.\n",
    "\n",
    "Basic sentiment analysis only understands the *positive* or *negative* (sometimes *neutral* too) polarities of the sentiment. More advanced sentiment analysis will also consider dimensions such as agreement, subjectivity, confidence, irony, and so on. In this challenge we will conduct the basic positive vs negative sentiment analysis based on real Twitter tweets.\n",
    "\n",
    "NLTK comes with a [sentiment analysis package](https://www.nltk.org/api/nltk.sentiment.html). This package is great for dummies to perform sentiment analysis because it requires only the textual data to make predictions. For example:\n",
    "\n",
    "```python\n",
    ">>> from nltk.sentiment.vader import SentimentIntensityAnalyzer\n",
    ">>> txt = \"Ironhack is a Global Tech School ranked num 2 worldwide.  ",
    " ",
    "Our mission is to help people transform their careers and join a thriving community of tech professionals that love what they do.\"\n",
    ">>> analyzer = SentimentIntensityAnalyzer()\n",
    ">>> analyzer.polarity_scores(txt)\n",
    "{'neg': 0.0, 'neu': 0.741, 'pos': 0.259, 'compound': 0.8442}\n",
    "```\n",
    "\n",
    "In this challenge, however, you will not use NLTK's sentiment analysis package because in your Machine Learning training in the past 2 weeks you have learned how to make predictions more accurate than that. The [tweets data](https://www.kaggle.com/kazanova/sentiment140) we will be using today are already coded for the positive/negative sentiment. You will be able to use the Naïve Bayes classifier you learned in the lesson to predict the sentiment of tweets based on the labels."
   ]
  },
  {
   "cell_type": "markdown",
   "metadata": {},
   "source": [
    "## Conducting Sentiment Analysis\n",
    "\n",
    "### Loading and Exploring Data\n",
    "\n",
    "The dataset we'll be using today is located in the lab directory named `Sentiment140.csv.zip`. You need to unzip it into a `.csv` file. Then in the cell below, load and explore the data.\n",
    "\n",
    "*Notes:* \n",
    "\n",
    "* The dataset was downloaded from [Kaggle](https://www.kaggle.com/kazanova/sentiment140). We made a slight change on the original data so that each column has a label.\n",
    "\n",
    "* The dataset is huuuuge (1.6m tweets). When you develop your data analysis codes, you can sample a subset of the data (e.g. 20k records) so that you will save a lot of time when you test your codes."
   ]
  },
  {
   "cell_type": "code",
   "execution_count": 1,
   "metadata": {},
   "outputs": [
    {
     "data": {
      "text/html": "<div>\n<style scoped>\n    .dataframe tbody tr th:only-of-type {\n        vertical-align: middle;\n    }\n\n    .dataframe tbody tr th {\n        vertical-align: top;\n    }\n\n    .dataframe thead th {\n        text-align: right;\n    }\n</style>\n<table border=\"1\" class=\"dataframe\">\n  <thead>\n    <tr style=\"text-align: right;\">\n      <th></th>\n      <th>target</th>\n      <th>id</th>\n      <th>date</th>\n      <th>flag</th>\n      <th>user</th>\n      <th>text</th>\n    </tr>\n  </thead>\n  <tbody>\n    <tr>\n      <th>0</th>\n      <td>0</td>\n      <td>1467810369</td>\n      <td>Mon Apr 06 22:19:45 PDT 2009</td>\n      <td>NO_QUERY</td>\n      <td>_TheSpecialOne_</td>\n      <td>@switchfoot http://twitpic.com/2y1zl - Awww, t...</td>\n    </tr>\n    <tr>\n      <th>1</th>\n      <td>0</td>\n      <td>1467810672</td>\n      <td>Mon Apr 06 22:19:49 PDT 2009</td>\n      <td>NO_QUERY</td>\n      <td>scotthamilton</td>\n      <td>is upset that he can't update his Facebook by ...</td>\n    </tr>\n    <tr>\n      <th>2</th>\n      <td>0</td>\n      <td>1467810917</td>\n      <td>Mon Apr 06 22:19:53 PDT 2009</td>\n      <td>NO_QUERY</td>\n      <td>mattycus</td>\n      <td>@Kenichan I dived many times for the ball. Man...</td>\n    </tr>\n    <tr>\n      <th>3</th>\n      <td>0</td>\n      <td>1467811184</td>\n      <td>Mon Apr 06 22:19:57 PDT 2009</td>\n      <td>NO_QUERY</td>\n      <td>ElleCTF</td>\n      <td>my whole body feels itchy and like its on fire</td>\n    </tr>\n    <tr>\n      <th>4</th>\n      <td>0</td>\n      <td>1467811193</td>\n      <td>Mon Apr 06 22:19:57 PDT 2009</td>\n      <td>NO_QUERY</td>\n      <td>Karoli</td>\n      <td>@nationwideclass no, it's not behaving at all....</td>\n    </tr>\n  </tbody>\n</table>\n</div>",
      "text/plain": "   target          id                          date      flag  \\\n0       0  1467810369  Mon Apr 06 22:19:45 PDT 2009  NO_QUERY   \n1       0  1467810672  Mon Apr 06 22:19:49 PDT 2009  NO_QUERY   \n2       0  1467810917  Mon Apr 06 22:19:53 PDT 2009  NO_QUERY   \n3       0  1467811184  Mon Apr 06 22:19:57 PDT 2009  NO_QUERY   \n4       0  1467811193  Mon Apr 06 22:19:57 PDT 2009  NO_QUERY   \n\n              user                                               text  \n0  _TheSpecialOne_  @switchfoot http://twitpic.com/2y1zl - Awww, t...  \n1    scotthamilton  is upset that he can't update his Facebook by ...  \n2         mattycus  @Kenichan I dived many times for the ball. Man...  \n3          ElleCTF    my whole body feels itchy and like its on fire   \n4           Karoli  @nationwideclass no, it's not behaving at all....  "
     },
     "execution_count": 1,
     "metadata": {},
     "output_type": "execute_result"
    }
   ],
   "source": [
    "# your code here\n",
    "import sqlite3\n",
    "import pandas as pd\n",
    "\n",
    "#connection = sqlite3.connect('C:/Users/Yailin/Documents/Ironhack/data-sets/Sentiment140.db')\n",
    "connection = sqlite3.connect('C:/Users/Ironhack/Documents/Ironhack/Week1/data-sets/Sentiment140.db')\n",
    "\n",
    "df = pd.read_sql_query(\n",
    "    \"\"\"\n",
    "    SELECT O.target,O.id,D.date,F.flag,U.user,T.text\n",
    "FROM Observation as O,\n",
    "Date as D,\n",
    "Flag as F,\n",
    "User as U,\n",
    "Text as T\n",
    "WHERE O.user_id = U.user_id\n",
    "AND   O.flag_id = F.flag_id\n",
    "AND   O.date_id = D.date_id\n",
    "AND   O.text_id = T.text_id\n",
    "    \"\"\",\n",
    "    connection\n",
    ")\n",
    "\n",
    "df.head()"
   ]
  },
  {
   "cell_type": "markdown",
   "metadata": {},
   "source": [
    "### Prepare Textual Data for Sentiment Analysis\n",
    "\n",
    "Now, apply the functions you have written in Challenge 1 to your whole data set. These functions include:\n",
    "\n",
    "* `clean_up()`\n",
    "\n",
    "* `tokenize()`\n",
    "\n",
    "* `stem_and_lemmatize()`\n",
    "\n",
    "* `remove_stopwords()`\n",
    "\n",
    "Create a new column called `text_processed` in the dataframe to contain the processed data. At the end, your `text_processed` column should contain lists of word tokens that are cleaned up. Your data should look like below:\n",
    "\n",
    "![Processed Data](data-cleaning-results.png)"
   ]
  },
  {
   "cell_type": "code",
   "execution_count": 2,
   "metadata": {},
   "outputs": [],
   "source": [
    "df1 = df.head(20000)"
   ]
  },
  {
   "cell_type": "code",
   "execution_count": 19,
   "metadata": {},
   "outputs": [
    {
     "data": {
      "text/plain": "0    20000\nName: target, dtype: int64"
     },
     "execution_count": 19,
     "metadata": {},
     "output_type": "execute_result"
    }
   ],
   "source": [
    "df1['target'].value_counts()"
   ]
  },
  {
   "cell_type": "code",
   "execution_count": 4,
   "metadata": {},
   "outputs": [],
   "source": [
    "import re\n",
    "from textblob import TextBlob, Word\n",
    "from nltk.corpus import stopwords\n",
    "en_stopwords = stopwords.words(\"english\")\n",
    "\n",
    "def clean_up(s):\n",
    "    text = re.sub(r'http\\S+', '', s)\n",
    "    return re.sub('[^A-Za-z]+', ' ', text).lower()\n",
    "\n",
    "def tokenize(s):\n",
    "    return TextBlob(s).words\n",
    "\n",
    "def stem_and_lemmatize(l):\n",
    "    return ' '.join([Word(w).stem() for w in l])\n",
    "\n",
    "def remove_stopwords(l):\n",
    "    return ' '.join([w for w in l.split() if w not in en_stopwords])"
   ]
  },
  {
   "cell_type": "code",
   "execution_count": 5,
   "metadata": {},
   "outputs": [
    {
     "name": "stderr",
     "output_type": "stream",
     "text": "C:\\Users\\Ironhack\\AppData\\Roaming\\Python\\Python37\\site-packages\\ipykernel_launcher.py:2: SettingWithCopyWarning: \nA value is trying to be set on a copy of a slice from a DataFrame.\nTry using .loc[row_indexer,col_indexer] = value instead\n\nSee the caveats in the documentation: http://pandas.pydata.org/pandas-docs/stable/indexing.html#indexing-view-versus-copy\n  \n"
    },
    {
     "data": {
      "text/html": "<div>\n<style scoped>\n    .dataframe tbody tr th:only-of-type {\n        vertical-align: middle;\n    }\n\n    .dataframe tbody tr th {\n        vertical-align: top;\n    }\n\n    .dataframe thead th {\n        text-align: right;\n    }\n</style>\n<table border=\"1\" class=\"dataframe\">\n  <thead>\n    <tr style=\"text-align: right;\">\n      <th></th>\n      <th>target</th>\n      <th>id</th>\n      <th>date</th>\n      <th>flag</th>\n      <th>user</th>\n      <th>text</th>\n      <th>text_processed</th>\n    </tr>\n  </thead>\n  <tbody>\n    <tr>\n      <th>0</th>\n      <td>0</td>\n      <td>1467810369</td>\n      <td>Mon Apr 06 22:19:45 PDT 2009</td>\n      <td>NO_QUERY</td>\n      <td>_TheSpecialOne_</td>\n      <td>@switchfoot http://twitpic.com/2y1zl - Awww, t...</td>\n      <td>switchfoot awww that s a bummer you shoulda g...</td>\n    </tr>\n    <tr>\n      <th>1</th>\n      <td>0</td>\n      <td>1467810672</td>\n      <td>Mon Apr 06 22:19:49 PDT 2009</td>\n      <td>NO_QUERY</td>\n      <td>scotthamilton</td>\n      <td>is upset that he can't update his Facebook by ...</td>\n      <td>is upset that he can t update his facebook by ...</td>\n    </tr>\n    <tr>\n      <th>2</th>\n      <td>0</td>\n      <td>1467810917</td>\n      <td>Mon Apr 06 22:19:53 PDT 2009</td>\n      <td>NO_QUERY</td>\n      <td>mattycus</td>\n      <td>@Kenichan I dived many times for the ball. Man...</td>\n      <td>kenichan i dived many times for the ball mana...</td>\n    </tr>\n    <tr>\n      <th>3</th>\n      <td>0</td>\n      <td>1467811184</td>\n      <td>Mon Apr 06 22:19:57 PDT 2009</td>\n      <td>NO_QUERY</td>\n      <td>ElleCTF</td>\n      <td>my whole body feels itchy and like its on fire</td>\n      <td>my whole body feels itchy and like its on fire</td>\n    </tr>\n    <tr>\n      <th>4</th>\n      <td>0</td>\n      <td>1467811193</td>\n      <td>Mon Apr 06 22:19:57 PDT 2009</td>\n      <td>NO_QUERY</td>\n      <td>Karoli</td>\n      <td>@nationwideclass no, it's not behaving at all....</td>\n      <td>nationwideclass no it s not behaving at all i...</td>\n    </tr>\n  </tbody>\n</table>\n</div>",
      "text/plain": "   target          id                          date      flag  \\\n0       0  1467810369  Mon Apr 06 22:19:45 PDT 2009  NO_QUERY   \n1       0  1467810672  Mon Apr 06 22:19:49 PDT 2009  NO_QUERY   \n2       0  1467810917  Mon Apr 06 22:19:53 PDT 2009  NO_QUERY   \n3       0  1467811184  Mon Apr 06 22:19:57 PDT 2009  NO_QUERY   \n4       0  1467811193  Mon Apr 06 22:19:57 PDT 2009  NO_QUERY   \n\n              user                                               text  \\\n0  _TheSpecialOne_  @switchfoot http://twitpic.com/2y1zl - Awww, t...   \n1    scotthamilton  is upset that he can't update his Facebook by ...   \n2         mattycus  @Kenichan I dived many times for the ball. Man...   \n3          ElleCTF    my whole body feels itchy and like its on fire    \n4           Karoli  @nationwideclass no, it's not behaving at all....   \n\n                                      text_processed  \n0   switchfoot awww that s a bummer you shoulda g...  \n1  is upset that he can t update his facebook by ...  \n2   kenichan i dived many times for the ball mana...  \n3    my whole body feels itchy and like its on fire   \n4   nationwideclass no it s not behaving at all i...  "
     },
     "execution_count": 5,
     "metadata": {},
     "output_type": "execute_result"
    }
   ],
   "source": [
    "# your code here\n",
    "df1['text_processed'] = df1['text'].apply(lambda x: clean_up(x))\n",
    "df1.head()"
   ]
  },
  {
   "cell_type": "code",
   "execution_count": 6,
   "metadata": {},
   "outputs": [
    {
     "name": "stderr",
     "output_type": "stream",
     "text": "C:\\Users\\Ironhack\\AppData\\Roaming\\Python\\Python37\\site-packages\\ipykernel_launcher.py:1: SettingWithCopyWarning: \nA value is trying to be set on a copy of a slice from a DataFrame.\nTry using .loc[row_indexer,col_indexer] = value instead\n\nSee the caveats in the documentation: http://pandas.pydata.org/pandas-docs/stable/indexing.html#indexing-view-versus-copy\n  \"\"\"Entry point for launching an IPython kernel.\n"
    }
   ],
   "source": [
    "df1['text_processed'] = df1['text_processed'].apply(lambda x: remove_stopwords(x))"
   ]
  },
  {
   "cell_type": "code",
   "execution_count": 7,
   "metadata": {},
   "outputs": [
    {
     "data": {
      "text/html": "<div>\n<style scoped>\n    .dataframe tbody tr th:only-of-type {\n        vertical-align: middle;\n    }\n\n    .dataframe tbody tr th {\n        vertical-align: top;\n    }\n\n    .dataframe thead th {\n        text-align: right;\n    }\n</style>\n<table border=\"1\" class=\"dataframe\">\n  <thead>\n    <tr style=\"text-align: right;\">\n      <th></th>\n      <th>target</th>\n      <th>id</th>\n      <th>date</th>\n      <th>flag</th>\n      <th>user</th>\n      <th>text</th>\n      <th>text_processed</th>\n    </tr>\n  </thead>\n  <tbody>\n    <tr>\n      <th>0</th>\n      <td>0</td>\n      <td>1467810369</td>\n      <td>Mon Apr 06 22:19:45 PDT 2009</td>\n      <td>NO_QUERY</td>\n      <td>_TheSpecialOne_</td>\n      <td>@switchfoot http://twitpic.com/2y1zl - Awww, t...</td>\n      <td>switchfoot awww bummer shoulda got david carr ...</td>\n    </tr>\n    <tr>\n      <th>1</th>\n      <td>0</td>\n      <td>1467810672</td>\n      <td>Mon Apr 06 22:19:49 PDT 2009</td>\n      <td>NO_QUERY</td>\n      <td>scotthamilton</td>\n      <td>is upset that he can't update his Facebook by ...</td>\n      <td>upset update facebook texting might cry result...</td>\n    </tr>\n    <tr>\n      <th>2</th>\n      <td>0</td>\n      <td>1467810917</td>\n      <td>Mon Apr 06 22:19:53 PDT 2009</td>\n      <td>NO_QUERY</td>\n      <td>mattycus</td>\n      <td>@Kenichan I dived many times for the ball. Man...</td>\n      <td>kenichan dived many times ball managed save re...</td>\n    </tr>\n    <tr>\n      <th>3</th>\n      <td>0</td>\n      <td>1467811184</td>\n      <td>Mon Apr 06 22:19:57 PDT 2009</td>\n      <td>NO_QUERY</td>\n      <td>ElleCTF</td>\n      <td>my whole body feels itchy and like its on fire</td>\n      <td>whole body feels itchy like fire</td>\n    </tr>\n    <tr>\n      <th>4</th>\n      <td>0</td>\n      <td>1467811193</td>\n      <td>Mon Apr 06 22:19:57 PDT 2009</td>\n      <td>NO_QUERY</td>\n      <td>Karoli</td>\n      <td>@nationwideclass no, it's not behaving at all....</td>\n      <td>nationwideclass behaving mad see</td>\n    </tr>\n  </tbody>\n</table>\n</div>",
      "text/plain": "   target          id                          date      flag  \\\n0       0  1467810369  Mon Apr 06 22:19:45 PDT 2009  NO_QUERY   \n1       0  1467810672  Mon Apr 06 22:19:49 PDT 2009  NO_QUERY   \n2       0  1467810917  Mon Apr 06 22:19:53 PDT 2009  NO_QUERY   \n3       0  1467811184  Mon Apr 06 22:19:57 PDT 2009  NO_QUERY   \n4       0  1467811193  Mon Apr 06 22:19:57 PDT 2009  NO_QUERY   \n\n              user                                               text  \\\n0  _TheSpecialOne_  @switchfoot http://twitpic.com/2y1zl - Awww, t...   \n1    scotthamilton  is upset that he can't update his Facebook by ...   \n2         mattycus  @Kenichan I dived many times for the ball. Man...   \n3          ElleCTF    my whole body feels itchy and like its on fire    \n4           Karoli  @nationwideclass no, it's not behaving at all....   \n\n                                      text_processed  \n0  switchfoot awww bummer shoulda got david carr ...  \n1  upset update facebook texting might cry result...  \n2  kenichan dived many times ball managed save re...  \n3                   whole body feels itchy like fire  \n4                   nationwideclass behaving mad see  "
     },
     "execution_count": 7,
     "metadata": {},
     "output_type": "execute_result"
    }
   ],
   "source": [
    "df1.head()"
   ]
  },
  {
   "cell_type": "code",
   "execution_count": 8,
   "metadata": {},
   "outputs": [
    {
     "name": "stderr",
     "output_type": "stream",
     "text": "C:\\Users\\Ironhack\\AppData\\Roaming\\Python\\Python37\\site-packages\\ipykernel_launcher.py:1: SettingWithCopyWarning: \nA value is trying to be set on a copy of a slice from a DataFrame.\nTry using .loc[row_indexer,col_indexer] = value instead\n\nSee the caveats in the documentation: http://pandas.pydata.org/pandas-docs/stable/indexing.html#indexing-view-versus-copy\n  \"\"\"Entry point for launching an IPython kernel.\n"
    },
    {
     "data": {
      "text/html": "<div>\n<style scoped>\n    .dataframe tbody tr th:only-of-type {\n        vertical-align: middle;\n    }\n\n    .dataframe tbody tr th {\n        vertical-align: top;\n    }\n\n    .dataframe thead th {\n        text-align: right;\n    }\n</style>\n<table border=\"1\" class=\"dataframe\">\n  <thead>\n    <tr style=\"text-align: right;\">\n      <th></th>\n      <th>target</th>\n      <th>id</th>\n      <th>date</th>\n      <th>flag</th>\n      <th>user</th>\n      <th>text</th>\n      <th>text_processed</th>\n    </tr>\n  </thead>\n  <tbody>\n    <tr>\n      <th>0</th>\n      <td>0</td>\n      <td>1467810369</td>\n      <td>Mon Apr 06 22:19:45 PDT 2009</td>\n      <td>NO_QUERY</td>\n      <td>_TheSpecialOne_</td>\n      <td>@switchfoot http://twitpic.com/2y1zl - Awww, t...</td>\n      <td>[switchfoot, awww, bummer, shoulda, got, david...</td>\n    </tr>\n    <tr>\n      <th>1</th>\n      <td>0</td>\n      <td>1467810672</td>\n      <td>Mon Apr 06 22:19:49 PDT 2009</td>\n      <td>NO_QUERY</td>\n      <td>scotthamilton</td>\n      <td>is upset that he can't update his Facebook by ...</td>\n      <td>[upset, update, facebook, texting, might, cry,...</td>\n    </tr>\n    <tr>\n      <th>2</th>\n      <td>0</td>\n      <td>1467810917</td>\n      <td>Mon Apr 06 22:19:53 PDT 2009</td>\n      <td>NO_QUERY</td>\n      <td>mattycus</td>\n      <td>@Kenichan I dived many times for the ball. Man...</td>\n      <td>[kenichan, dived, many, times, ball, managed, ...</td>\n    </tr>\n    <tr>\n      <th>3</th>\n      <td>0</td>\n      <td>1467811184</td>\n      <td>Mon Apr 06 22:19:57 PDT 2009</td>\n      <td>NO_QUERY</td>\n      <td>ElleCTF</td>\n      <td>my whole body feels itchy and like its on fire</td>\n      <td>[whole, body, feels, itchy, like, fire]</td>\n    </tr>\n    <tr>\n      <th>4</th>\n      <td>0</td>\n      <td>1467811193</td>\n      <td>Mon Apr 06 22:19:57 PDT 2009</td>\n      <td>NO_QUERY</td>\n      <td>Karoli</td>\n      <td>@nationwideclass no, it's not behaving at all....</td>\n      <td>[nationwideclass, behaving, mad, see]</td>\n    </tr>\n  </tbody>\n</table>\n</div>",
      "text/plain": "   target          id                          date      flag  \\\n0       0  1467810369  Mon Apr 06 22:19:45 PDT 2009  NO_QUERY   \n1       0  1467810672  Mon Apr 06 22:19:49 PDT 2009  NO_QUERY   \n2       0  1467810917  Mon Apr 06 22:19:53 PDT 2009  NO_QUERY   \n3       0  1467811184  Mon Apr 06 22:19:57 PDT 2009  NO_QUERY   \n4       0  1467811193  Mon Apr 06 22:19:57 PDT 2009  NO_QUERY   \n\n              user                                               text  \\\n0  _TheSpecialOne_  @switchfoot http://twitpic.com/2y1zl - Awww, t...   \n1    scotthamilton  is upset that he can't update his Facebook by ...   \n2         mattycus  @Kenichan I dived many times for the ball. Man...   \n3          ElleCTF    my whole body feels itchy and like its on fire    \n4           Karoli  @nationwideclass no, it's not behaving at all....   \n\n                                      text_processed  \n0  [switchfoot, awww, bummer, shoulda, got, david...  \n1  [upset, update, facebook, texting, might, cry,...  \n2  [kenichan, dived, many, times, ball, managed, ...  \n3            [whole, body, feels, itchy, like, fire]  \n4              [nationwideclass, behaving, mad, see]  "
     },
     "execution_count": 8,
     "metadata": {},
     "output_type": "execute_result"
    }
   ],
   "source": [
    "df1['text_processed'] = df1['text_processed'].apply(lambda x: tokenize(x))\n",
    "df1.head()"
   ]
  },
  {
   "cell_type": "code",
   "execution_count": 9,
   "metadata": {},
   "outputs": [
    {
     "name": "stderr",
     "output_type": "stream",
     "text": "C:\\Users\\Ironhack\\AppData\\Roaming\\Python\\Python37\\site-packages\\ipykernel_launcher.py:1: SettingWithCopyWarning: \nA value is trying to be set on a copy of a slice from a DataFrame.\nTry using .loc[row_indexer,col_indexer] = value instead\n\nSee the caveats in the documentation: http://pandas.pydata.org/pandas-docs/stable/indexing.html#indexing-view-versus-copy\n  \"\"\"Entry point for launching an IPython kernel.\n"
    },
    {
     "data": {
      "text/html": "<div>\n<style scoped>\n    .dataframe tbody tr th:only-of-type {\n        vertical-align: middle;\n    }\n\n    .dataframe tbody tr th {\n        vertical-align: top;\n    }\n\n    .dataframe thead th {\n        text-align: right;\n    }\n</style>\n<table border=\"1\" class=\"dataframe\">\n  <thead>\n    <tr style=\"text-align: right;\">\n      <th></th>\n      <th>target</th>\n      <th>id</th>\n      <th>date</th>\n      <th>flag</th>\n      <th>user</th>\n      <th>text</th>\n      <th>text_processed</th>\n    </tr>\n  </thead>\n  <tbody>\n    <tr>\n      <th>0</th>\n      <td>0</td>\n      <td>1467810369</td>\n      <td>Mon Apr 06 22:19:45 PDT 2009</td>\n      <td>NO_QUERY</td>\n      <td>_TheSpecialOne_</td>\n      <td>@switchfoot http://twitpic.com/2y1zl - Awww, t...</td>\n      <td>switchfoot awww bummer shoulda got david carr ...</td>\n    </tr>\n    <tr>\n      <th>1</th>\n      <td>0</td>\n      <td>1467810672</td>\n      <td>Mon Apr 06 22:19:49 PDT 2009</td>\n      <td>NO_QUERY</td>\n      <td>scotthamilton</td>\n      <td>is upset that he can't update his Facebook by ...</td>\n      <td>upset updat facebook text might cri result sch...</td>\n    </tr>\n    <tr>\n      <th>2</th>\n      <td>0</td>\n      <td>1467810917</td>\n      <td>Mon Apr 06 22:19:53 PDT 2009</td>\n      <td>NO_QUERY</td>\n      <td>mattycus</td>\n      <td>@Kenichan I dived many times for the ball. Man...</td>\n      <td>kenichan dive mani time ball manag save rest g...</td>\n    </tr>\n    <tr>\n      <th>3</th>\n      <td>0</td>\n      <td>1467811184</td>\n      <td>Mon Apr 06 22:19:57 PDT 2009</td>\n      <td>NO_QUERY</td>\n      <td>ElleCTF</td>\n      <td>my whole body feels itchy and like its on fire</td>\n      <td>whole bodi feel itchi like fire</td>\n    </tr>\n    <tr>\n      <th>4</th>\n      <td>0</td>\n      <td>1467811193</td>\n      <td>Mon Apr 06 22:19:57 PDT 2009</td>\n      <td>NO_QUERY</td>\n      <td>Karoli</td>\n      <td>@nationwideclass no, it's not behaving at all....</td>\n      <td>nationwideclass behav mad see</td>\n    </tr>\n  </tbody>\n</table>\n</div>",
      "text/plain": "   target          id                          date      flag  \\\n0       0  1467810369  Mon Apr 06 22:19:45 PDT 2009  NO_QUERY   \n1       0  1467810672  Mon Apr 06 22:19:49 PDT 2009  NO_QUERY   \n2       0  1467810917  Mon Apr 06 22:19:53 PDT 2009  NO_QUERY   \n3       0  1467811184  Mon Apr 06 22:19:57 PDT 2009  NO_QUERY   \n4       0  1467811193  Mon Apr 06 22:19:57 PDT 2009  NO_QUERY   \n\n              user                                               text  \\\n0  _TheSpecialOne_  @switchfoot http://twitpic.com/2y1zl - Awww, t...   \n1    scotthamilton  is upset that he can't update his Facebook by ...   \n2         mattycus  @Kenichan I dived many times for the ball. Man...   \n3          ElleCTF    my whole body feels itchy and like its on fire    \n4           Karoli  @nationwideclass no, it's not behaving at all....   \n\n                                      text_processed  \n0  switchfoot awww bummer shoulda got david carr ...  \n1  upset updat facebook text might cri result sch...  \n2  kenichan dive mani time ball manag save rest g...  \n3                    whole bodi feel itchi like fire  \n4                      nationwideclass behav mad see  "
     },
     "execution_count": 9,
     "metadata": {},
     "output_type": "execute_result"
    }
   ],
   "source": [
    "df1['text_processed'] = df1['text_processed'].apply(lambda x: stem_and_lemmatize(x))\n",
    "df1.head()"
   ]
  },
  {
   "cell_type": "code",
   "execution_count": 10,
   "metadata": {},
   "outputs": [
    {
     "name": "stderr",
     "output_type": "stream",
     "text": "C:\\Users\\Ironhack\\AppData\\Roaming\\Python\\Python37\\site-packages\\ipykernel_launcher.py:2: SettingWithCopyWarning: \nA value is trying to be set on a copy of a slice from a DataFrame.\nTry using .loc[row_indexer,col_indexer] = value instead\n\nSee the caveats in the documentation: http://pandas.pydata.org/pandas-docs/stable/indexing.html#indexing-view-versus-copy\n  \n"
    },
    {
     "data": {
      "text/html": "<div>\n<style scoped>\n    .dataframe tbody tr th:only-of-type {\n        vertical-align: middle;\n    }\n\n    .dataframe tbody tr th {\n        vertical-align: top;\n    }\n\n    .dataframe thead th {\n        text-align: right;\n    }\n</style>\n<table border=\"1\" class=\"dataframe\">\n  <thead>\n    <tr style=\"text-align: right;\">\n      <th></th>\n      <th>target</th>\n      <th>id</th>\n      <th>date</th>\n      <th>flag</th>\n      <th>user</th>\n      <th>text</th>\n      <th>text_processed</th>\n    </tr>\n  </thead>\n  <tbody>\n    <tr>\n      <th>0</th>\n      <td>0</td>\n      <td>1467810369</td>\n      <td>Mon Apr 06 22:19:45 PDT 2009</td>\n      <td>NO_QUERY</td>\n      <td>_TheSpecialOne_</td>\n      <td>@switchfoot http://twitpic.com/2y1zl - Awww, t...</td>\n      <td>[switchfoot, awww, bummer, shoulda, got, david...</td>\n    </tr>\n    <tr>\n      <th>1</th>\n      <td>0</td>\n      <td>1467810672</td>\n      <td>Mon Apr 06 22:19:49 PDT 2009</td>\n      <td>NO_QUERY</td>\n      <td>scotthamilton</td>\n      <td>is upset that he can't update his Facebook by ...</td>\n      <td>[upset, updat, facebook, text, might, cri, res...</td>\n    </tr>\n    <tr>\n      <th>2</th>\n      <td>0</td>\n      <td>1467810917</td>\n      <td>Mon Apr 06 22:19:53 PDT 2009</td>\n      <td>NO_QUERY</td>\n      <td>mattycus</td>\n      <td>@Kenichan I dived many times for the ball. Man...</td>\n      <td>[kenichan, dive, mani, time, ball, manag, save...</td>\n    </tr>\n    <tr>\n      <th>3</th>\n      <td>0</td>\n      <td>1467811184</td>\n      <td>Mon Apr 06 22:19:57 PDT 2009</td>\n      <td>NO_QUERY</td>\n      <td>ElleCTF</td>\n      <td>my whole body feels itchy and like its on fire</td>\n      <td>[whole, bodi, feel, itchi, like, fire]</td>\n    </tr>\n    <tr>\n      <th>4</th>\n      <td>0</td>\n      <td>1467811193</td>\n      <td>Mon Apr 06 22:19:57 PDT 2009</td>\n      <td>NO_QUERY</td>\n      <td>Karoli</td>\n      <td>@nationwideclass no, it's not behaving at all....</td>\n      <td>[nationwideclass, behav, mad, see]</td>\n    </tr>\n  </tbody>\n</table>\n</div>",
      "text/plain": "   target          id                          date      flag  \\\n0       0  1467810369  Mon Apr 06 22:19:45 PDT 2009  NO_QUERY   \n1       0  1467810672  Mon Apr 06 22:19:49 PDT 2009  NO_QUERY   \n2       0  1467810917  Mon Apr 06 22:19:53 PDT 2009  NO_QUERY   \n3       0  1467811184  Mon Apr 06 22:19:57 PDT 2009  NO_QUERY   \n4       0  1467811193  Mon Apr 06 22:19:57 PDT 2009  NO_QUERY   \n\n              user                                               text  \\\n0  _TheSpecialOne_  @switchfoot http://twitpic.com/2y1zl - Awww, t...   \n1    scotthamilton  is upset that he can't update his Facebook by ...   \n2         mattycus  @Kenichan I dived many times for the ball. Man...   \n3          ElleCTF    my whole body feels itchy and like its on fire    \n4           Karoli  @nationwideclass no, it's not behaving at all....   \n\n                                      text_processed  \n0  [switchfoot, awww, bummer, shoulda, got, david...  \n1  [upset, updat, facebook, text, might, cri, res...  \n2  [kenichan, dive, mani, time, ball, manag, save...  \n3             [whole, bodi, feel, itchi, like, fire]  \n4                 [nationwideclass, behav, mad, see]  "
     },
     "execution_count": 10,
     "metadata": {},
     "output_type": "execute_result"
    }
   ],
   "source": [
    "from nltk.tokenize import word_tokenize\n",
    "df1['text_processed'] = df1['text_processed'].apply(lambda x: word_tokenize(x))\n",
    "df1.head()"
   ]
  },
  {
   "cell_type": "code",
   "execution_count": 11,
   "metadata": {},
   "outputs": [],
   "source": [
    "list_aux = [w for l in df1['text_processed'].values for w in l]"
   ]
  },
  {
   "cell_type": "markdown",
   "metadata": {},
   "source": [
    "### Creating Bag of Words\n",
    "\n",
    "The purpose of this step is to create a [bag of words](https://en.wikipedia.org/wiki/Bag-of-words_model) from the processed data. The bag of words contains all the unique words in your whole text body (a.k.a. *corpus*) with the number of occurrence of each word. It will allow you to understand which words are the most important features across the whole corpus.\n",
    "\n",
    "Also, you can imagine you will have a massive set of words. The less important words (i.e. those of very low number of occurrence) do not contribute much to the sentiment. Therefore, you only need to use the most important words to build your feature set in the next step. In our case, we will use the top 5,000 words with the highest frequency to build the features.\n",
    "\n",
    "In the cell below, combine all the words in `text_processed` and calculate the frequency distribution of all words. A convenient library to calculate the term frequency distribution is NLTK's `FreqDist` class ([documentation](https://www.nltk.org/api/nltk.html#module-nltk.probability)). Then select the top 5,000 words from the frequency distribution."
   ]
  },
  {
   "cell_type": "code",
   "execution_count": 12,
   "metadata": {},
   "outputs": [],
   "source": [
    "from nltk.probability import FreqDist\n",
    "fdist = FreqDist()\n",
    "for word in list_aux:\n",
    "    fdist[word] += 1"
   ]
  },
  {
   "cell_type": "code",
   "execution_count": 13,
   "metadata": {},
   "outputs": [
    {
     "data": {
      "text/plain": "FreqDist({'go': 2057, 'work': 1600, 'get': 1551, 'day': 1334, 'miss': 1038, 'like': 1001, 'got': 1000, 'want': 993, 'today': 986, 'feel': 910, ...})"
     },
     "execution_count": 13,
     "metadata": {},
     "output_type": "execute_result"
    }
   ],
   "source": [
    "fdist"
   ]
  },
  {
   "cell_type": "code",
   "execution_count": 14,
   "metadata": {},
   "outputs": [],
   "source": [
    "import itertools\n",
    "import collections\n",
    "import operator\n",
    "\n",
    "d = dict(itertools.islice((dict(sorted(fdist.items(), key=operator.itemgetter(1),reverse=True))).items(), 0, 5000))\n",
    "word_features = list(d.keys())"
   ]
  },
  {
   "cell_type": "markdown",
   "metadata": {},
   "source": [
    "### Building Features\n",
    "\n",
    "Now let's build the features. Using the top 5,000 words, create a 2-dimensional matrix to record whether each of those words is contained in each document (tweet). Then you also have an output column to indicate whether the sentiment in each tweet is positive. For example, assuming your bag of words has 5 items (`['one', 'two', 'three', 'four', 'five']`) out of 4 documents (`['A', 'B', 'C', 'D']`), your feature set is essentially:\n",
    "\n",
    "| Doc | one | two | three | four | five | is_positive |\n",
    "|---|---|---|---|---|---|---|\n",
    "| A | True | False | False | True | False | True |\n",
    "| B | False | False | False | True | True | False |\n",
    "| C | False | True | False | False | False | True |\n",
    "| D | True | False | False | False | True | False|\n",
    "\n",
    "However, because the `nltk.NaiveBayesClassifier.train` class we will use in the next step does not work with Pandas dataframe, the structure of your feature set should be converted to the Python list looking like below:\n",
    "\n",
    "```python\n",
    "[\n",
    "\t({\n",
    "\t\t'one': True,\n",
    "\t\t'two': False,\n",
    "\t\t'three': False,\n",
    "\t\t'four': True,\n",
    "\t\t'five': False\n",
    "\t}, True),\n",
    "\t({\n",
    "\t\t'one': False,\n",
    "\t\t'two': False,\n",
    "\t\t'three': False,\n",
    "\t\t'four': True,\n",
    "\t\t'five': True\n",
    "\t}, False),\n",
    "\t({\n",
    "\t\t'one': False,\n",
    "\t\t'two': True,\n",
    "\t\t'three': False,\n",
    "\t\t'four': False,\n",
    "\t\t'five': False\n",
    "\t}, True),\n",
    "\t({\n",
    "\t\t'one': True,\n",
    "\t\t'two': False,\n",
    "\t\t'three': False,\n",
    "\t\t'four': False,\n",
    "\t\t'five': True\n",
    "\t}, False)\n",
    "]\n",
    "```\n",
    "\n",
    "To help you in this step, watch the [following video](https://www.youtube.com/watch?v=-vVskDsHcVc) to learn how to build the feature set with Python and NLTK. The source code in this video can be found [here](https://pythonprogramming.net/words-as-features-nltk-tutorial/)."
   ]
  },
  {
   "cell_type": "markdown",
   "metadata": {},
   "source": [
    "[![Building Features](building-features.jpg)](https://www.youtube.com/watch?v=-vVskDsHcVc)"
   ]
  },
  {
   "cell_type": "code",
   "execution_count": 15,
   "metadata": {},
   "outputs": [],
   "source": [
    "list_documents = [l for l in df1['text_processed'].values]"
   ]
  },
  {
   "cell_type": "code",
   "execution_count": 32,
   "metadata": {},
   "outputs": [
    {
     "data": {
      "text/plain": "alse,\n  'forget': False,\n  'blood': False,\n  'smoke': False,\n  'kutner': False,\n  'mention': False,\n  'chicago': False,\n  'macbook': False,\n  'couldnt': False,\n  'bc': False,\n  'dread': False,\n  'bro': False,\n  'mouth': False,\n  'meant': False,\n  'exactli': False,\n  'coz': False,\n  'memori': False,\n  'cuddl': False,\n  'area': False,\n  'vet': False,\n  'mother': False,\n  'normal': False,\n  'holi': False,\n  'mark': False,\n  'cd': False,\n  'dm': False,\n  'bitch': False,\n  'san': False,\n  'ala': False,\n  'system': False,\n  'perform': False,\n  'track': False,\n  'hmmm': False,\n  'direct': False,\n  'middl': False,\n  'tonit': False,\n  'angel': False,\n  'canada': False,\n  'becom': False,\n  'afraid': False,\n  'fish': False,\n  'uh': False,\n  'twilight': False,\n  'dr': False,\n  'honey': False,\n  'beer': False,\n  'contact': False,\n  'mobil': False,\n  'foot': False,\n  'given': False,\n  'special': False,\n  'bday': False,\n  'ng': False,\n  'replac': False,\n  'stream': False,\n  'front': False,\n  'prepar': False,\n  'apart': False,\n  'jonathanrknight': False,\n  'experi': False,\n  'bill': False,\n  'edit': False,\n  'histori': False,\n  'nearli': False,\n  'code': False,\n  'tough': False,\n  'men': False,\n  'vega': False,\n  'copi': False,\n  'silli': False,\n  'other': False,\n  'cousin': False,\n  'doubt': False,\n  'camp': False,\n  'kal': False,\n  'penn': False,\n  'ahead': False,\n  'alarm': False,\n  'law': False,\n  'afford': False,\n  'migrain': False,\n  'shitti': False,\n  'profil': False,\n  'land': False,\n  'error': False,\n  'badli': False,\n  'xoxo': False,\n  'fault': False,\n  'bowl': False,\n  'shift': False,\n  'charg': False,\n  'starbuck': False,\n  'awwww': False,\n  'laundri': False,\n  'twit': False,\n  'teeth': False,\n  'price': False,\n  'pair': False,\n  'david': False,\n  'random': False,\n  'evil': False,\n  'act': False,\n  'wasnt': False,\n  'ny': False,\n  'clock': False,\n  'xxx': False,\n  'remind': False,\n  'fill': False,\n  'reach': False,\n  'product': False,\n  'attempt': False,\n  'dammit': False,\n  'absolut': False,\n  'chill': False,\n  'gross': False,\n  'machin': False,\n  'cabl': False,\n  'forc': False,\n  'self': False,\n  'imagin': False,\n  'hip': False,\n  'ignor': False,\n  'major': False,\n  'soup': False,\n  'husband': False,\n  'sky': False,\n  'wine': False,\n  'perfect': False,\n  'coursework': False,\n  'result': False,\n  'guitar': False,\n  'paid': False,\n  'mommi': False,\n  'interview': False,\n  'key': False,\n  ...},\n {'go': False,\n  'work': False,\n  'get': False,\n  'day': False,\n  'miss': False,\n  'like': False,\n  'got': False,\n  'want': False,\n  'today': False,\n  'feel': False,\n  'back': False,\n  'time': False,\n  'still': False,\n  'realli': False,\n  'wish': False,\n  'good': False,\n  'one': False,\n  'im': False,\n  'quot': False,\n  'need': False,\n  'think': False,\n  'know': False,\n  'sad': True,\n  'night': False,\n  'home': False,\n  'sleep': False,\n  'last': False,\n  'hope': False,\n  'sorri': False,\n  'love': False,\n  'na': False,\n  'make': False,\n  'bad': False,\n  'lol': False,\n  'oh': True,\n  'much': False,\n  'see': False,\n  'watch': False,\n  'well': False,\n  'come': False,\n  'hate': False,\n  'twitter': False,\n  'u': False,\n  'sick': False,\n  'look': False,\n  'amp': False,\n  'tomorrow': False,\n  'tri': False,\n  'morn': False,\n  'bed': False,\n  'though': False,\n  'new': False,\n  'would': False,\n  'week': False,\n  'tonight': False,\n  'could': False,\n  'right': False,\n  'even': False,\n  'thing': False,\n  'hour': False,\n  'school': False,\n  'wait': False,\n  'friend': False,\n  'tire': False,\n  'start': False,\n  'cant': False,\n  'way': False,\n  'bore': False,\n  'hurt': False,\n  'suck': False,\n  'peopl': False,\n  'find': False,\n  'gon': False,\n  'better': False,\n  'never': False,\n  'fun': False,\n  'play': False,\n  'take': False,\n  'dont': False,\n  'cold': False,\n  'rain': False,\n  'show': False,\n  'lost': False,\n  'wan': False,\n  'long': False,\n  'say': False,\n  'ugh': False,\n  'phone': False,\n  'yeah': False,\n  'year': False,\n  'keep': False,\n  'thank': False,\n  'follow': False,\n  'yet': False,\n  'earli': False,\n  'tweet': False,\n  'hous': False,\n  'damn': False,\n  'anoth': False,\n  'away': False,\n  'great': False,\n  'guy': False,\n  'littl': False,\n  'soon': False,\n  'head': False,\n  'someth': False,\n  'poor': True,\n  'snow': False,\n  'someon': False,\n  'leav': False,\n  'call': False,\n  'man': False,\n  'next': False,\n  'life': False,\n  'nice': False,\n  'use': False,\n  'alreadi': False,\n  'let': False,\n  'late': False,\n  'guess': False,\n  'game': False,\n  'help': False,\n  'haha': False,\n  'noth': False,\n  'first': False,\n  'weekend': False,\n  'ok': False,\n  'done': False,\n  'us': False,\n  'went': False,\n  'left': False,\n  'talk': False,\n  'hear': False,\n  'girl': False,\n  'stop': False,\n  'weather': False,\n  'pleas': False,\n  'end': False,\n  'x': False,\n  'hard': False,\n  'cri': False,\n  'break': False,\n  'thought': False,\n  'lt': False,\n  'live': False,\n  'n': False,\n  'read': False,\n  'alway': False,\n  'made': False,\n  'ever': False,\n  'car': False,\n  'readi': False,\n  'mean': False,\n  'happen': False,\n  'old': False,\n  'fuck': False,\n  'final': False,\n  'finish': False,\n  'outsid': False,\n  'eat': False,\n  'class': False,\n  'die': False,\n  'woke': False,\n  'sure': False,\n  'run': False,\n  'seem': False,\n  'gone': False,\n  'happi': False,\n  'lot': False,\n  'omg': False,\n  'yesterday': False,\n  'stay': False,\n  'babi': False,\n  'sinc': False,\n  'ta': False,\n  'pretti': False,\n  'everyon': False,\n  'b': False,\n  'mani': False,\n  'sound': False,\n  'mayb': False,\n  'stupid': False,\n  'bit': False,\n  'stuck': False,\n  'tell': False,\n  'studi': False,\n  'two': False,\n  'didnt': False,\n  'around': False,\n  'movi': False,\n  'lone': False,\n  'put': False,\n  'anyon': False,\n  'best': False,\n  'actual': False,\n  'hot': False,\n  'clean': False,\n  'anymor': False,\n  'meet': False,\n  'may': False,\n  'stuff': False,\n  'move': False,\n  'must': False,\n  'headach': False,\n  'give': False,\n  'pain': False,\n  'tho': False,\n  'updat': False,\n  'almost': False,\n  'anyth': False,\n  'saturday': False,\n  'ye': False,\n  'wonder': False,\n  'believ': False,\n  'dog': False,\n  'sun': False,\n  'enough': False,\n  'busi': False,\n  'might': False,\n  'hey': False,\n  'wow': False,\n  'r': False,\n  'parti': False,\n  'big': False,\n  'sit': False,\n  'found': False,\n  'also': False,\n  'wake': False,\n  'th': False,\n  'without': False,\n  'shop': False,\n  'spring': False,\n  'kid': False,\n  'boo': False,\n  'kill': False,\n  'monday': False,\n  'god': False,\n  'room': False,\n  'later': False,\n  'ur': False,\n  'aww': False,\n  'till': False,\n  'write': False,\n  'homework': False,\n  'drive': False,\n  'check': False,\n  'close': False,\n  'job': False,\n  'said': False,\n  'c': False,\n  'turn': False,\n  'saw': False,\n  'fail': False,\n  'probabl': False,\n  'shit': False,\n  'w': False,\n  'awak': False,\n  'caus': False,\n  'ill': False,\n  'alon': False,\n  'total': False,\n  'walk': False,\n  'wrong': False,\n  'sunday': False,\n  'plan': False,\n  'eye': False,\n  'boy': True,\n  'crap': False,\n  'music': False,\n  'post': False,\n  'test': False,\n  'dream': False,\n  'least': False,\n  'world': False,\n  'video': False,\n  'comput': False,\n  'minut': False,\n  'famili': False,\n  'money': False,\n  'mom': False,\n  'beauti': False,\n  'that': False,\n  'listen': False,\n  'compani': False,\n  'els': False,\n  'everyth': False,\n  'month': False,\n  'throat': False,\n  'food': False,\n  'far': False,\n  'buy': False,\n  'drink': False,\n  'enjoy': False,\n  'chang': False,\n  'everi': False,\n  'yay': False,\n  'hell': False,\n  'broke': False,\n  'awesom': False,\n  'coffe': False,\n  'mine': False,\n  'okay': False,\n  'forgot': False,\n  'open': False,\n  'abl': False,\n  'suppos': False,\n  'idea': False,\n  'unfortun': False,\n  'aw': False,\n  'sore': False,\n  'lose': False,\n  'hair': False,\n  'either': False,\n  'internet': False,\n  'ago': False,\n  'fix': False,\n  'asot': False,\n  'luck': False,\n  'pictur': False,\n  'holiday': False,\n  'hit': False,\n  'book': False,\n  'song': False,\n  'real': False,\n  'depress': False,\n  'dinner': False,\n  'rest': False,\n  'ya': False,\n  'gt': False,\n  'hungri': False,\n  'cool': False,\n  'amaz': False,\n  'tv': False,\n  'sigh': False,\n  'send': False,\n  'kinda': False,\n  'pic': False,\n  'fall': False,\n  'f': False,\n  'dead': False,\n  'cat': False,\n  'name': False,\n  'awww': False,\n  'repli': False,\n  'easter': False,\n  'hang': False,\n  'site': False,\n  'sooo': False,\n  'place': False,\n  'femal': False,\n  'dad': False,\n  'p': False,\n  'ask': False,\n  'birthday': False,\n  'face': False,\n  'anyway': False,\n  'ticket': False,\n  'laptop': False,\n  'forward': False,\n  'half': False,\n  'april': False,\n  'nick': False,\n  'season': False,\n  'excit': False,\n  'pm': False,\n  'exam': False,\n  'onlin': False,\n  'pick': False,\n  'seen': False,\n  'iphon': False,\n  'goe': False,\n  'worst': False,\n  'paper': False,\n  'took': False,\n  'hand': False,\n  'super': False,\n  'came': False,\n  'problem': False,\n  'page': False,\n  'horribl': False,\n  'upset': False,\n  'rememb': False,\n  'tuesday': False,\n  'brother': False,\n  'friday': False,\n  'lunch': False,\n  'bum': False,\n  'kind': False,\n  'serious': False,\n  'store': False,\n  'instead': False,\n  'xx': False,\n  'text': False,\n  'messag': False,\n  'news': False,\n  'email': False,\n  'til': False,\n  'mad': False,\n  'heart': False,\n  'glad': False,\n  'offic': False,\n  'jealou': False,\n  'word': False,\n  'person': False,\n  'set': False,\n  'care': False,\n  'whole': False,\n  'min': False,\n  'quit': False,\n  'sometim': False,\n  'hug': False,\n  'asleep': False,\n  'broken': False,\n  'fan': False,\n  'win': False,\n  'sweet': False,\n  'crazi': False,\n  'wont': False,\n  'spend': False,\n  'beach': False,\n  'worri': False,\n  'trip': False,\n  'appar': False,\n  'due': False,\n  'disappoint': False,\n  'ate': False,\n  'com': False,\n  'told': False,\n  'ass': False,\n  'complet': False,\n  'catch': False,\n  'part': False,\n  'cut': False,\n  'ive': False,\n  'realiz': False,\n  'reason': False,\n  'wear': False,\n  'link': False,\n  'doesnt': False,\n  'sleepi': False,\n  'wtf': False,\n  'summer': False,\n  'ride': False,\n  'photo': False,\n  'train': False,\n  'understand': False,\n  'drop': False,\n  'usual': False,\n  'account': False,\n  'dude': False,\n  'g': False,\n  'figur': False,\n  'project': False,\n  'soo': False,\n  'wors': False,\n  'full': False,\n  'e': False,\n  'hr': False,\n  'ah': False,\n  'load': False,\n  'pass': False,\n  'insid': False,\n  'sunni': False,\n  'red': False,\n  'sister': False,\n  'stomach': False,\n  'slow': False,\n  'cancel': False,\n  'heard': False,\n  'sadli': False,\n  'soooo': False,\n  'fell': False,\n  'fight': False,\n  'ach': False,\n  'episod': False,\n  'true': False,\n  'vacat': False,\n  'park': False,\n  'pay': False,\n  'terribl': False,\n  'l': False,\n  'window': False,\n  'shower': False,\n  'stori': False,\n  'shame': False,\n  'annoy': False,\n  'hahaha': False,\n  'moment': False,\n  'bought': False,\n  'k': False,\n  'citi': False,\n  'dear': False,\n  'short': False,\n  'st': False,\n  'cuz': False,\n  'mind': False,\n  'cours': False,\n  'record': False,\n  'top': False,\n  'second': False,\n  'download': False,\n  'water': False,\n  'upload': False,\n  'town': False,\n  'mess': False,\n  'bring': False,\n  'flight': False,\n  'ppl': False,\n  'fast': False,\n  'scare': False,\n  'offici': False,\n  'coupl': False,\n  'carter': False,\n  'finger': False,\n  'dress': False,\n  'hi': False,\n  'band': False,\n  'sent': False,\n  'stress': False,\n  'parent': False,\n  'pack': False,\n  'learn': False,\n  'visit': False,\n  'kick': False,\n  'mood': False,\n  'can': False,\n  'less': False,\n  'lmao': False,\n  'shoe': False,\n  'cute': False,\n  'breakfast': False,\n  'co': False,\n  'bar': False,\n  'danc': False,\n  'blue': False,\n  'agre': False,\n  'nite': False,\n  'team': False,\n  'ipod': False,\n  'past': False,\n  'slept': False,\n  'definit': False,\n  'mum': False,\n  'point': False,\n  'answer': False,\n  'sign': False,\n  'save': False,\n  'chanc': False,\n  'nd': False,\n  'doctor': False,\n  'sat': False,\n  'tweetdeck': False,\n  'hold': False,\n  'rock': False,\n  'order': False,\n  'crash': False,\n  'tummi': False,\n  'block': False,\n  'feet': False,\n  'uni': False,\n  'ruin': False,\n  'drunk': False,\n  'not': False,\n  'essay': False,\n  'what': False,\n  'issu': False,\n  'blog': False,\n  'bug': False,\n  'bummer': False,\n  'death': False,\n  'power': False,\n  'free': False,\n  'nap': False,\n  'bu': False,\n  'bout': False,\n  'argh': False,\n  'btw': False,\n  'airport': False,\n  'uk': False,\n  'decid': False,\n  'dentist': False,\n  'togeth': False,\n  'mileycyru': False,\n  'hospit': False,\n  'concert': False,\n  'facebook': False,\n  'manag': False,\n  'spent': False,\n  'leg': False,\n  'lay': False,\n  'side': False,\n  'lame': False,\n  'weird': False,\n  'mac': False,\n  'isnt': False,\n  'goodnight': False,\n  'coachella': False,\n  'line': False,\n  'ouch': False,\n  'interest': False,\n  'bodi': False,\n  'three': False,\n  'tea': False,\n  'sing': False,\n  'websit': False,\n  'funni': False,\n  'yea': False,\n  'fair': False,\n  'thursday': False,\n  'tour': False,\n  'cough': False,\n  'ahh': False,\n  'afternoon': False,\n  'behind': False,\n  'piss': False,\n  'star': False,\n  'shoot': False,\n  'confus': False,\n  'v': False,\n  'chocol': False,\n  'instal': False,\n  'flu': False,\n  'la': False,\n  'huge': False,\n  'fact': False,\n  'revis': False,\n  'batteri': False,\n  'colleg': False,\n  'idk': False,\n  'puppi': False,\n  'glass': False,\n  'longer': False,\n  'goin': False,\n  'english': False,\n  'none': False,\n  'burn': False,\n  'traffic': False,\n  'road': False,\n  'raini': False,\n  'loss': False,\n  'hill': False,\n  'hmm': False,\n  'hello': False,\n  'rip': False,\n  'nobodi': False,\n  'nose': False,\n  'wast': False,\n  'warm': False,\n  'googl': False,\n  'ladi': False,\n  'ice': False,\n  'bike': False,\n  'search': False,\n  'gut': False,\n  'race': False,\n  'freak': False,\n  'mr': False,\n  'expect': False,\n  'gym': False,\n  'em': False,\n  'lucki': False,\n  'deal': False,\n  'list': False,\n  'knew': False,\n  'taken': False,\n  'camera': False,\n  'kitti': False,\n  'small': False,\n  'white': False,\n  'web': False,\n  'box': False,\n  'havent': False,\n  'servic': False,\n  'club': False,\n  'air': False,\n  'low': False,\n  'pizza': False,\n  'easi': False,\n  'delet': False,\n  'fb': False,\n  'son': False,\n  'ha': False,\n  'wed': False,\n  'possibl': False,\n  'gave': False,\n  'date': False,\n  'scari': False,\n  'pull': False,\n  'invit': False,\n  'joke': False,\n  'london': False,\n  'goodby': False,\n  'near': False,\n  'shot': False,\n  'exhaust': False,\n  'film': False,\n  'cover': False,\n  'hubbi': False,\n  'boyfriend': False,\n  'light': False,\n  'mile': False,\n  'itali': False,\n  'empti': False,\n  'allergi': False,\n  'h': False,\n  'high': False,\n  'nope': False,\n  'yr': False,\n  'ad': False,\n  'favorit': False,\n  'rather': False,\n  'app': False,\n  'dvd': False,\n  'chat': False,\n  'ring': False,\n  'troubl': False,\n  'dang': False,\n  'earlier': False,\n  'garden': False,\n  'connect': False,\n  'except': False,\n  'ps': False,\n  'notic': False,\n  'round': False,\n  'youtub': False,\n  'sold': False,\n  'wet': False,\n  'speak': False,\n  'winter': False,\n  'door': False,\n  'fine': False,\n  'stand': False,\n  'pc': False,\n  'arm': False,\n  'seriou': False,\n  'fit': False,\n  'gah': False,\n  'age': False,\n  'bloodi': False,\n  'anywher': False,\n  'plu': False,\n  'report': False,\n  'tommcfli': False,\n  'yep': False,\n  'xd': False,\n  'houston': False,\n  'file': False,\n  'tax': False,\n  'forev': False,\n  'design': False,\n  'although': False,\n  'gosh': False,\n  'sort': False,\n  'assign': False,\n  'freez': False,\n  'tast': False,\n  'sell': False,\n  'cook': False,\n  'support': False,\n  'differ': False,\n  'cream': False,\n  'knee': False,\n  'lil': False,\n  'cake': False,\n  'fli': False,\n  'chicken': False,\n  'smell': False,\n  'comment': False,\n  'felt': False,\n  'album': False,\n  'lazi': False,\n  'librari': False,\n  'card': False,\n  'germani': False,\n  'state': False,\n  'dark': False,\n  'street': False,\n  'present': False,\n  'tree': False,\n  'cup': False,\n  'return': False,\n  'four': False,\n  'singl': False,\n  'texa': False,\n  'event': False,\n  'brain': False,\n  'blah': False,\n  'ball': False,\n  'ear': False,\n  'black': False,\n  'bye': False,\n  'babe': False,\n  'laugh': False,\n  'bird': False,\n  'current': False,\n  'mail': False,\n  'dunno': False,\n  'matter': False,\n  'peac': False,\n  'version': False,\n  'cell': False,\n  'ran': False,\n  'itun': False,\n  'egg': False,\n  'share': False,\n  'caught': False,\n  'note': False,\n  'da': False,\n  'case': False,\n  'shirt': False,\n  'expens': False,\n  'question': False,\n  'lie': False,\n  'type': False,\n  'especi': False,\n  'math': False,\n  'cheer': False,\n  'neck': False,\n  'wife': False,\n  'daughter': False,\n  'fire': False,\n  'count': False,\n  'prob': False,\n  'feed': False,\n  'degre': False,\n  'fml': False,\n  'wednesday': False,\n  'pray': False,\n  'tom': False,\n  'roll': False,\n  'number': False,\n  'somewher': False,\n  'add': False,\n  'realis': False,\n  'shut': False,\n  'yanke': False,\n  'bag': False,\n  'spam': False,\n  'entir': False,\n  'chuck': False,\n  'fat': False,\n  'voic': False,\n  'radio': False,\n  'hero': False,\n  'screw': False,\n  'arriv': False,\n  'art': False,\n  'bet': False,\n  'wide': False,\n  'chees': False,\n  'worth': False,\n  'green': False,\n  'quiet': False,\n  'button': False,\n  'appl': False,\n  'beat': False,\n  'aint': False,\n  'screen': False,\n  'infect': False,\n  'paint': False,\n  'darn': False,\n  'group': False,\n  'j': False,\n  'gorgeou': False,\n  'tear': False,\n  'burnt': False,\n  'forget': False,\n  'blood': False,\n  'smoke': False,\n  'kutner': False,\n  'mention': False,\n  'chicago': False,\n  'macbook': False,\n  'couldnt': False,\n  'bc': False,\n  'dread': False,\n  'bro': False,\n  'mouth': False,\n  'meant': False,\n  'exactli': False,\n  'coz': False,\n  'memori': False,\n  'cuddl': False,\n  'area': False,\n  'vet': False,\n  'mother': False,\n  'normal': False,\n  'holi': False,\n  'mark': False,\n  'cd': False,\n  'dm': False,\n  'bitch': False,\n  'san': False,\n  'ala': False,\n  'system': False,\n  'perform': False,\n  'track': False,\n  'hmmm': False,\n  'direct': False,\n  'middl': False,\n  'tonit': False,\n  'angel': False,\n  'canada': False,\n  'becom': False,\n  'afraid': False,\n  'fish': False,\n  'uh': False,\n  'twilight': False,\n  'dr': False,\n  'honey': False,\n  'beer': False,\n  'contact': False,\n  'mobil': False,\n  'foot': False,\n  'given': False,\n  'special': False,\n  'bday': False,\n  'ng': False,\n  'replac': False,\n  'stream': False,\n  'front': False,\n  'prepar': False,\n  'apart': False,\n  'jonathanrknight': False,\n  'experi': False,\n  'bill': False,\n  'edit': False,\n  'histori': False,\n  'nearli': False,\n  'code': False,\n  'tough': False,\n  'men': False,\n  'vega': False,\n  'copi': False,\n  'silli': False,\n  'other': False,\n  'cousin': False,\n  'doubt': False,\n  'camp': False,\n  'kal': False,\n  'penn': False,\n  'ahead': False,\n  'alarm': False,\n  'law': False,\n  'afford': False,\n  'migrain': False,\n  'shitti': False,\n  'profil': False,\n  'land': False,\n  'error': False,\n  'badli': False,\n  'xoxo': False,\n  'fault': False,\n  'bowl': False,\n  'shift': False,\n  'charg': False,\n  'starbuck': False,\n  'awwww': False,\n  'laundri': False,\n  'twit': False,\n  'teeth': False,\n  'price': False,\n  'pair': False,\n  'david': False,\n  'random': False,\n  'evil': False,\n  'act': False,\n  'wasnt': False,\n  'ny': False,\n  'clock': False,\n  'xxx': False,\n  'remind': False,\n  'fill': False,\n  'reach': False,\n  'product': False,\n  'attempt': False,\n  'dammit': False,\n  'absolut': False,\n  'chill': False,\n  'gross': False,\n  'machin': False,\n  'cabl': False,\n  'forc': False,\n  'self': False,\n  'imagin': False,\n  'hip': False,\n  'ignor': False,\n  'major': False,\n  'soup': False,\n  'husband': False,\n  'sky': False,\n  'wine': False,\n  'perfect': False,\n  'coursework': False,\n  'result': False,\n  'guitar': False,\n  'paid': False,\n  'mommi': False,\n  'interview': False,\n  'key': False,\n  ...},\n ...]"
     },
     "execution_count": 32,
     "metadata": {},
     "output_type": "execute_result"
    }
   ],
   "source": [
    "# your code here\n",
    "def find_features(document):\n",
    "    features = {}\n",
    "    for w in word_features:\n",
    "        features[w] = (w in document)\n",
    "    return features\n",
    "\n",
    "list_features = []\n",
    "for document in list_documents:\n",
    "    list_features.append(find_features(document))\n",
    "list_features"
   ]
  },
  {
   "cell_type": "code",
   "execution_count": 33,
   "metadata": {},
   "outputs": [
    {
     "data": {
      "text/plain": "20000"
     },
     "execution_count": 33,
     "metadata": {},
     "output_type": "execute_result"
    }
   ],
   "source": [
    "len(list_features)"
   ]
  },
  {
   "cell_type": "code",
   "execution_count": 35,
   "metadata": {},
   "outputs": [],
   "source": [
    "list_target = [True if l == 1 else False for l in df1['target'].values]"
   ]
  },
  {
   "cell_type": "code",
   "execution_count": 36,
   "metadata": {},
   "outputs": [
    {
     "data": {
      "text/plain": "20000"
     },
     "execution_count": 36,
     "metadata": {},
     "output_type": "execute_result"
    }
   ],
   "source": [
    "len(list_target)"
   ]
  },
  {
   "cell_type": "code",
   "execution_count": 38,
   "metadata": {},
   "outputs": [],
   "source": [
    "def merge(list1, list2): \n",
    "      \n",
    "    merged_list = [(list1[i], list2[i]) for i in range(0, len(list1))] \n",
    "    return merged_list \n",
    "      \n",
    "list_merge = merge(list_features, list_target)"
   ]
  },
  {
   "cell_type": "code",
   "execution_count": 42,
   "metadata": {},
   "outputs": [
    {
     "data": {
      "text/plain": "list"
     },
     "execution_count": 42,
     "metadata": {},
     "output_type": "execute_result"
    }
   ],
   "source": [
    "type(list_merge)"
   ]
  },
  {
   "cell_type": "markdown",
   "metadata": {},
   "source": [
    "### Building and Traininng Naive Bayes Model\n",
    "\n",
    "In this step you will split your feature set into a training and a test set. Then you will create a Bayes classifier instance using `nltk.NaiveBayesClassifier.train` ([example](https://www.nltk.org/book/ch06.html)) to train with the training dataset.\n",
    "\n",
    "After training the model, call `classifier.show_most_informative_features()` to inspect the most important features. The output will look like:\n",
    "\n",
    "```\n",
    "Most Informative Features\n",
    "\t    snow = True            False : True   =     34.3 : 1.0\n",
    "\t  easter = True            False : True   =     26.2 : 1.0\n",
    "\t headach = True            False : True   =     20.9 : 1.0\n",
    "\t    argh = True            False : True   =     17.6 : 1.0\n",
    "\tunfortun = True            False : True   =     16.9 : 1.0\n",
    "\t    jona = True             True : False  =     16.2 : 1.0\n",
    "\t     ach = True            False : True   =     14.9 : 1.0\n",
    "\t     sad = True            False : True   =     13.0 : 1.0\n",
    "\t  parent = True            False : True   =     12.9 : 1.0\n",
    "\t  spring = True            False : True   =     12.7 : 1.0\n",
    "```\n",
    "\n",
    "The [following video](https://www.youtube.com/watch?v=rISOsUaTrO4) will help you complete this step. The source code in this video can be found [here](https://pythonprogramming.net/naive-bayes-classifier-nltk-tutorial/)."
   ]
  },
  {
   "cell_type": "markdown",
   "metadata": {},
   "source": [
    "[![Building and Training NB](nb-model-building.jpg)](https://www.youtube.com/watch?v=rISOsUaTrO4)"
   ]
  },
  {
   "cell_type": "code",
   "execution_count": 43,
   "metadata": {},
   "outputs": [],
   "source": [
    "# your code here\n",
    "import nltk\n",
    "train_set, test_set = list_merge[10000:], list_merge[:10000]\n",
    "classifier = nltk.NaiveBayesClassifier.train(train_set)"
   ]
  },
  {
   "cell_type": "markdown",
   "metadata": {},
   "source": [
    "### Testing Naive Bayes Model\n",
    "\n",
    "Now we'll test our classifier with the test dataset. This is done by calling `nltk.classify.accuracy(classifier, test)`.\n",
    "\n",
    "As mentioned in one of the tutorial videos, a Naive Bayes model is considered OK if your accuracy score is over 0.6. If your accuracy score is over 0.7, you've done a great job!"
   ]
  },
  {
   "cell_type": "code",
   "execution_count": 44,
   "metadata": {},
   "outputs": [
    {
     "name": "stdout",
     "output_type": "stream",
     "text": "1.0\n"
    }
   ],
   "source": [
    "# your code here\n",
    "print(nltk.classify.accuracy(classifier, test_set))"
   ]
  },
  {
   "cell_type": "markdown",
   "metadata": {},
   "source": [
    "## Bonus Question 1: Improve Model Performance\n",
    "\n",
    "If you are still not exhausted so far and want to dig deeper, try to improve your classifier performance. There are many aspects you can dig into, for example:\n",
    "\n",
    "* Improve stemming and lemmatization. Inspect your bag of words and the most important features. Are there any words you should furuther remove from analysis? You can append these words to further remove to the stop words list.\n",
    "\n",
    "* Remember we only used the top 5,000 features to build model? Try using different numbers of top features. The bottom line is to use as few features as you can without compromising your model performance. The fewer features you select into your model, the faster your model is trained. Then you can use a larger sample size to improve your model accuracy score."
   ]
  },
  {
   "cell_type": "code",
   "execution_count": null,
   "metadata": {},
   "outputs": [],
   "source": [
    "# your code here"
   ]
  },
  {
   "cell_type": "markdown",
   "metadata": {},
   "source": [
    "## Bonus Question 2: Machine Learning Pipeline\n",
    "\n",
    "In a new Jupyter Notebook, combine all your codes into a function (or a class). Your new function will execute the complete machine learning pipeline job by receiving the dataset location and output the classifier. This will allow you to use your function to predict the sentiment of any tweet in real time. "
   ]
  },
  {
   "cell_type": "code",
   "execution_count": null,
   "metadata": {},
   "outputs": [],
   "source": [
    "# your code here"
   ]
  },
  {
   "cell_type": "markdown",
   "metadata": {},
   "source": [
    "## Bonus Question 3: Apache Spark\n",
    "\n",
    "If you have completed the Apache Spark advanced topic lab, what you can do is to migrate your pipeline from local to a Databricks Notebook. Share your notebook with your instructor and classmates to show off your achievements!"
   ]
  },
  {
   "cell_type": "code",
   "execution_count": null,
   "metadata": {},
   "outputs": [],
   "source": [
    "# your code here"
   ]
  }
 ],
 "metadata": {
  "kernelspec": {
   "display_name": "Python 3.7.0 64-bit",
   "language": "python",
   "name": "python37064bit39252bf4c84f4ac2a95e48bfa91f80eb"
  },
  "language_info": {
   "codemirror_mode": {
    "name": "ipython",
    "version": 3
   },
   "file_extension": ".py",
   "mimetype": "text/x-python",
   "name": "python",
   "nbconvert_exporter": "python",
   "pygments_lexer": "ipython3",
   "version": "3.7.0-final"
  }
 },
 "nbformat": 4,
 "nbformat_minor": 2
}