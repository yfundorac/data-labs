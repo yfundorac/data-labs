{
 "cells": [
  {
   "cell_type": "markdown",
   "metadata": {},
   "outputs": [],
   "source": [
    "# Before your start:\n",
    "- Read the README.md file\n",
    "- Comment as much as you can and use the resources in the README.md file\n",
    "- Happy learning!"
   ]
  },
  {
   "cell_type": "code",
   "execution_count": 6,
   "metadata": {},
   "outputs": [],
   "source": [
    "# Import your libraries:\n",
    "import pandas as pd\n",
    "import numpy as np\n",
    "import seaborn as sns\n",
    "import matplotlib.pyplot as plt\n",
    "\n",
    "np.random.seed(42)\n"
   ]
  },
  {
   "cell_type": "markdown",
   "metadata": {},
   "outputs": [],
   "source": [
    "# Challenge 1 - Explore the Scikit-Learn Datasets\n",
    "\n",
    "Before starting to work on our own datasets, let's first explore the datasets that are included in this Python library. These datasets have been cleaned and formatted for use in ML algorithms."
   ]
  },
  {
   "cell_type": "markdown",
   "metadata": {},
   "outputs": [],
   "source": [
    "First, we will load the diabetes dataset. Do this in the cell below by importing the datasets and then loading the dataset  to the `diabetes` variable using the `load_diabetes()` function."
   ]
  },
  {
   "cell_type": "code",
   "execution_count": 7,
   "metadata": {},
   "outputs": [
    {
     "data": {
      "text/plain": "{'data': array([[ 0.03807591,  0.05068012,  0.06169621, ..., -0.00259226,\n          0.01990842, -0.01764613],\n        [-0.00188202, -0.04464164, -0.05147406, ..., -0.03949338,\n         -0.06832974, -0.09220405],\n        [ 0.08529891,  0.05068012,  0.04445121, ..., -0.00259226,\n          0.00286377, -0.02593034],\n        ...,\n        [ 0.04170844,  0.05068012, -0.01590626, ..., -0.01107952,\n         -0.04687948,  0.01549073],\n        [-0.04547248, -0.04464164,  0.03906215, ...,  0.02655962,\n          0.04452837, -0.02593034],\n        [-0.04547248, -0.04464164, -0.0730303 , ..., -0.03949338,\n         -0.00421986,  0.00306441]]),\n 'target': array([151.,  75., 141., 206., 135.,  97., 138.,  63., 110., 310., 101.,\n         69., 179., 185., 118., 171., 166., 144.,  97., 168.,  68.,  49.,\n         68., 245., 184., 202., 137.,  85., 131., 283., 129.,  59., 341.,\n         87.,  65., 102., 265., 276., 252.,  90., 100.,  55.,  61.,  92.,\n        259.,  53., 190., 142.,  75., 142., 155., 225.,  59., 104., 182.,\n        128.,  52.,  37., 170., 170.,  61., 144.,  52., 128.,  71., 163.,\n        150.,  97., 160., 178.,  48., 270., 202., 111.,  85.,  42., 170.,\n        200., 252., 113., 143.,  51.,  52., 210.,  65., 141.,  55., 134.,\n         42., 111.,  98., 164.,  48.,  96.,  90., 162., 150., 279.,  92.,\n         83., 128., 102., 302., 198.,  95.,  53., 134., 144., 232.,  81.,\n        104.,  59., 246., 297., 258., 229., 275., 281., 179., 200., 200.,\n        173., 180.,  84., 121., 161.,  99., 109., 115., 268., 274., 158.,\n        107.,  83., 103., 272.,  85., 280., 336., 281., 118., 317., 235.,\n         60., 174., 259., 178., 128.,  96., 126., 288.,  88., 292.,  71.,\n        197., 186.,  25.,  84.,  96., 195.,  53., 217., 172., 131., 214.,\n         59.,  70., 220., 268., 152.,  47.,  74., 295., 101., 151., 127.,\n        237., 225.,  81., 151., 107.,  64., 138., 185., 265., 101., 137.,\n        143., 141.,  79., 292., 178.,  91., 116.,  86., 122.,  72., 129.,\n        142.,  90., 158.,  39., 196., 222., 277.,  99., 196., 202., 155.,\n         77., 191.,  70.,  73.,  49.,  65., 263., 248., 296., 214., 185.,\n         78.,  93., 252., 150.,  77., 208.,  77., 108., 160.,  53., 220.,\n        154., 259.,  90., 246., 124.,  67.,  72., 257., 262., 275., 177.,\n         71.,  47., 187., 125.,  78.,  51., 258., 215., 303., 243.,  91.,\n        150., 310., 153., 346.,  63.,  89.,  50.,  39., 103., 308., 116.,\n        145.,  74.,  45., 115., 264.,  87., 202., 127., 182., 241.,  66.,\n         94., 283.,  64., 102., 200., 265.,  94., 230., 181., 156., 233.,\n         60., 219.,  80.,  68., 332., 248.,  84., 200.,  55.,  85.,  89.,\n         31., 129.,  83., 275.,  65., 198., 236., 253., 124.,  44., 172.,\n        114., 142., 109., 180., 144., 163., 147.,  97., 220., 190., 109.,\n        191., 122., 230., 242., 248., 249., 192., 131., 237.,  78., 135.,\n        244., 199., 270., 164.,  72.,  96., 306.,  91., 214.,  95., 216.,\n        263., 178., 113., 200., 139., 139.,  88., 148.,  88., 243.,  71.,\n         77., 109., 272.,  60.,  54., 221.,  90., 311., 281., 182., 321.,\n         58., 262., 206., 233., 242., 123., 167.,  63., 197.,  71., 168.,\n        140., 217., 121., 235., 245.,  40.,  52., 104., 132.,  88.,  69.,\n        219.,  72., 201., 110.,  51., 277.,  63., 118.,  69., 273., 258.,\n         43., 198., 242., 232., 175.,  93., 168., 275., 293., 281.,  72.,\n        140., 189., 181., 209., 136., 261., 113., 131., 174., 257.,  55.,\n         84.,  42., 146., 212., 233.,  91., 111., 152., 120.,  67., 310.,\n         94., 183.,  66., 173.,  72.,  49.,  64.,  48., 178., 104., 132.,\n        220.,  57.]),\n 'DESCR': '.. _diabetes_dataset:\\n\\nDiabetes dataset\\n----------------\\n\\nTen baseline variables, age, sex, body mass index, average blood\\npressure, and six blood serum measurements were obtained for each of n =\\n442 diabetes patients, as well as the response of interest, a\\nquantitative measure of disease progression one year after baseline.\\n\\n**Data Set Characteristics:**\\n\\n  :Number of Instances: 442\\n\\n  :Number of Attributes: First 10 columns are numeric predictive values\\n\\n  :Target: Column 11 is a quantitative measure of disease progression one year after baseline\\n\\n  :Attribute Information:\\n      - Age\\n      - Sex\\n      - Body mass index\\n      - Average blood pressure\\n      - S1\\n      - S2\\n      - S3\\n      - S4\\n      - S5\\n      - S6\\n\\nNote: Each of these 10 feature variables have been mean centered and scaled by the standard deviation times `n_samples` (i.e. the sum of squares of each column totals 1).\\n\\nSource URL:\\nhttps://www4.stat.ncsu.edu/~boos/var.select/diabetes.html\\n\\nFor more information see:\\nBradley Efron, Trevor Hastie, Iain Johnstone and Robert Tibshirani (2004) \"Least Angle Regression,\" Annals of Statistics (with discussion), 407-499.\\n(https://web.stanford.edu/~hastie/Papers/LARS/LeastAngle_2002.pdf)',\n 'feature_names': ['age',\n  'sex',\n  'bmi',\n  'bp',\n  's1',\n  's2',\n  's3',\n  's4',\n  's5',\n  's6'],\n 'data_filename': 'C:\\\\Users\\\\Ironhack\\\\AppData\\\\Roaming\\\\Python\\\\Python37\\\\site-packages\\\\sklearn\\\\datasets\\\\data\\\\diabetes_data.csv.gz',\n 'target_filename': 'C:\\\\Users\\\\Ironhack\\\\AppData\\\\Roaming\\\\Python\\\\Python37\\\\site-packages\\\\sklearn\\\\datasets\\\\data\\\\diabetes_target.csv.gz'}"
     },
     "execution_count": 7,
     "metadata": {},
     "output_type": "execute_result"
    }
   ],
   "source": [
    "# Your code here:\n",
    "from sklearn.datasets import load_diabetes\n",
    "diabetes = load_diabetes()\n",
    "diabetes"
   ]
  },
  {
   "cell_type": "markdown",
   "metadata": {},
   "outputs": [],
   "source": [
    "Let's explore this variable by looking at the different attributes. Do this by looking at the `keys()` of this variable."
   ]
  },
  {
   "cell_type": "code",
   "execution_count": 8,
   "metadata": {},
   "outputs": [
    {
     "data": {
      "text/plain": "dict_keys(['data', 'target', 'DESCR', 'feature_names', 'data_filename', 'target_filename'])"
     },
     "execution_count": 8,
     "metadata": {},
     "output_type": "execute_result"
    }
   ],
   "source": [
    "# Your code here:\n",
    "\n",
    "diabetes.keys()"
   ]
  },
  {
   "cell_type": "markdown",
   "metadata": {},
   "outputs": [],
   "source": [
    "The next step is to read the description of the dataset. Print the description in the cell below using the `DESCR` attribute of the `diabetes` variable"
   ]
  },
  {
   "cell_type": "code",
   "execution_count": 9,
   "metadata": {},
   "outputs": [
    {
     "data": {
      "text/plain": "'.. _diabetes_dataset:\\n\\nDiabetes dataset\\n----------------\\n\\nTen baseline variables, age, sex, body mass index, average blood\\npressure, and six blood serum measurements were obtained for each of n =\\n442 diabetes patients, as well as the response of interest, a\\nquantitative measure of disease progression one year after baseline.\\n\\n**Data Set Characteristics:**\\n\\n  :Number of Instances: 442\\n\\n  :Number of Attributes: First 10 columns are numeric predictive values\\n\\n  :Target: Column 11 is a quantitative measure of disease progression one year after baseline\\n\\n  :Attribute Information:\\n      - Age\\n      - Sex\\n      - Body mass index\\n      - Average blood pressure\\n      - S1\\n      - S2\\n      - S3\\n      - S4\\n      - S5\\n      - S6\\n\\nNote: Each of these 10 feature variables have been mean centered and scaled by the standard deviation times `n_samples` (i.e. the sum of squares of each column totals 1).\\n\\nSource URL:\\nhttps://www4.stat.ncsu.edu/~boos/var.select/diabetes.html\\n\\nFor more information see:\\nBradley Efron, Trevor Hastie, Iain Johnstone and Robert Tibshirani (2004) \"Least Angle Regression,\" Annals of Statistics (with discussion), 407-499.\\n(https://web.stanford.edu/~hastie/Papers/LARS/LeastAngle_2002.pdf)'"
     },
     "execution_count": 9,
     "metadata": {},
     "output_type": "execute_result"
    }
   ],
   "source": [
    "# Your code here:\n",
    "diabetes.DESCR"
   ]
  },
  {
   "cell_type": "markdown",
   "metadata": {},
   "outputs": [],
   "source": [
    "What are the variables in this dataset according to the description? List them in the markdown cell below"
   ]
  },
  {
   "cell_type": "markdown",
   "metadata": {},
   "outputs": [],
   "source": [
    "#### Enter your answer here:\n",
    "#### 'age', 'sex', 'bmi', 'bp', 's1', 's2', 's3', 's4', 's5', 's6'\n",
    "\n",
    "\n"
   ]
  },
  {
   "cell_type": "markdown",
   "metadata": {},
   "outputs": [],
   "source": [
    "Now explore the data. Scikit-learn typically takes in 2D numpy arrays as input (though pandas dataframes are also accepted). In the cell below find the shape of the numpy array contained in the data portion of the diabetes variable."
   ]
  },
  {
   "cell_type": "code",
   "execution_count": 10,
   "metadata": {},
   "outputs": [
    {
     "data": {
      "text/plain": "(442, 10)"
     },
     "execution_count": 10,
     "metadata": {},
     "output_type": "execute_result"
    }
   ],
   "source": [
    "# Your code here:\n",
    "diabetes['data'].shape\n"
   ]
  },
  {
   "cell_type": "markdown",
   "metadata": {},
   "outputs": [],
   "source": [
    "# Challenge 2 - Perform Supervised Learning on the Dataset"
   ]
  },
  {
   "cell_type": "markdown",
   "metadata": {},
   "outputs": [],
   "source": [
    "#### The data has already been split to predictor and response variables. The response variable is in the `target` portion of the variable. \n",
    "\n",
    "Given this information, let's apply what we have previously learned about linear regression and apply the algorithm to the diabetes dataset. In the cell below, import the linear regression class from sklearn. "
   ]
  },
  {
   "cell_type": "code",
   "execution_count": 11,
   "metadata": {},
   "outputs": [],
   "source": [
    "# Your code here:\n",
    "from sklearn.linear_model import LinearRegression\n",
    "features = diabetes['data'] # features\n",
    "target = diabetes['target'] #target\n",
    "diabetes_model = LinearRegression()"
   ]
  },
  {
   "cell_type": "markdown",
   "metadata": {},
   "outputs": [],
   "source": [
    "Initialize the model in the variable `diabetes_model`"
   ]
  },
  {
   "cell_type": "code",
   "execution_count": 12,
   "metadata": {},
   "outputs": [
    {
     "data": {
      "text/plain": "LinearRegression(copy_X=True, fit_intercept=True, n_jobs=None, normalize=False)"
     },
     "execution_count": 12,
     "metadata": {},
     "output_type": "execute_result"
    }
   ],
   "source": [
    "# Your code here:\n",
    "diabetes_model.fit(features, target)\n"
   ]
  },
  {
   "cell_type": "markdown",
   "metadata": {},
   "outputs": [],
   "source": [
    "In the cell below, fit the model and print the intercept and coefficients of the model. "
   ]
  },
  {
   "cell_type": "code",
   "execution_count": 13,
   "metadata": {},
   "outputs": [
    {
     "data": {
      "text/plain": "(152.1334841628965, -10.012197817471241)"
     },
     "execution_count": 13,
     "metadata": {},
     "output_type": "execute_result"
    }
   ],
   "source": [
    "# Your code here:\n",
    "intercept = diabetes_model.intercept_ \n",
    "x_slope = diabetes_model.coef_[0]\n",
    "intercept, x_slope\n"
   ]
  },
  {
   "cell_type": "markdown",
   "metadata": {},
   "outputs": [],
   "source": [
    "# Bonus Challenge 1 - Conduct a Hypothesis Test on the Model\n",
    "\n",
    "Once we have generated a linear model, we can test each coefficient using a t-test to see whether the confidence interval for the variable contains zero. We can also perform an overall F test to check whether at least one coefficient is significantly different from zero. \n",
    "\n",
    "Refer to the resource in this [link](https://onlinecourses.science.psu.edu/stat501/node/297/) for more details and perform the t-tests for the model above. Additionally, interpret the results and list coefficients are significantly different from zero.\n",
    "\n",
    "\n",
    "Hint: use the statsmodels package.\n",
    "\n",
    "Your result should look similar to this:\n",
    "\n",
    "![ols](../ols-results.png)"
   ]
  },
  {
   "cell_type": "code",
   "execution_count": 14,
   "metadata": {},
   "outputs": [],
   "source": [
    "# Your code here:\n",
    "\n"
   ]
  },
  {
   "cell_type": "markdown",
   "metadata": {},
   "outputs": [],
   "source": [
    "# Challenge 2 - Peform Supervised Learning on a Pandas Dataframe"
   ]
  },
  {
   "cell_type": "markdown",
   "metadata": {},
   "outputs": [],
   "source": [
    "Now that we have looked at data that has been formatted for scikit-learn, let's look at data that we will need to format ourselves.\n",
    "\n",
    "In the next cell, load the `auto-mpg.csv` file included in this folder and assign it to a variable called `auto`."
   ]
  },
  {
   "cell_type": "code",
   "execution_count": 15,
   "metadata": {},
   "outputs": [],
   "source": [
    "# Your code here:\n",
    "\n",
    "auto = pd.read_csv('C:/Users/Ironhack/Documents/Ironhack/Week1/data-labs/module-3/lab-intro-to-sklearn/auto-mpg.csv')"
   ]
  },
  {
   "cell_type": "markdown",
   "metadata": {},
   "outputs": [],
   "source": [
    "Look at the first 5 rows using the `head()` function:"
   ]
  },
  {
   "cell_type": "code",
   "execution_count": 16,
   "metadata": {},
   "outputs": [
    {
     "data": {
      "text/html": "<div>\n<style scoped>\n    .dataframe tbody tr th:only-of-type {\n        vertical-align: middle;\n    }\n\n    .dataframe tbody tr th {\n        vertical-align: top;\n    }\n\n    .dataframe thead th {\n        text-align: right;\n    }\n</style>\n<table border=\"1\" class=\"dataframe\">\n  <thead>\n    <tr style=\"text-align: right;\">\n      <th></th>\n      <th>mpg</th>\n      <th>cylinders</th>\n      <th>displacement</th>\n      <th>horse_power</th>\n      <th>weight</th>\n      <th>acceleration</th>\n      <th>model_year</th>\n      <th>car_name</th>\n    </tr>\n  </thead>\n  <tbody>\n    <tr>\n      <th>0</th>\n      <td>18.0</td>\n      <td>8</td>\n      <td>307.0</td>\n      <td>130.0</td>\n      <td>3504</td>\n      <td>12.0</td>\n      <td>70</td>\n      <td>\\t\"chevrolet chevelle malibu\"</td>\n    </tr>\n    <tr>\n      <th>1</th>\n      <td>15.0</td>\n      <td>8</td>\n      <td>350.0</td>\n      <td>165.0</td>\n      <td>3693</td>\n      <td>11.5</td>\n      <td>70</td>\n      <td>\\t\"buick skylark 320\"</td>\n    </tr>\n    <tr>\n      <th>2</th>\n      <td>18.0</td>\n      <td>8</td>\n      <td>318.0</td>\n      <td>150.0</td>\n      <td>3436</td>\n      <td>11.0</td>\n      <td>70</td>\n      <td>\\t\"plymouth satellite\"</td>\n    </tr>\n    <tr>\n      <th>3</th>\n      <td>16.0</td>\n      <td>8</td>\n      <td>304.0</td>\n      <td>150.0</td>\n      <td>3433</td>\n      <td>12.0</td>\n      <td>70</td>\n      <td>\\t\"amc rebel sst\"</td>\n    </tr>\n    <tr>\n      <th>4</th>\n      <td>17.0</td>\n      <td>8</td>\n      <td>302.0</td>\n      <td>140.0</td>\n      <td>3449</td>\n      <td>10.5</td>\n      <td>70</td>\n      <td>\\t\"ford torino\"</td>\n    </tr>\n  </tbody>\n</table>\n</div>",
      "text/plain": "    mpg  cylinders  displacement  horse_power  weight  acceleration  \\\n0  18.0          8         307.0        130.0    3504          12.0   \n1  15.0          8         350.0        165.0    3693          11.5   \n2  18.0          8         318.0        150.0    3436          11.0   \n3  16.0          8         304.0        150.0    3433          12.0   \n4  17.0          8         302.0        140.0    3449          10.5   \n\n   model_year                       car_name  \n0          70  \\t\"chevrolet chevelle malibu\"  \n1          70          \\t\"buick skylark 320\"  \n2          70         \\t\"plymouth satellite\"  \n3          70              \\t\"amc rebel sst\"  \n4          70                \\t\"ford torino\"  "
     },
     "execution_count": 16,
     "metadata": {},
     "output_type": "execute_result"
    }
   ],
   "source": [
    "# Your code here:\n",
    "\n",
    "auto.head()"
   ]
  },
  {
   "cell_type": "markdown",
   "metadata": {},
   "outputs": [],
   "source": [
    "Evaluate the data to ensure that all numeric columns are correctly detected as such by pandas. If a column is misclassified as object, coerce it to numeric."
   ]
  },
  {
   "cell_type": "code",
   "execution_count": 17,
   "metadata": {},
   "outputs": [
    {
     "data": {
      "text/plain": "mpg             float64\ncylinders         int64\ndisplacement    float64\nhorse_power     float64\nweight            int64\nacceleration    float64\nmodel_year        int64\ncar_name         object\ndtype: object"
     },
     "execution_count": 17,
     "metadata": {},
     "output_type": "execute_result"
    }
   ],
   "source": [
    "# Your code here:\n",
    "auto.dtypes\n"
   ]
  },
  {
   "cell_type": "markdown",
   "metadata": {},
   "outputs": [],
   "source": [
    "What is the newest model year and the oldest model year?"
   ]
  },
  {
   "cell_type": "code",
   "execution_count": 18,
   "metadata": {},
   "outputs": [
    {
     "data": {
      "text/plain": "array([70, 71, 72, 73, 74, 75, 76, 77, 78, 79, 80, 81, 82], dtype=int64)"
     },
     "execution_count": 18,
     "metadata": {},
     "output_type": "execute_result"
    }
   ],
   "source": [
    "# Your code here:\n",
    "auto['model_year'].unique()"
   ]
  },
  {
   "cell_type": "markdown",
   "metadata": {},
   "outputs": [],
   "source": [
    "Check the dataset for missing values and remove all rows containing at least one missing value."
   ]
  },
  {
   "cell_type": "code",
   "execution_count": 19,
   "metadata": {},
   "outputs": [],
   "source": [
    "# Your code here:\n",
    "auto.dropna(how = 'any', inplace = True)\n"
   ]
  },
  {
   "cell_type": "markdown",
   "metadata": {},
   "outputs": [],
   "source": [
    "Find the frequency table for the `cylinders` column using the `value_counts()` function. How many possible values of cylinders are there?"
   ]
  },
  {
   "cell_type": "code",
   "execution_count": 20,
   "metadata": {},
   "outputs": [
    {
     "data": {
      "text/plain": "4    199\n8    103\n6     83\n3      4\n5      3\nName: cylinders, dtype: int64"
     },
     "execution_count": 20,
     "metadata": {},
     "output_type": "execute_result"
    }
   ],
   "source": [
    "# Your code here:\n",
    "auto['cylinders'].value_counts()\n"
   ]
  },
  {
   "cell_type": "markdown",
   "metadata": {},
   "outputs": [],
   "source": [
    "We would like to generate a linear regression model that will predict mpg. To do this, first drop the `car_name` column since it does not contain any quantitative data. Next separate the dataframe to predictor and response variables. Separate those into test and training data with 80% of the data in the training set and the remainder in the test set. \n",
    "\n",
    "Assign the predictor and response training data to `X_train` and `y_train` respectively. Similarly, assign the predictor and response test data to `X_test` and `y_test`."
   ]
  },
  {
   "cell_type": "code",
   "execution_count": 21,
   "metadata": {},
   "outputs": [],
   "source": [
    "# Import the necessary function\n",
    "from sklearn.linear_model import LinearRegression\n",
    "from sklearn.model_selection import train_test_split"
   ]
  },
  {
   "cell_type": "code",
   "execution_count": 22,
   "metadata": {},
   "outputs": [],
   "source": [
    "# Your code here:\n",
    "auto.drop(columns = 'car_name', inplace = True)"
   ]
  },
  {
   "cell_type": "code",
   "execution_count": 23,
   "metadata": {},
   "outputs": [
    {
     "data": {
      "text/plain": "mpg             0\ncylinders       0\ndisplacement    0\nhorse_power     0\nweight          0\nacceleration    0\nmodel_year      0\ndtype: int64"
     },
     "execution_count": 23,
     "metadata": {},
     "output_type": "execute_result"
    }
   ],
   "source": [
    "auto.isna().sum()"
   ]
  },
  {
   "cell_type": "code",
   "execution_count": 24,
   "metadata": {},
   "outputs": [],
   "source": [
    "feature = auto[['cylinders', 'displacement', 'horse_power', 'weight',\n",
    "       'acceleration', 'model_year']] #features\n",
    "target = auto['mpg'] # target"
   ]
  },
  {
   "cell_type": "code",
   "execution_count": 25,
   "metadata": {},
   "outputs": [
    {
     "data": {
      "text/plain": "313"
     },
     "execution_count": 25,
     "metadata": {},
     "output_type": "execute_result"
    }
   ],
   "source": [
    "features_train, features_test, target_train, target_test = train_test_split(\n",
    "    feature,\n",
    "    target,\n",
    "    test_size = .2,\n",
    "    random_state = 42\n",
    ")\n",
    "\n",
    "features_train.shape[0]"
   ]
  },
  {
   "cell_type": "markdown",
   "metadata": {},
   "outputs": [],
   "source": [
    "Now we will the dataset that we processed and peform linear regression on this data to predict the mpg for each vehicle. Initialize the model in the cell below."
   ]
  },
  {
   "cell_type": "code",
   "execution_count": 26,
   "metadata": {},
   "outputs": [],
   "source": [
    "# Your code here:\n",
    "\n",
    "model_auto = LinearRegression()\n"
   ]
  },
  {
   "cell_type": "markdown",
   "metadata": {},
   "outputs": [],
   "source": [
    "Next, fit the model in the cell below."
   ]
  },
  {
   "cell_type": "code",
   "execution_count": 27,
   "metadata": {},
   "outputs": [
    {
     "data": {
      "text/plain": "LinearRegression(copy_X=True, fit_intercept=True, n_jobs=None, normalize=False)"
     },
     "execution_count": 27,
     "metadata": {},
     "output_type": "execute_result"
    }
   ],
   "source": [
    "# Your code here:\n",
    "model_auto.fit(features_train, target_train)\n"
   ]
  },
  {
   "cell_type": "markdown",
   "metadata": {},
   "outputs": [],
   "source": [
    "# Challenge 3 - Evaluate the Model\n",
    "\n",
    "the r squared score of a model tells us how much variation is explained by the model. In a typical dataset, most observations differ from the mean. When we create a model, we are trying to generate an equation that will tell us by how much each observation will differ from the mean. Obviously, the vast majority of models are not perfect. They can only predict some of the variation from the mean but not all of it. We attribute the rest of the difference between the actual value and the mean to random error. We would like random error to explain the as little as possible of the variation. This is why the r squared score is an important metric.\n",
    "\n",
    "In the next cell, compute the r squared score of the model. Do this by first computing the predicted values and assign them to `y_pred`."
   ]
  },
  {
   "cell_type": "code",
   "execution_count": 28,
   "metadata": {},
   "outputs": [],
   "source": [
    "# Import the necessary function:\n",
    "from sklearn.metrics import r2_score\n"
   ]
  },
  {
   "cell_type": "code",
   "execution_count": 29,
   "metadata": {},
   "outputs": [
    {
     "data": {
      "text/plain": "0.794234907542859"
     },
     "execution_count": 29,
     "metadata": {},
     "output_type": "execute_result"
    }
   ],
   "source": [
    "# Your code here:\n",
    "y_pred = model_auto.predict(features_test)\n",
    "r2_score(target_test, y_pred) #test values, predicted values"
   ]
  },
  {
   "cell_type": "markdown",
   "metadata": {},
   "outputs": [],
   "source": [
    "#### Our next step is to evaluate the model using the test data. We would like to ensure that our model is not overfitting the data. This means that our model will not be able to generalize well outside of the training data.\n",
    "\n",
    "In the cell below, use the model to generate the predicted values for the training data and assign them to `y_test_pred`. Compute the r squared score for the test data by comparing the oberserved `y_test` data and the predicted `y_test_pred`."
   ]
  },
  {
   "cell_type": "code",
   "execution_count": 30,
   "metadata": {},
   "outputs": [
    {
     "data": {
      "text/html": "<div>\n<style scoped>\n    .dataframe tbody tr th:only-of-type {\n        vertical-align: middle;\n    }\n\n    .dataframe tbody tr th {\n        vertical-align: top;\n    }\n\n    .dataframe thead th {\n        text-align: right;\n    }\n</style>\n<table border=\"1\" class=\"dataframe\">\n  <thead>\n    <tr style=\"text-align: right;\">\n      <th></th>\n      <th>observed</th>\n      <th>predicted</th>\n    </tr>\n  </thead>\n  <tbody>\n    <tr>\n      <th>79</th>\n      <td>26.0</td>\n      <td>25.932796</td>\n    </tr>\n    <tr>\n      <th>276</th>\n      <td>21.6</td>\n      <td>26.299279</td>\n    </tr>\n    <tr>\n      <th>248</th>\n      <td>36.1</td>\n      <td>32.965489</td>\n    </tr>\n    <tr>\n      <th>56</th>\n      <td>26.0</td>\n      <td>26.854430</td>\n    </tr>\n    <tr>\n      <th>393</th>\n      <td>27.0</td>\n      <td>29.453726</td>\n    </tr>\n    <tr>\n      <th>205</th>\n      <td>28.0</td>\n      <td>29.086995</td>\n    </tr>\n    <tr>\n      <th>43</th>\n      <td>13.0</td>\n      <td>7.638748</td>\n    </tr>\n    <tr>\n      <th>235</th>\n      <td>26.0</td>\n      <td>29.237044</td>\n    </tr>\n    <tr>\n      <th>152</th>\n      <td>19.0</td>\n      <td>20.877360</td>\n    </tr>\n    <tr>\n      <th>117</th>\n      <td>29.0</td>\n      <td>28.915829</td>\n    </tr>\n    <tr>\n      <th>9</th>\n      <td>15.0</td>\n      <td>12.485037</td>\n    </tr>\n    <tr>\n      <th>210</th>\n      <td>19.0</td>\n      <td>23.698983</td>\n    </tr>\n    <tr>\n      <th>289</th>\n      <td>16.9</td>\n      <td>16.418892</td>\n    </tr>\n    <tr>\n      <th>167</th>\n      <td>29.0</td>\n      <td>28.196688</td>\n    </tr>\n    <tr>\n      <th>277</th>\n      <td>16.2</td>\n      <td>22.039679</td>\n    </tr>\n    <tr>\n      <th>367</th>\n      <td>28.0</td>\n      <td>30.881524</td>\n    </tr>\n    <tr>\n      <th>125</th>\n      <td>20.0</td>\n      <td>21.183111</td>\n    </tr>\n    <tr>\n      <th>356</th>\n      <td>32.4</td>\n      <td>31.646623</td>\n    </tr>\n    <tr>\n      <th>296</th>\n      <td>27.4</td>\n      <td>27.916498</td>\n    </tr>\n    <tr>\n      <th>335</th>\n      <td>35.0</td>\n      <td>29.781482</td>\n    </tr>\n    <tr>\n      <th>15</th>\n      <td>22.0</td>\n      <td>19.843740</td>\n    </tr>\n    <tr>\n      <th>394</th>\n      <td>44.0</td>\n      <td>34.373426</td>\n    </tr>\n    <tr>\n      <th>349</th>\n      <td>34.1</td>\n      <td>33.990707</td>\n    </tr>\n    <tr>\n      <th>0</th>\n      <td>18.0</td>\n      <td>15.023681</td>\n    </tr>\n    <tr>\n      <th>142</th>\n      <td>26.0</td>\n      <td>28.769841</td>\n    </tr>\n    <tr>\n      <th>114</th>\n      <td>26.0</td>\n      <td>25.994681</td>\n    </tr>\n    <tr>\n      <th>78</th>\n      <td>21.0</td>\n      <td>20.825554</td>\n    </tr>\n    <tr>\n      <th>34</th>\n      <td>16.0</td>\n      <td>16.633007</td>\n    </tr>\n    <tr>\n      <th>102</th>\n      <td>26.0</td>\n      <td>28.500089</td>\n    </tr>\n    <tr>\n      <th>77</th>\n      <td>22.0</td>\n      <td>23.829555</td>\n    </tr>\n    <tr>\n      <th>...</th>\n      <td>...</td>\n      <td>...</td>\n    </tr>\n    <tr>\n      <th>197</th>\n      <td>29.0</td>\n      <td>30.385763</td>\n    </tr>\n    <tr>\n      <th>40</th>\n      <td>14.0</td>\n      <td>11.604504</td>\n    </tr>\n    <tr>\n      <th>57</th>\n      <td>24.0</td>\n      <td>25.152572</td>\n    </tr>\n    <tr>\n      <th>30</th>\n      <td>28.0</td>\n      <td>24.522535</td>\n    </tr>\n    <tr>\n      <th>380</th>\n      <td>36.0</td>\n      <td>33.494428</td>\n    </tr>\n    <tr>\n      <th>389</th>\n      <td>22.0</td>\n      <td>28.904627</td>\n    </tr>\n    <tr>\n      <th>134</th>\n      <td>16.0</td>\n      <td>17.825044</td>\n    </tr>\n    <tr>\n      <th>165</th>\n      <td>20.0</td>\n      <td>20.776152</td>\n    </tr>\n    <tr>\n      <th>169</th>\n      <td>20.0</td>\n      <td>23.169425</td>\n    </tr>\n    <tr>\n      <th>22</th>\n      <td>25.0</td>\n      <td>23.109231</td>\n    </tr>\n    <tr>\n      <th>31</th>\n      <td>25.0</td>\n      <td>24.627383</td>\n    </tr>\n    <tr>\n      <th>95</th>\n      <td>12.0</td>\n      <td>7.683821</td>\n    </tr>\n    <tr>\n      <th>194</th>\n      <td>22.5</td>\n      <td>22.929670</td>\n    </tr>\n    <tr>\n      <th>307</th>\n      <td>26.8</td>\n      <td>27.330706</td>\n    </tr>\n    <tr>\n      <th>178</th>\n      <td>23.0</td>\n      <td>23.095190</td>\n    </tr>\n    <tr>\n      <th>270</th>\n      <td>21.1</td>\n      <td>28.139500</td>\n    </tr>\n    <tr>\n      <th>183</th>\n      <td>25.0</td>\n      <td>28.696995</td>\n    </tr>\n    <tr>\n      <th>255</th>\n      <td>25.1</td>\n      <td>26.853551</td>\n    </tr>\n    <tr>\n      <th>175</th>\n      <td>29.0</td>\n      <td>29.612780</td>\n    </tr>\n    <tr>\n      <th>249</th>\n      <td>19.9</td>\n      <td>22.234721</td>\n    </tr>\n    <tr>\n      <th>5</th>\n      <td>15.0</td>\n      <td>9.377501</td>\n    </tr>\n    <tr>\n      <th>46</th>\n      <td>22.0</td>\n      <td>23.834799</td>\n    </tr>\n    <tr>\n      <th>85</th>\n      <td>13.0</td>\n      <td>13.398111</td>\n    </tr>\n    <tr>\n      <th>241</th>\n      <td>22.0</td>\n      <td>25.167304</td>\n    </tr>\n    <tr>\n      <th>111</th>\n      <td>18.0</td>\n      <td>26.884108</td>\n    </tr>\n    <tr>\n      <th>366</th>\n      <td>17.6</td>\n      <td>24.182221</td>\n    </tr>\n    <tr>\n      <th>83</th>\n      <td>28.0</td>\n      <td>25.888602</td>\n    </tr>\n    <tr>\n      <th>115</th>\n      <td>15.0</td>\n      <td>13.584499</td>\n    </tr>\n    <tr>\n      <th>3</th>\n      <td>16.0</td>\n      <td>15.440946</td>\n    </tr>\n    <tr>\n      <th>18</th>\n      <td>27.0</td>\n      <td>24.540311</td>\n    </tr>\n  </tbody>\n</table>\n<p>79 rows × 2 columns</p>\n</div>",
      "text/plain": "     observed  predicted\n79       26.0  25.932796\n276      21.6  26.299279\n248      36.1  32.965489\n56       26.0  26.854430\n393      27.0  29.453726\n205      28.0  29.086995\n43       13.0   7.638748\n235      26.0  29.237044\n152      19.0  20.877360\n117      29.0  28.915829\n9        15.0  12.485037\n210      19.0  23.698983\n289      16.9  16.418892\n167      29.0  28.196688\n277      16.2  22.039679\n367      28.0  30.881524\n125      20.0  21.183111\n356      32.4  31.646623\n296      27.4  27.916498\n335      35.0  29.781482\n15       22.0  19.843740\n394      44.0  34.373426\n349      34.1  33.990707\n0        18.0  15.023681\n142      26.0  28.769841\n114      26.0  25.994681\n78       21.0  20.825554\n34       16.0  16.633007\n102      26.0  28.500089\n77       22.0  23.829555\n..        ...        ...\n197      29.0  30.385763\n40       14.0  11.604504\n57       24.0  25.152572\n30       28.0  24.522535\n380      36.0  33.494428\n389      22.0  28.904627\n134      16.0  17.825044\n165      20.0  20.776152\n169      20.0  23.169425\n22       25.0  23.109231\n31       25.0  24.627383\n95       12.0   7.683821\n194      22.5  22.929670\n307      26.8  27.330706\n178      23.0  23.095190\n270      21.1  28.139500\n183      25.0  28.696995\n255      25.1  26.853551\n175      29.0  29.612780\n249      19.9  22.234721\n5        15.0   9.377501\n46       22.0  23.834799\n85       13.0  13.398111\n241      22.0  25.167304\n111      18.0  26.884108\n366      17.6  24.182221\n83       28.0  25.888602\n115      15.0  13.584499\n3        16.0  15.440946\n18       27.0  24.540311\n\n[79 rows x 2 columns]"
     },
     "execution_count": 30,
     "metadata": {},
     "output_type": "execute_result"
    }
   ],
   "source": [
    "# Your code here:\n",
    "pd.DataFrame({\n",
    "    'observed' : target_test, # last observations\n",
    "    'predicted' : y_pred, # predictions for that test data\n",
    "})\n"
   ]
  },
  {
   "cell_type": "markdown",
   "metadata": {},
   "outputs": [],
   "source": [
    "# Challenge 4 - Improve the Model Fit\n",
    "\n",
    "While the most common way to improve the fit of a model is by using regularization, there are other simpler ways to improve model fit. The first is to create a simpler model. The second is to increase the train sample size.\n",
    "\n",
    "Let us start with the easier option and increase our train sample size to 90% of the data. Create a new test train split and name the new predictors and response variables `X_train09`, `X_test09`, `y_train09`, `y_test09`."
   ]
  },
  {
   "cell_type": "code",
   "execution_count": 40,
   "metadata": {},
   "outputs": [
    {
     "data": {
      "text/plain": "352"
     },
     "execution_count": 40,
     "metadata": {},
     "output_type": "execute_result"
    }
   ],
   "source": [
    "# Your code here:\n",
    "X_train09, X_test09, y_train09, y_test09 = train_test_split(\n",
    "    feature, \n",
    "    target,\n",
    "    test_size = .1, # 90% of the data is training data\n",
    ")\n",
    "X_train09.shape[0]"
   ]
  },
  {
   "cell_type": "markdown",
   "metadata": {},
   "outputs": [],
   "source": [
    "Initialize a new model. Name this model `auto_model09`. Fit the model to the new sample data."
   ]
  },
  {
   "cell_type": "code",
   "execution_count": 42,
   "metadata": {},
   "outputs": [],
   "source": [
    "# Your code here:\n",
    "auto_model09 = LinearRegression().fit(X_train09, y_train09)\n"
   ]
  },
  {
   "cell_type": "markdown",
   "metadata": {},
   "outputs": [],
   "source": [
    "Compute the predicted values and r squared score for our new model and new sample data."
   ]
  },
  {
   "cell_type": "code",
   "execution_count": 43,
   "metadata": {},
   "outputs": [
    {
     "data": {
      "text/plain": "0.8468911998183242"
     },
     "execution_count": 43,
     "metadata": {},
     "output_type": "execute_result"
    }
   ],
   "source": [
    "# Your code here:\n",
    "\n",
    "pred09 = auto_model09.predict(X_test09)\n",
    "\n"
   ]
  },
  {
   "cell_type": "markdown",
   "metadata": {},
   "outputs": [],
   "source": [
    "Compute the r squared score for the smaller test set. Is there an improvement in the test r squared?"
   ]
  },
  {
   "cell_type": "code",
   "execution_count": 46,
   "metadata": {},
   "outputs": [
    {
     "data": {
      "text/plain": "True"
     },
     "execution_count": 46,
     "metadata": {},
     "output_type": "execute_result"
    }
   ],
   "source": [
    "# Your code here:\n",
    "r2_score(y_test09, pred09) > r2_score(target_test, y_pred)\n"
   ]
  },
  {
   "cell_type": "markdown",
   "metadata": {},
   "outputs": [],
   "source": [
    "# Bonus Challenge 2 - Backward Elimination \n",
    "\n",
    "The main way to produce a simpler linear regression model is to reduce the number of variables used in the model. In scikit-learn, we can do this by using recursive feature elimination. You can read more about RFE [here](https://scikit-learn.org/stable/modules/generated/sklearn.feature_selection.RFE.html).\n",
    "\n",
    "In the next cell, we will import RFE"
   ]
  },
  {
   "cell_type": "code",
   "metadata": {},
   "outputs": [],
   "source": []
  },
  {
   "cell_type": "markdown",
   "metadata": {},
   "outputs": [],
   "source": [
    "Follow the documentation and initialize an RFE model using the `auto_model` linear regression model. Set `n_features_to_select=3`"
   ]
  },
  {
   "cell_type": "code",
   "execution_count": 0,
   "metadata": {},
   "outputs": [],
   "source": [
    "# Your code here:\n",
    "\n"
   ]
  },
  {
   "cell_type": "markdown",
   "metadata": {},
   "outputs": [],
   "source": [
    "Fit the model and print the ranking"
   ]
  },
  {
   "cell_type": "code",
   "execution_count": 0,
   "metadata": {},
   "outputs": [],
   "source": [
    "# Your code here:\n",
    "\n"
   ]
  },
  {
   "cell_type": "markdown",
   "metadata": {},
   "outputs": [],
   "source": [
    "Feature importance is ranked from most important (1) to least important (4). Generate a model with the three most important features. The features correspond to variable names. For example, feature 1 is `cylinders` and feature 2 is `displacement`.\n",
    "\n",
    "Perform a test-train split on this reduced column data and call the split data `X_train_reduced`, `X_test_reduced`, `y_test_reduced`, `y_train_reduced`. Use an 80% split."
   ]
  },
  {
   "cell_type": "code",
   "execution_count": 0,
   "metadata": {},
   "outputs": [],
   "source": [
    "# Your code here:\n",
    "\n"
   ]
  },
  {
   "cell_type": "markdown",
   "metadata": {},
   "outputs": [],
   "source": [
    "Generate a new model called `auto_model_reduced` and fit this model. Then proceed to compute the r squared score for the model. Did this cause an improvement in the r squared score?"
   ]
  },
  {
   "cell_type": "code",
   "execution_count": 0,
   "metadata": {},
   "outputs": [],
   "source": [
    "# Your code here: \n",
    "\n"
   ]
  },
  {
   "cell_type": "code",
   "metadata": {},
   "outputs": [],
   "source": []
  }
 ],
 "metadata": {
  "kernelspec": {
   "display_name": "Python 3",
   "language": "python",
   "name": "python3"
  },
  "language_info": {
   "codemirror_mode": {
    "name": "ipython",
    "version": 3
   },
   "file_extension": ".py",
   "mimetype": "text/x-python",
   "name": "python",
   "nbconvert_exporter": "python",
   "pygments_lexer": "ipython3",
   "version": "3.7.0"
  }
 },
 "nbformat": 4,
 "nbformat_minor": 2
}