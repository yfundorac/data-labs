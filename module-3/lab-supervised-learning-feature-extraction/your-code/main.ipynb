{
 "cells": [
  {
   "cell_type": "markdown",
   "metadata": {},
   "source": [
    "# Before your start:\n",
    "- Read the README.md file\n",
    "- Comment as much as you can and use the resources in the README.md file\n",
    "- Happy learning!"
   ]
  },
  {
   "cell_type": "code",
   "execution_count": 39,
   "metadata": {},
   "outputs": [],
   "source": [
    "#Import your libraries\n",
    "\n",
    "import numpy as np\n",
    "import pandas as pd"
   ]
  },
  {
   "cell_type": "markdown",
   "metadata": {},
   "source": [
    "# Introduction\n",
    "\n",
    "In this lab, we will use two datasets. Both datasets contain variables that describe apps from the Google Play Store. We will use our knowledge in feature extraction to process these datasets and prepare them for the use of a ML algorithm."
   ]
  },
  {
   "cell_type": "markdown",
   "metadata": {},
   "source": [
    "# Challenge 1 - Loading and Extracting Features from the First Dataset"
   ]
  },
  {
   "cell_type": "markdown",
   "metadata": {},
   "source": [
    "#### In this challenge, our goals are: \n",
    "\n",
    "* Exploring the dataset.\n",
    "* Identify the columns with missing values.\n",
    "* Either replacing the missing values in each column or drop the columns.\n",
    "* Conver each column to the appropriate type."
   ]
  },
  {
   "cell_type": "markdown",
   "metadata": {},
   "source": [
    "#### The first dataset contains different information describing the apps. \n",
    "\n",
    "Load the dataset into the variable `google_play` in the cell below. The dataset is in the file `googleplaystore.csv`"
   ]
  },
  {
   "cell_type": "code",
   "execution_count": 40,
   "metadata": {},
   "outputs": [],
   "source": [
    "# Your code here:\n",
    "\n",
    "google_play = pd.read_csv('C:/Users/Ironhack/Documents/Ironhack/Week1/data-labs/module-3/lab-supervised-learning-feature-extraction/googleplaystore.csv')"
   ]
  },
  {
   "cell_type": "markdown",
   "metadata": {},
   "source": [
    "#### Examine all variables and their types in the following cell"
   ]
  },
  {
   "cell_type": "code",
   "execution_count": 41,
   "metadata": {},
   "outputs": [
    {
     "data": {
      "text/plain": "App                object\nCategory           object\nRating            float64\nReviews            object\nSize               object\nInstalls           object\nType               object\nPrice              object\nContent Rating     object\nGenres             object\nLast Updated       object\nCurrent Ver        object\nAndroid Ver        object\ndtype: object"
     },
     "execution_count": 41,
     "metadata": {},
     "output_type": "execute_result"
    }
   ],
   "source": [
    "# Your code here:\n",
    "google_play.dtypes"
   ]
  },
  {
   "cell_type": "markdown",
   "metadata": {},
   "source": [
    "#### Since this dataset only contains one numeric column, let's skip the `describe()` function and look at the first 5 rows using the `head()` function"
   ]
  },
  {
   "cell_type": "code",
   "execution_count": 42,
   "metadata": {},
   "outputs": [
    {
     "data": {
      "text/html": "<div>\n<style scoped>\n    .dataframe tbody tr th:only-of-type {\n        vertical-align: middle;\n    }\n\n    .dataframe tbody tr th {\n        vertical-align: top;\n    }\n\n    .dataframe thead th {\n        text-align: right;\n    }\n</style>\n<table border=\"1\" class=\"dataframe\">\n  <thead>\n    <tr style=\"text-align: right;\">\n      <th></th>\n      <th>App</th>\n      <th>Category</th>\n      <th>Rating</th>\n      <th>Reviews</th>\n      <th>Size</th>\n      <th>Installs</th>\n      <th>Type</th>\n      <th>Price</th>\n      <th>Content Rating</th>\n      <th>Genres</th>\n      <th>Last Updated</th>\n      <th>Current Ver</th>\n      <th>Android Ver</th>\n    </tr>\n  </thead>\n  <tbody>\n    <tr>\n      <th>0</th>\n      <td>Photo Editor &amp; Candy Camera &amp; Grid &amp; ScrapBook</td>\n      <td>ART_AND_DESIGN</td>\n      <td>4.1</td>\n      <td>159</td>\n      <td>19M</td>\n      <td>10,000+</td>\n      <td>Free</td>\n      <td>0</td>\n      <td>Everyone</td>\n      <td>Art &amp; Design</td>\n      <td>January 7, 2018</td>\n      <td>1.0.0</td>\n      <td>4.0.3 and up</td>\n    </tr>\n    <tr>\n      <th>1</th>\n      <td>Coloring book moana</td>\n      <td>ART_AND_DESIGN</td>\n      <td>3.9</td>\n      <td>967</td>\n      <td>14M</td>\n      <td>500,000+</td>\n      <td>Free</td>\n      <td>0</td>\n      <td>Everyone</td>\n      <td>Art &amp; Design;Pretend Play</td>\n      <td>January 15, 2018</td>\n      <td>2.0.0</td>\n      <td>4.0.3 and up</td>\n    </tr>\n    <tr>\n      <th>2</th>\n      <td>U Launcher Lite – FREE Live Cool Themes, Hide ...</td>\n      <td>ART_AND_DESIGN</td>\n      <td>4.7</td>\n      <td>87510</td>\n      <td>8.7M</td>\n      <td>5,000,000+</td>\n      <td>Free</td>\n      <td>0</td>\n      <td>Everyone</td>\n      <td>Art &amp; Design</td>\n      <td>August 1, 2018</td>\n      <td>1.2.4</td>\n      <td>4.0.3 and up</td>\n    </tr>\n    <tr>\n      <th>3</th>\n      <td>Sketch - Draw &amp; Paint</td>\n      <td>ART_AND_DESIGN</td>\n      <td>4.5</td>\n      <td>215644</td>\n      <td>25M</td>\n      <td>50,000,000+</td>\n      <td>Free</td>\n      <td>0</td>\n      <td>Teen</td>\n      <td>Art &amp; Design</td>\n      <td>June 8, 2018</td>\n      <td>Varies with device</td>\n      <td>4.2 and up</td>\n    </tr>\n    <tr>\n      <th>4</th>\n      <td>Pixel Draw - Number Art Coloring Book</td>\n      <td>ART_AND_DESIGN</td>\n      <td>4.3</td>\n      <td>967</td>\n      <td>2.8M</td>\n      <td>100,000+</td>\n      <td>Free</td>\n      <td>0</td>\n      <td>Everyone</td>\n      <td>Art &amp; Design;Creativity</td>\n      <td>June 20, 2018</td>\n      <td>1.1</td>\n      <td>4.4 and up</td>\n    </tr>\n  </tbody>\n</table>\n</div>",
      "text/plain": "                                                 App        Category  Rating  \\\n0     Photo Editor & Candy Camera & Grid & ScrapBook  ART_AND_DESIGN     4.1   \n1                                Coloring book moana  ART_AND_DESIGN     3.9   \n2  U Launcher Lite – FREE Live Cool Themes, Hide ...  ART_AND_DESIGN     4.7   \n3                              Sketch - Draw & Paint  ART_AND_DESIGN     4.5   \n4              Pixel Draw - Number Art Coloring Book  ART_AND_DESIGN     4.3   \n\n  Reviews  Size     Installs  Type Price Content Rating  \\\n0     159   19M      10,000+  Free     0       Everyone   \n1     967   14M     500,000+  Free     0       Everyone   \n2   87510  8.7M   5,000,000+  Free     0       Everyone   \n3  215644   25M  50,000,000+  Free     0           Teen   \n4     967  2.8M     100,000+  Free     0       Everyone   \n\n                      Genres      Last Updated         Current Ver  \\\n0               Art & Design   January 7, 2018               1.0.0   \n1  Art & Design;Pretend Play  January 15, 2018               2.0.0   \n2               Art & Design    August 1, 2018               1.2.4   \n3               Art & Design      June 8, 2018  Varies with device   \n4    Art & Design;Creativity     June 20, 2018                 1.1   \n\n    Android Ver  \n0  4.0.3 and up  \n1  4.0.3 and up  \n2  4.0.3 and up  \n3    4.2 and up  \n4    4.4 and up  "
     },
     "execution_count": 42,
     "metadata": {},
     "output_type": "execute_result"
    }
   ],
   "source": [
    "# Your code here:\n",
    "google_play.head()"
   ]
  },
  {
   "cell_type": "markdown",
   "metadata": {},
   "source": [
    "#### We can see that there are a few columns that could be coerced to numeric.\n",
    "\n",
    "Start with the reviews column. We can evaluate what value is causing this column to be of object type finding the non-numeric values in this column. To do this, we recall the `to_numeric()` function. With this function, we are able to coerce all non-numeric data to null. We can then use the `isnull()` function to subset our dataframe using the True/False column that this function generates.\n",
    "\n",
    "In the cell below, transform the Reviews column to numeric and assign this new column to the variable `Reviews_numeric`. Make sure to coerce the errors."
   ]
  },
  {
   "cell_type": "code",
   "execution_count": 43,
   "metadata": {},
   "outputs": [],
   "source": [
    "# Your code here:\n",
    "google_play['Reviews_numeric'] = google_play['Reviews'].apply(pd.to_numeric, errors='coerce') "
   ]
  },
  {
   "cell_type": "markdown",
   "metadata": {},
   "source": [
    "Next, create a column containing True/False values using the `isnull()` function. Assign this column to the `Reviews_isnull` variable."
   ]
  },
  {
   "cell_type": "code",
   "execution_count": 44,
   "metadata": {},
   "outputs": [],
   "source": [
    "# Your code here:\n",
    "google_play['Review_isnull'] = google_play['Reviews_numeric'].isnull()"
   ]
  },
  {
   "cell_type": "markdown",
   "metadata": {},
   "source": [
    "Finally, subset the `google_play` with `Reviews_isnull`. This should give you all the rows that contain non-numeric characters.\n",
    "\n",
    "Your output should look like:\n",
    "\n",
    "![Reviews_bool.png](reviews-bool.png)"
   ]
  },
  {
   "cell_type": "code",
   "execution_count": 45,
   "metadata": {},
   "outputs": [
    {
     "data": {
      "text/html": "<div>\n<style scoped>\n    .dataframe tbody tr th:only-of-type {\n        vertical-align: middle;\n    }\n\n    .dataframe tbody tr th {\n        vertical-align: top;\n    }\n\n    .dataframe thead th {\n        text-align: right;\n    }\n</style>\n<table border=\"1\" class=\"dataframe\">\n  <thead>\n    <tr style=\"text-align: right;\">\n      <th></th>\n      <th>App</th>\n      <th>Category</th>\n      <th>Rating</th>\n      <th>Reviews</th>\n      <th>Size</th>\n      <th>Installs</th>\n      <th>Type</th>\n      <th>Price</th>\n      <th>Content Rating</th>\n      <th>Genres</th>\n      <th>Last Updated</th>\n      <th>Current Ver</th>\n      <th>Android Ver</th>\n      <th>Reviews_numeric</th>\n      <th>Review_isnull</th>\n    </tr>\n  </thead>\n  <tbody>\n    <tr>\n      <th>10472</th>\n      <td>Life Made WI-Fi Touchscreen Photo Frame</td>\n      <td>1.9</td>\n      <td>19.0</td>\n      <td>3.0M</td>\n      <td>1,000+</td>\n      <td>Free</td>\n      <td>0</td>\n      <td>Everyone</td>\n      <td>NaN</td>\n      <td>February 11, 2018</td>\n      <td>1.0.19</td>\n      <td>4.0 and up</td>\n      <td>NaN</td>\n      <td>NaN</td>\n      <td>True</td>\n    </tr>\n  </tbody>\n</table>\n</div>",
      "text/plain": "                                           App Category  Rating Reviews  \\\n10472  Life Made WI-Fi Touchscreen Photo Frame      1.9    19.0    3.0M   \n\n         Size Installs Type     Price Content Rating             Genres  \\\n10472  1,000+     Free    0  Everyone            NaN  February 11, 2018   \n\n      Last Updated Current Ver Android Ver  Reviews_numeric  Review_isnull  \n10472       1.0.19  4.0 and up         NaN              NaN           True  "
     },
     "execution_count": 45,
     "metadata": {},
     "output_type": "execute_result"
    }
   ],
   "source": [
    "# Your code here:\n",
    "google_play[google_play['Review_isnull'] == True]"
   ]
  },
  {
   "cell_type": "markdown",
   "metadata": {},
   "source": [
    "#### We see that Google Play is using a shorthand for millions. \n",
    "\n",
    "Let's write a function to transform this data.\n",
    "\n",
    "Steps:\n",
    "\n",
    "1. Create a function that returns the correct numeric values of *Reviews*.\n",
    "1. Define a test string with `M` in the last character.\n",
    "1. Test your function with the test string. Make sure your function works correctly. If not, modify your functions and test again."
   ]
  },
  {
   "cell_type": "code",
   "execution_count": 46,
   "metadata": {},
   "outputs": [
    {
     "data": {
      "text/plain": "True"
     },
     "execution_count": 46,
     "metadata": {},
     "output_type": "execute_result"
    }
   ],
   "source": [
    "# Your code here\n",
    "\n",
    "def convert_string_to_numeric(s):\n",
    "    \"\"\"\n",
    "    Convert a string value to numeric. If the last character of the string is `M`, obtain the \n",
    "    numeric part of the string, multiply it with 1,000,000, then return the result. Otherwise, \n",
    "    convert the string to numeric value and return the result.\n",
    "    \n",
    "    Args:\n",
    "        s: The Reviews score in string format.\n",
    "\n",
    "    Returns:\n",
    "        The correct numeric value of the Reviews score.\n",
    "    \"\"\"\n",
    "    if(\"M\" in s):\n",
    "        return float(s.replace(\"M\", \"\")) * 1000000\n",
    "    else:\n",
    "        return float(s)\n",
    "\n",
    "test_string = '4000000'\n",
    "\n",
    "convert_string_to_numeric(test_string) == 4000000"
   ]
  },
  {
   "cell_type": "markdown",
   "metadata": {},
   "source": [
    "The last step is to apply the function to the `Reviews` column in the following cell:"
   ]
  },
  {
   "cell_type": "code",
   "execution_count": 47,
   "metadata": {},
   "outputs": [],
   "source": [
    "# Your code here:\n",
    "google_play['Reviews'] = google_play['Reviews'].apply(convert_string_to_numeric)"
   ]
  },
  {
   "cell_type": "markdown",
   "metadata": {},
   "source": [
    "Check the non-numeric `Reviews` row again. It should have been fixed now and you should see:\n",
    "\n",
    "![Reviews_bool_fixed.png](reviews-bool-fixed.png)"
   ]
  },
  {
   "cell_type": "code",
   "execution_count": 48,
   "metadata": {},
   "outputs": [
    {
     "data": {
      "text/html": "<div>\n<style scoped>\n    .dataframe tbody tr th:only-of-type {\n        vertical-align: middle;\n    }\n\n    .dataframe tbody tr th {\n        vertical-align: top;\n    }\n\n    .dataframe thead th {\n        text-align: right;\n    }\n</style>\n<table border=\"1\" class=\"dataframe\">\n  <thead>\n    <tr style=\"text-align: right;\">\n      <th></th>\n      <th>App</th>\n      <th>Category</th>\n      <th>Rating</th>\n      <th>Reviews</th>\n      <th>Size</th>\n      <th>Installs</th>\n      <th>Type</th>\n      <th>Price</th>\n      <th>Content Rating</th>\n      <th>Genres</th>\n      <th>Last Updated</th>\n      <th>Current Ver</th>\n      <th>Android Ver</th>\n      <th>Reviews_numeric</th>\n      <th>Review_isnull</th>\n    </tr>\n  </thead>\n  <tbody>\n    <tr>\n      <th>10472</th>\n      <td>Life Made WI-Fi Touchscreen Photo Frame</td>\n      <td>1.9</td>\n      <td>19.0</td>\n      <td>3000000.0</td>\n      <td>1,000+</td>\n      <td>Free</td>\n      <td>0</td>\n      <td>Everyone</td>\n      <td>NaN</td>\n      <td>February 11, 2018</td>\n      <td>1.0.19</td>\n      <td>4.0 and up</td>\n      <td>NaN</td>\n      <td>NaN</td>\n      <td>True</td>\n    </tr>\n  </tbody>\n</table>\n</div>",
      "text/plain": "                                           App Category  Rating    Reviews  \\\n10472  Life Made WI-Fi Touchscreen Photo Frame      1.9    19.0  3000000.0   \n\n         Size Installs Type     Price Content Rating             Genres  \\\n10472  1,000+     Free    0  Everyone            NaN  February 11, 2018   \n\n      Last Updated Current Ver Android Ver  Reviews_numeric  Review_isnull  \n10472       1.0.19  4.0 and up         NaN              NaN           True  "
     },
     "execution_count": 48,
     "metadata": {},
     "output_type": "execute_result"
    }
   ],
   "source": [
    "# Your code here\n",
    "google_play[google_play['Review_isnull'] == True]"
   ]
  },
  {
   "cell_type": "markdown",
   "metadata": {},
   "source": [
    "Also check the variable types of `google_play`. The `Reviews` column should be a `float64` type now."
   ]
  },
  {
   "cell_type": "code",
   "execution_count": 49,
   "metadata": {},
   "outputs": [
    {
     "data": {
      "text/plain": "dtype('float64')"
     },
     "execution_count": 49,
     "metadata": {},
     "output_type": "execute_result"
    }
   ],
   "source": [
    "# Your code here:\n",
    "google_play['Reviews'].dtypes"
   ]
  },
  {
   "cell_type": "markdown",
   "metadata": {},
   "source": [
    "#### The next column we will look at is `Size`. We start by looking at all unique values in `Size`:\n",
    "\n",
    "*Hint: use `unique()` ([documentation](https://pandas.pydata.org/pandas-docs/stable/generated/pandas.Series.unique.html))*."
   ]
  },
  {
   "cell_type": "code",
   "execution_count": 50,
   "metadata": {},
   "outputs": [
    {
     "data": {
      "text/plain": "array(['19M', '14M', '8.7M', '25M', '2.8M', '5.6M', '29M', '33M', '3.1M',\n       '28M', '12M', '20M', '21M', '37M', '2.7M', '5.5M', '17M', '39M',\n       '31M', '4.2M', '7.0M', '23M', '6.0M', '6.1M', '4.6M', '9.2M',\n       '5.2M', '11M', '24M', 'Varies with device', '9.4M', '15M', '10M',\n       '1.2M', '26M', '8.0M', '7.9M', '56M', '57M', '35M', '54M', '201k',\n       '3.6M', '5.7M', '8.6M', '2.4M', '27M', '2.5M', '16M', '3.4M',\n       '8.9M', '3.9M', '2.9M', '38M', '32M', '5.4M', '18M', '1.1M',\n       '2.2M', '4.5M', '9.8M', '52M', '9.0M', '6.7M', '30M', '2.6M',\n       '7.1M', '3.7M', '22M', '7.4M', '6.4M', '3.2M', '8.2M', '9.9M',\n       '4.9M', '9.5M', '5.0M', '5.9M', '13M', '73M', '6.8M', '3.5M',\n       '4.0M', '2.3M', '7.2M', '2.1M', '42M', '7.3M', '9.1M', '55M',\n       '23k', '6.5M', '1.5M', '7.5M', '51M', '41M', '48M', '8.5M', '46M',\n       '8.3M', '4.3M', '4.7M', '3.3M', '40M', '7.8M', '8.8M', '6.6M',\n       '5.1M', '61M', '66M', '79k', '8.4M', '118k', '44M', '695k', '1.6M',\n       '6.2M', '18k', '53M', '1.4M', '3.0M', '5.8M', '3.8M', '9.6M',\n       '45M', '63M', '49M', '77M', '4.4M', '4.8M', '70M', '6.9M', '9.3M',\n       '10.0M', '8.1M', '36M', '84M', '97M', '2.0M', '1.9M', '1.8M',\n       '5.3M', '47M', '556k', '526k', '76M', '7.6M', '59M', '9.7M', '78M',\n       '72M', '43M', '7.7M', '6.3M', '334k', '34M', '93M', '65M', '79M',\n       '100M', '58M', '50M', '68M', '64M', '67M', '60M', '94M', '232k',\n       '99M', '624k', '95M', '8.5k', '41k', '292k', '11k', '80M', '1.7M',\n       '74M', '62M', '69M', '75M', '98M', '85M', '82M', '96M', '87M',\n       '71M', '86M', '91M', '81M', '92M', '83M', '88M', '704k', '862k',\n       '899k', '378k', '266k', '375k', '1.3M', '975k', '980k', '4.1M',\n       '89M', '696k', '544k', '525k', '920k', '779k', '853k', '720k',\n       '713k', '772k', '318k', '58k', '241k', '196k', '857k', '51k',\n       '953k', '865k', '251k', '930k', '540k', '313k', '746k', '203k',\n       '26k', '314k', '239k', '371k', '220k', '730k', '756k', '91k',\n       '293k', '17k', '74k', '14k', '317k', '78k', '924k', '902k', '818k',\n       '81k', '939k', '169k', '45k', '475k', '965k', '90M', '545k', '61k',\n       '283k', '655k', '714k', '93k', '872k', '121k', '322k', '1.0M',\n       '976k', '172k', '238k', '549k', '206k', '954k', '444k', '717k',\n       '210k', '609k', '308k', '705k', '306k', '904k', '473k', '175k',\n       '350k', '383k', '454k', '421k', '70k', '812k', '442k', '842k',\n       '417k', '412k', '459k', '478k', '335k', '782k', '721k', '430k',\n       '429k', '192k', '200k', '460k', '728k', '496k', '816k', '414k',\n       '506k', '887k', '613k', '243k', '569k', '778k', '683k', '592k',\n       '319k', '186k', '840k', '647k', '191k', '373k', '437k', '598k',\n       '716k', '585k', '982k', '222k', '219k', '55k', '948k', '323k',\n       '691k', '511k', '951k', '963k', '25k', '554k', '351k', '27k',\n       '82k', '208k', '913k', '514k', '551k', '29k', '103k', '898k',\n       '743k', '116k', '153k', '209k', '353k', '499k', '173k', '597k',\n       '809k', '122k', '411k', '400k', '801k', '787k', '237k', '50k',\n       '643k', '986k', '97k', '516k', '837k', '780k', '961k', '269k',\n       '20k', '498k', '600k', '749k', '642k', '881k', '72k', '656k',\n       '601k', '221k', '228k', '108k', '940k', '176k', '33k', '663k',\n       '34k', '942k', '259k', '164k', '458k', '245k', '629k', '28k',\n       '288k', '775k', '785k', '636k', '916k', '994k', '309k', '485k',\n       '914k', '903k', '608k', '500k', '54k', '562k', '847k', '957k',\n       '688k', '811k', '270k', '48k', '329k', '523k', '921k', '874k',\n       '981k', '784k', '280k', '24k', '518k', '754k', '892k', '154k',\n       '860k', '364k', '387k', '626k', '161k', '879k', '39k', '970k',\n       '170k', '141k', '160k', '144k', '143k', '190k', '376k', '193k',\n       '246k', '73k', '658k', '992k', '253k', '420k', '404k', '1,000+',\n       '470k', '226k', '240k', '89k', '234k', '257k', '861k', '467k',\n       '157k', '44k', '676k', '67k', '552k', '885k', '1020k', '582k',\n       '619k'], dtype=object)"
     },
     "execution_count": 50,
     "metadata": {},
     "output_type": "execute_result"
    }
   ],
   "source": [
    "# Your code here:\n",
    "google_play['Size'].unique()"
   ]
  },
  {
   "cell_type": "markdown",
   "metadata": {},
   "source": [
    "You should have seen lots of unique values of the app sizes.\n",
    "\n",
    "#### While we can convert most of the `Size` values to numeric in the same way we converted the `Reviews` values, there is one value that is impossible to convert.\n",
    "\n",
    "What is that badass value? Enter it in the next cell and calculate the proportion of its occurence to the total number of records of `google_play`."
   ]
  },
  {
   "cell_type": "code",
   "execution_count": 51,
   "metadata": {},
   "outputs": [
    {
     "name": "stdout",
     "output_type": "stream",
     "text": "0.009224241306152568\n"
    }
   ],
   "source": [
    "# Your code here:\n",
    "bad_ass = []\n",
    "for element in google_play['Size']:\n",
    "    if('+' in element):\n",
    "        bad_ass.append(element)\n",
    "\n",
    "print(len(bad_ass)/google_play.shape[0] * 100)"
   ]
  },
  {
   "cell_type": "markdown",
   "metadata": {},
   "source": [
    "#### While this column may be useful for other types of analysis, we opt to drop it from our dataset. \n",
    "\n",
    "There are two reasons. First, the majority of the data are ordinal but a sizeable proportion are missing because we cannot convert them to numerical values. Ordinal data are both numerical and categorical, and they usually can be ranked (e.g. 82k is smaller than 91M). In contrast, non-ordinal categorical data such as blood type and eye color cannot be ranked. The second reason is as a categorical column, it has too many unique values to produce meaningful insights. Therefore, in our case the simplest strategy would be to drop the column.\n",
    "\n",
    "Drop the column in the cell below (use `inplace=True`)"
   ]
  },
  {
   "cell_type": "code",
   "execution_count": 52,
   "metadata": {},
   "outputs": [
    {
     "data": {
      "text/html": "<div>\n<style scoped>\n    .dataframe tbody tr th:only-of-type {\n        vertical-align: middle;\n    }\n\n    .dataframe tbody tr th {\n        vertical-align: top;\n    }\n\n    .dataframe thead th {\n        text-align: right;\n    }\n</style>\n<table border=\"1\" class=\"dataframe\">\n  <thead>\n    <tr style=\"text-align: right;\">\n      <th></th>\n      <th>App</th>\n      <th>Category</th>\n      <th>Rating</th>\n      <th>Reviews</th>\n      <th>Installs</th>\n      <th>Type</th>\n      <th>Price</th>\n      <th>Content Rating</th>\n      <th>Genres</th>\n      <th>Last Updated</th>\n      <th>Current Ver</th>\n      <th>Android Ver</th>\n      <th>Reviews_numeric</th>\n      <th>Review_isnull</th>\n    </tr>\n  </thead>\n  <tbody>\n    <tr>\n      <th>0</th>\n      <td>Photo Editor &amp; Candy Camera &amp; Grid &amp; ScrapBook</td>\n      <td>ART_AND_DESIGN</td>\n      <td>4.1</td>\n      <td>159.0</td>\n      <td>10,000+</td>\n      <td>Free</td>\n      <td>0</td>\n      <td>Everyone</td>\n      <td>Art &amp; Design</td>\n      <td>January 7, 2018</td>\n      <td>1.0.0</td>\n      <td>4.0.3 and up</td>\n      <td>159.0</td>\n      <td>False</td>\n    </tr>\n    <tr>\n      <th>1</th>\n      <td>Coloring book moana</td>\n      <td>ART_AND_DESIGN</td>\n      <td>3.9</td>\n      <td>967.0</td>\n      <td>500,000+</td>\n      <td>Free</td>\n      <td>0</td>\n      <td>Everyone</td>\n      <td>Art &amp; Design;Pretend Play</td>\n      <td>January 15, 2018</td>\n      <td>2.0.0</td>\n      <td>4.0.3 and up</td>\n      <td>967.0</td>\n      <td>False</td>\n    </tr>\n    <tr>\n      <th>2</th>\n      <td>U Launcher Lite – FREE Live Cool Themes, Hide ...</td>\n      <td>ART_AND_DESIGN</td>\n      <td>4.7</td>\n      <td>87510.0</td>\n      <td>5,000,000+</td>\n      <td>Free</td>\n      <td>0</td>\n      <td>Everyone</td>\n      <td>Art &amp; Design</td>\n      <td>August 1, 2018</td>\n      <td>1.2.4</td>\n      <td>4.0.3 and up</td>\n      <td>87510.0</td>\n      <td>False</td>\n    </tr>\n    <tr>\n      <th>3</th>\n      <td>Sketch - Draw &amp; Paint</td>\n      <td>ART_AND_DESIGN</td>\n      <td>4.5</td>\n      <td>215644.0</td>\n      <td>50,000,000+</td>\n      <td>Free</td>\n      <td>0</td>\n      <td>Teen</td>\n      <td>Art &amp; Design</td>\n      <td>June 8, 2018</td>\n      <td>Varies with device</td>\n      <td>4.2 and up</td>\n      <td>215644.0</td>\n      <td>False</td>\n    </tr>\n    <tr>\n      <th>4</th>\n      <td>Pixel Draw - Number Art Coloring Book</td>\n      <td>ART_AND_DESIGN</td>\n      <td>4.3</td>\n      <td>967.0</td>\n      <td>100,000+</td>\n      <td>Free</td>\n      <td>0</td>\n      <td>Everyone</td>\n      <td>Art &amp; Design;Creativity</td>\n      <td>June 20, 2018</td>\n      <td>1.1</td>\n      <td>4.4 and up</td>\n      <td>967.0</td>\n      <td>False</td>\n    </tr>\n  </tbody>\n</table>\n</div>",
      "text/plain": "                                                 App        Category  Rating  \\\n0     Photo Editor & Candy Camera & Grid & ScrapBook  ART_AND_DESIGN     4.1   \n1                                Coloring book moana  ART_AND_DESIGN     3.9   \n2  U Launcher Lite – FREE Live Cool Themes, Hide ...  ART_AND_DESIGN     4.7   \n3                              Sketch - Draw & Paint  ART_AND_DESIGN     4.5   \n4              Pixel Draw - Number Art Coloring Book  ART_AND_DESIGN     4.3   \n\n    Reviews     Installs  Type Price Content Rating  \\\n0     159.0      10,000+  Free     0       Everyone   \n1     967.0     500,000+  Free     0       Everyone   \n2   87510.0   5,000,000+  Free     0       Everyone   \n3  215644.0  50,000,000+  Free     0           Teen   \n4     967.0     100,000+  Free     0       Everyone   \n\n                      Genres      Last Updated         Current Ver  \\\n0               Art & Design   January 7, 2018               1.0.0   \n1  Art & Design;Pretend Play  January 15, 2018               2.0.0   \n2               Art & Design    August 1, 2018               1.2.4   \n3               Art & Design      June 8, 2018  Varies with device   \n4    Art & Design;Creativity     June 20, 2018                 1.1   \n\n    Android Ver  Reviews_numeric  Review_isnull  \n0  4.0.3 and up            159.0          False  \n1  4.0.3 and up            967.0          False  \n2  4.0.3 and up          87510.0          False  \n3    4.2 and up         215644.0          False  \n4    4.4 and up            967.0          False  "
     },
     "execution_count": 52,
     "metadata": {},
     "output_type": "execute_result"
    }
   ],
   "source": [
    "# Your code here:\n",
    "google_play.drop(columns= 'Size', inplace = True)\n",
    "google_play.head()"
   ]
  },
  {
   "cell_type": "markdown",
   "metadata": {},
   "source": [
    "#### Now let's look at how many missing values are in each column. \n",
    "\n",
    "This will give us an idea of whether we should come up with a missing data strategy or give up on the column all together. In the next column, find the number of missing values in each column: \n",
    "\n",
    "*Hint: use the `isna()` and `sum()` functions.*"
   ]
  },
  {
   "cell_type": "code",
   "execution_count": 53,
   "metadata": {},
   "outputs": [
    {
     "data": {
      "text/plain": "App                   0\nCategory              0\nRating             1474\nReviews               0\nInstalls              0\nType                  1\nPrice                 0\nContent Rating        1\nGenres                0\nLast Updated          0\nCurrent Ver           8\nAndroid Ver           3\nReviews_numeric       1\nReview_isnull         0\ndtype: int64"
     },
     "execution_count": 53,
     "metadata": {},
     "output_type": "execute_result"
    }
   ],
   "source": [
    "# Your code here:\n",
    "google_play.isna().sum()"
   ]
  },
  {
   "cell_type": "markdown",
   "metadata": {},
   "source": [
    "You should find the column with the most missing values is now `Rating`.\n",
    "\n",
    "#### What is the proportion of the missing values in `Rating` to the total number of records?\n",
    "\n",
    "Enter your answer in the cell below."
   ]
  },
  {
   "cell_type": "code",
   "execution_count": 54,
   "metadata": {},
   "outputs": [
    {
     "name": "stdout",
     "output_type": "stream",
     "text": "13.596531685268886\n"
    }
   ],
   "source": [
    "# Your code here:\n",
    "print(google_play['Rating'].isna().sum()/google_play.shape[0] * 100)"
   ]
  },
  {
   "cell_type": "markdown",
   "metadata": {},
   "source": [
    "A sizeable proportion of the `Rating` column is missing. A few other columns also contain several missing values.\n",
    "\n",
    "#### We opt to preserve these columns and remove the rows containing missing data.\n",
    "\n",
    "In particular, we don't want to drop the `Rating` column because:\n",
    "\n",
    "* It is one of the most important columns in our dataset. \n",
    "\n",
    "* Since the dataset is not a time series, the loss of these rows will not have a negative impact on our ability to analyze the data. It will, however, cause us to lose some meaningful observations. But the loss is limited compared to the gain we receive by preserving these columns.\n",
    "\n",
    "In the cell below, remove all rows containing at least one missing value. Use the `dropna()` function ([documentation](https://pandas.pydata.org/pandas-docs/stable/generated/pandas.DataFrame.dropna.html)). Assign the new dataframe to the variable `google_missing_removed`."
   ]
  },
  {
   "cell_type": "code",
   "execution_count": 55,
   "metadata": {},
   "outputs": [
    {
     "data": {
      "text/html": "<div>\n<style scoped>\n    .dataframe tbody tr th:only-of-type {\n        vertical-align: middle;\n    }\n\n    .dataframe tbody tr th {\n        vertical-align: top;\n    }\n\n    .dataframe thead th {\n        text-align: right;\n    }\n</style>\n<table border=\"1\" class=\"dataframe\">\n  <thead>\n    <tr style=\"text-align: right;\">\n      <th></th>\n      <th>App</th>\n      <th>Category</th>\n      <th>Rating</th>\n      <th>Reviews</th>\n      <th>Installs</th>\n      <th>Type</th>\n      <th>Price</th>\n      <th>Content Rating</th>\n      <th>Genres</th>\n      <th>Last Updated</th>\n      <th>Current Ver</th>\n      <th>Android Ver</th>\n      <th>Reviews_numeric</th>\n      <th>Review_isnull</th>\n    </tr>\n  </thead>\n  <tbody>\n    <tr>\n      <th>0</th>\n      <td>Photo Editor &amp; Candy Camera &amp; Grid &amp; ScrapBook</td>\n      <td>ART_AND_DESIGN</td>\n      <td>4.1</td>\n      <td>159.0</td>\n      <td>10,000+</td>\n      <td>Free</td>\n      <td>0</td>\n      <td>Everyone</td>\n      <td>Art &amp; Design</td>\n      <td>January 7, 2018</td>\n      <td>1.0.0</td>\n      <td>4.0.3 and up</td>\n      <td>159.0</td>\n      <td>False</td>\n    </tr>\n    <tr>\n      <th>1</th>\n      <td>Coloring book moana</td>\n      <td>ART_AND_DESIGN</td>\n      <td>3.9</td>\n      <td>967.0</td>\n      <td>500,000+</td>\n      <td>Free</td>\n      <td>0</td>\n      <td>Everyone</td>\n      <td>Art &amp; Design;Pretend Play</td>\n      <td>January 15, 2018</td>\n      <td>2.0.0</td>\n      <td>4.0.3 and up</td>\n      <td>967.0</td>\n      <td>False</td>\n    </tr>\n    <tr>\n      <th>2</th>\n      <td>U Launcher Lite – FREE Live Cool Themes, Hide ...</td>\n      <td>ART_AND_DESIGN</td>\n      <td>4.7</td>\n      <td>87510.0</td>\n      <td>5,000,000+</td>\n      <td>Free</td>\n      <td>0</td>\n      <td>Everyone</td>\n      <td>Art &amp; Design</td>\n      <td>August 1, 2018</td>\n      <td>1.2.4</td>\n      <td>4.0.3 and up</td>\n      <td>87510.0</td>\n      <td>False</td>\n    </tr>\n    <tr>\n      <th>3</th>\n      <td>Sketch - Draw &amp; Paint</td>\n      <td>ART_AND_DESIGN</td>\n      <td>4.5</td>\n      <td>215644.0</td>\n      <td>50,000,000+</td>\n      <td>Free</td>\n      <td>0</td>\n      <td>Teen</td>\n      <td>Art &amp; Design</td>\n      <td>June 8, 2018</td>\n      <td>Varies with device</td>\n      <td>4.2 and up</td>\n      <td>215644.0</td>\n      <td>False</td>\n    </tr>\n    <tr>\n      <th>4</th>\n      <td>Pixel Draw - Number Art Coloring Book</td>\n      <td>ART_AND_DESIGN</td>\n      <td>4.3</td>\n      <td>967.0</td>\n      <td>100,000+</td>\n      <td>Free</td>\n      <td>0</td>\n      <td>Everyone</td>\n      <td>Art &amp; Design;Creativity</td>\n      <td>June 20, 2018</td>\n      <td>1.1</td>\n      <td>4.4 and up</td>\n      <td>967.0</td>\n      <td>False</td>\n    </tr>\n    <tr>\n      <th>5</th>\n      <td>Paper flowers instructions</td>\n      <td>ART_AND_DESIGN</td>\n      <td>4.4</td>\n      <td>167.0</td>\n      <td>50,000+</td>\n      <td>Free</td>\n      <td>0</td>\n      <td>Everyone</td>\n      <td>Art &amp; Design</td>\n      <td>March 26, 2017</td>\n      <td>1.0</td>\n      <td>2.3 and up</td>\n      <td>167.0</td>\n      <td>False</td>\n    </tr>\n    <tr>\n      <th>6</th>\n      <td>Smoke Effect Photo Maker - Smoke Editor</td>\n      <td>ART_AND_DESIGN</td>\n      <td>3.8</td>\n      <td>178.0</td>\n      <td>50,000+</td>\n      <td>Free</td>\n      <td>0</td>\n      <td>Everyone</td>\n      <td>Art &amp; Design</td>\n      <td>April 26, 2018</td>\n      <td>1.1</td>\n      <td>4.0.3 and up</td>\n      <td>178.0</td>\n      <td>False</td>\n    </tr>\n    <tr>\n      <th>7</th>\n      <td>Infinite Painter</td>\n      <td>ART_AND_DESIGN</td>\n      <td>4.1</td>\n      <td>36815.0</td>\n      <td>1,000,000+</td>\n      <td>Free</td>\n      <td>0</td>\n      <td>Everyone</td>\n      <td>Art &amp; Design</td>\n      <td>June 14, 2018</td>\n      <td>6.1.61.1</td>\n      <td>4.2 and up</td>\n      <td>36815.0</td>\n      <td>False</td>\n    </tr>\n    <tr>\n      <th>8</th>\n      <td>Garden Coloring Book</td>\n      <td>ART_AND_DESIGN</td>\n      <td>4.4</td>\n      <td>13791.0</td>\n      <td>1,000,000+</td>\n      <td>Free</td>\n      <td>0</td>\n      <td>Everyone</td>\n      <td>Art &amp; Design</td>\n      <td>September 20, 2017</td>\n      <td>2.9.2</td>\n      <td>3.0 and up</td>\n      <td>13791.0</td>\n      <td>False</td>\n    </tr>\n    <tr>\n      <th>9</th>\n      <td>Kids Paint Free - Drawing Fun</td>\n      <td>ART_AND_DESIGN</td>\n      <td>4.7</td>\n      <td>121.0</td>\n      <td>10,000+</td>\n      <td>Free</td>\n      <td>0</td>\n      <td>Everyone</td>\n      <td>Art &amp; Design;Creativity</td>\n      <td>July 3, 2018</td>\n      <td>2.8</td>\n      <td>4.0.3 and up</td>\n      <td>121.0</td>\n      <td>False</td>\n    </tr>\n    <tr>\n      <th>10</th>\n      <td>Text on Photo - Fonteee</td>\n      <td>ART_AND_DESIGN</td>\n      <td>4.4</td>\n      <td>13880.0</td>\n      <td>1,000,000+</td>\n      <td>Free</td>\n      <td>0</td>\n      <td>Everyone</td>\n      <td>Art &amp; Design</td>\n      <td>October 27, 2017</td>\n      <td>1.0.4</td>\n      <td>4.1 and up</td>\n      <td>13880.0</td>\n      <td>False</td>\n    </tr>\n    <tr>\n      <th>11</th>\n      <td>Name Art Photo Editor - Focus n Filters</td>\n      <td>ART_AND_DESIGN</td>\n      <td>4.4</td>\n      <td>8788.0</td>\n      <td>1,000,000+</td>\n      <td>Free</td>\n      <td>0</td>\n      <td>Everyone</td>\n      <td>Art &amp; Design</td>\n      <td>July 31, 2018</td>\n      <td>1.0.15</td>\n      <td>4.0 and up</td>\n      <td>8788.0</td>\n      <td>False</td>\n    </tr>\n    <tr>\n      <th>12</th>\n      <td>Tattoo Name On My Photo Editor</td>\n      <td>ART_AND_DESIGN</td>\n      <td>4.2</td>\n      <td>44829.0</td>\n      <td>10,000,000+</td>\n      <td>Free</td>\n      <td>0</td>\n      <td>Teen</td>\n      <td>Art &amp; Design</td>\n      <td>April 2, 2018</td>\n      <td>3.8</td>\n      <td>4.1 and up</td>\n      <td>44829.0</td>\n      <td>False</td>\n    </tr>\n    <tr>\n      <th>13</th>\n      <td>Mandala Coloring Book</td>\n      <td>ART_AND_DESIGN</td>\n      <td>4.6</td>\n      <td>4326.0</td>\n      <td>100,000+</td>\n      <td>Free</td>\n      <td>0</td>\n      <td>Everyone</td>\n      <td>Art &amp; Design</td>\n      <td>June 26, 2018</td>\n      <td>1.0.4</td>\n      <td>4.4 and up</td>\n      <td>4326.0</td>\n      <td>False</td>\n    </tr>\n    <tr>\n      <th>14</th>\n      <td>3D Color Pixel by Number - Sandbox Art Coloring</td>\n      <td>ART_AND_DESIGN</td>\n      <td>4.4</td>\n      <td>1518.0</td>\n      <td>100,000+</td>\n      <td>Free</td>\n      <td>0</td>\n      <td>Everyone</td>\n      <td>Art &amp; Design</td>\n      <td>August 3, 2018</td>\n      <td>1.2.3</td>\n      <td>2.3 and up</td>\n      <td>1518.0</td>\n      <td>False</td>\n    </tr>\n    <tr>\n      <th>16</th>\n      <td>Photo Designer - Write your name with shapes</td>\n      <td>ART_AND_DESIGN</td>\n      <td>4.7</td>\n      <td>3632.0</td>\n      <td>500,000+</td>\n      <td>Free</td>\n      <td>0</td>\n      <td>Everyone</td>\n      <td>Art &amp; Design</td>\n      <td>July 31, 2018</td>\n      <td>3.1</td>\n      <td>4.1 and up</td>\n      <td>3632.0</td>\n      <td>False</td>\n    </tr>\n    <tr>\n      <th>17</th>\n      <td>350 Diy Room Decor Ideas</td>\n      <td>ART_AND_DESIGN</td>\n      <td>4.5</td>\n      <td>27.0</td>\n      <td>10,000+</td>\n      <td>Free</td>\n      <td>0</td>\n      <td>Everyone</td>\n      <td>Art &amp; Design</td>\n      <td>November 7, 2017</td>\n      <td>1.0</td>\n      <td>2.3 and up</td>\n      <td>27.0</td>\n      <td>False</td>\n    </tr>\n    <tr>\n      <th>18</th>\n      <td>FlipaClip - Cartoon animation</td>\n      <td>ART_AND_DESIGN</td>\n      <td>4.3</td>\n      <td>194216.0</td>\n      <td>5,000,000+</td>\n      <td>Free</td>\n      <td>0</td>\n      <td>Everyone</td>\n      <td>Art &amp; Design</td>\n      <td>August 3, 2018</td>\n      <td>2.2.5</td>\n      <td>4.0.3 and up</td>\n      <td>194216.0</td>\n      <td>False</td>\n    </tr>\n    <tr>\n      <th>19</th>\n      <td>ibis Paint X</td>\n      <td>ART_AND_DESIGN</td>\n      <td>4.6</td>\n      <td>224399.0</td>\n      <td>10,000,000+</td>\n      <td>Free</td>\n      <td>0</td>\n      <td>Everyone</td>\n      <td>Art &amp; Design</td>\n      <td>July 30, 2018</td>\n      <td>5.5.4</td>\n      <td>4.1 and up</td>\n      <td>224399.0</td>\n      <td>False</td>\n    </tr>\n    <tr>\n      <th>20</th>\n      <td>Logo Maker - Small Business</td>\n      <td>ART_AND_DESIGN</td>\n      <td>4.0</td>\n      <td>450.0</td>\n      <td>100,000+</td>\n      <td>Free</td>\n      <td>0</td>\n      <td>Everyone</td>\n      <td>Art &amp; Design</td>\n      <td>April 20, 2018</td>\n      <td>4.0</td>\n      <td>4.1 and up</td>\n      <td>450.0</td>\n      <td>False</td>\n    </tr>\n    <tr>\n      <th>21</th>\n      <td>Boys Photo Editor - Six Pack &amp; Men's Suit</td>\n      <td>ART_AND_DESIGN</td>\n      <td>4.1</td>\n      <td>654.0</td>\n      <td>100,000+</td>\n      <td>Free</td>\n      <td>0</td>\n      <td>Everyone</td>\n      <td>Art &amp; Design</td>\n      <td>March 20, 2018</td>\n      <td>1.1</td>\n      <td>4.0.3 and up</td>\n      <td>654.0</td>\n      <td>False</td>\n    </tr>\n    <tr>\n      <th>22</th>\n      <td>Superheroes Wallpapers | 4K Backgrounds</td>\n      <td>ART_AND_DESIGN</td>\n      <td>4.7</td>\n      <td>7699.0</td>\n      <td>500,000+</td>\n      <td>Free</td>\n      <td>0</td>\n      <td>Everyone 10+</td>\n      <td>Art &amp; Design</td>\n      <td>July 12, 2018</td>\n      <td>2.2.6.2</td>\n      <td>4.0.3 and up</td>\n      <td>7699.0</td>\n      <td>False</td>\n    </tr>\n    <tr>\n      <th>24</th>\n      <td>HD Mickey Minnie Wallpapers</td>\n      <td>ART_AND_DESIGN</td>\n      <td>4.7</td>\n      <td>118.0</td>\n      <td>50,000+</td>\n      <td>Free</td>\n      <td>0</td>\n      <td>Everyone</td>\n      <td>Art &amp; Design</td>\n      <td>July 7, 2018</td>\n      <td>1.1.3</td>\n      <td>4.1 and up</td>\n      <td>118.0</td>\n      <td>False</td>\n    </tr>\n    <tr>\n      <th>25</th>\n      <td>Harley Quinn wallpapers HD</td>\n      <td>ART_AND_DESIGN</td>\n      <td>4.8</td>\n      <td>192.0</td>\n      <td>10,000+</td>\n      <td>Free</td>\n      <td>0</td>\n      <td>Everyone</td>\n      <td>Art &amp; Design</td>\n      <td>April 25, 2018</td>\n      <td>1.5</td>\n      <td>3.0 and up</td>\n      <td>192.0</td>\n      <td>False</td>\n    </tr>\n    <tr>\n      <th>26</th>\n      <td>Colorfit - Drawing &amp; Coloring</td>\n      <td>ART_AND_DESIGN</td>\n      <td>4.7</td>\n      <td>20260.0</td>\n      <td>500,000+</td>\n      <td>Free</td>\n      <td>0</td>\n      <td>Everyone</td>\n      <td>Art &amp; Design;Creativity</td>\n      <td>October 11, 2017</td>\n      <td>1.0.8</td>\n      <td>4.0.3 and up</td>\n      <td>20260.0</td>\n      <td>False</td>\n    </tr>\n    <tr>\n      <th>27</th>\n      <td>Animated Photo Editor</td>\n      <td>ART_AND_DESIGN</td>\n      <td>4.1</td>\n      <td>203.0</td>\n      <td>100,000+</td>\n      <td>Free</td>\n      <td>0</td>\n      <td>Everyone</td>\n      <td>Art &amp; Design</td>\n      <td>March 21, 2018</td>\n      <td>1.03</td>\n      <td>4.0.3 and up</td>\n      <td>203.0</td>\n      <td>False</td>\n    </tr>\n    <tr>\n      <th>28</th>\n      <td>Pencil Sketch Drawing</td>\n      <td>ART_AND_DESIGN</td>\n      <td>3.9</td>\n      <td>136.0</td>\n      <td>10,000+</td>\n      <td>Free</td>\n      <td>0</td>\n      <td>Everyone</td>\n      <td>Art &amp; Design</td>\n      <td>July 12, 2018</td>\n      <td>6.0</td>\n      <td>2.3 and up</td>\n      <td>136.0</td>\n      <td>False</td>\n    </tr>\n    <tr>\n      <th>29</th>\n      <td>Easy Realistic Drawing Tutorial</td>\n      <td>ART_AND_DESIGN</td>\n      <td>4.1</td>\n      <td>223.0</td>\n      <td>100,000+</td>\n      <td>Free</td>\n      <td>0</td>\n      <td>Everyone</td>\n      <td>Art &amp; Design</td>\n      <td>August 22, 2017</td>\n      <td>1.0</td>\n      <td>2.3 and up</td>\n      <td>223.0</td>\n      <td>False</td>\n    </tr>\n    <tr>\n      <th>30</th>\n      <td>Pink Silver Bow Keyboard Theme</td>\n      <td>ART_AND_DESIGN</td>\n      <td>4.2</td>\n      <td>1120.0</td>\n      <td>100,000+</td>\n      <td>Free</td>\n      <td>0</td>\n      <td>Everyone</td>\n      <td>Art &amp; Design</td>\n      <td>July 12, 2018</td>\n      <td>6.7.12.2018</td>\n      <td>4.0.3 and up</td>\n      <td>1120.0</td>\n      <td>False</td>\n    </tr>\n    <tr>\n      <th>31</th>\n      <td>Art Drawing Ideas</td>\n      <td>ART_AND_DESIGN</td>\n      <td>4.1</td>\n      <td>227.0</td>\n      <td>50,000+</td>\n      <td>Free</td>\n      <td>0</td>\n      <td>Everyone</td>\n      <td>Art &amp; Design</td>\n      <td>May 31, 2018</td>\n      <td>1.2</td>\n      <td>2.3 and up</td>\n      <td>227.0</td>\n      <td>False</td>\n    </tr>\n    <tr>\n      <th>...</th>\n      <td>...</td>\n      <td>...</td>\n      <td>...</td>\n      <td>...</td>\n      <td>...</td>\n      <td>...</td>\n      <td>...</td>\n      <td>...</td>\n      <td>...</td>\n      <td>...</td>\n      <td>...</td>\n      <td>...</td>\n      <td>...</td>\n      <td>...</td>\n    </tr>\n    <tr>\n      <th>10795</th>\n      <td>Reindeer VPN - Proxy VPN</td>\n      <td>TOOLS</td>\n      <td>4.2</td>\n      <td>7339.0</td>\n      <td>100,000+</td>\n      <td>Free</td>\n      <td>0</td>\n      <td>Everyone</td>\n      <td>Tools</td>\n      <td>May 10, 2018</td>\n      <td>1.74</td>\n      <td>4.1 and up</td>\n      <td>7339.0</td>\n      <td>False</td>\n    </tr>\n    <tr>\n      <th>10796</th>\n      <td>Inf VPN - Global Proxy &amp; Unlimited Free WIFI VPN</td>\n      <td>TOOLS</td>\n      <td>4.7</td>\n      <td>61445.0</td>\n      <td>1,000,000+</td>\n      <td>Free</td>\n      <td>0</td>\n      <td>Everyone</td>\n      <td>Tools</td>\n      <td>July 26, 2018</td>\n      <td>1.9.734</td>\n      <td>4.1 and up</td>\n      <td>61445.0</td>\n      <td>False</td>\n    </tr>\n    <tr>\n      <th>10797</th>\n      <td>Fuel Rewards® program</td>\n      <td>LIFESTYLE</td>\n      <td>4.6</td>\n      <td>32433.0</td>\n      <td>1,000,000+</td>\n      <td>Free</td>\n      <td>0</td>\n      <td>Everyone</td>\n      <td>Lifestyle</td>\n      <td>June 26, 2018</td>\n      <td>2.9.1</td>\n      <td>5.0 and up</td>\n      <td>32433.0</td>\n      <td>False</td>\n    </tr>\n    <tr>\n      <th>10799</th>\n      <td>Fr Daoud Lamei</td>\n      <td>SOCIAL</td>\n      <td>4.7</td>\n      <td>2036.0</td>\n      <td>100,000+</td>\n      <td>Free</td>\n      <td>0</td>\n      <td>Everyone</td>\n      <td>Social</td>\n      <td>May 20, 2018</td>\n      <td>1.72</td>\n      <td>4.0.3 and up</td>\n      <td>2036.0</td>\n      <td>False</td>\n    </tr>\n    <tr>\n      <th>10800</th>\n      <td>FR Roster</td>\n      <td>TOOLS</td>\n      <td>4.1</td>\n      <td>174.0</td>\n      <td>5,000+</td>\n      <td>Free</td>\n      <td>0</td>\n      <td>Everyone</td>\n      <td>Tools</td>\n      <td>July 30, 2018</td>\n      <td>6.04</td>\n      <td>4.4 and up</td>\n      <td>174.0</td>\n      <td>False</td>\n    </tr>\n    <tr>\n      <th>10801</th>\n      <td>Fr Ignacio Outreach</td>\n      <td>FAMILY</td>\n      <td>4.9</td>\n      <td>52.0</td>\n      <td>1,000+</td>\n      <td>Free</td>\n      <td>0</td>\n      <td>Everyone</td>\n      <td>Education</td>\n      <td>January 19, 2018</td>\n      <td>1.0</td>\n      <td>4.4 and up</td>\n      <td>52.0</td>\n      <td>False</td>\n    </tr>\n    <tr>\n      <th>10802</th>\n      <td>FR: My Famous Lover</td>\n      <td>FAMILY</td>\n      <td>4.0</td>\n      <td>185.0</td>\n      <td>10,000+</td>\n      <td>Free</td>\n      <td>0</td>\n      <td>Teen</td>\n      <td>Entertainment</td>\n      <td>August 6, 2015</td>\n      <td>1.3.0</td>\n      <td>3.0 and up</td>\n      <td>185.0</td>\n      <td>False</td>\n    </tr>\n    <tr>\n      <th>10803</th>\n      <td>Fatal Raid - No.1 Mobile FPS</td>\n      <td>GAME</td>\n      <td>4.3</td>\n      <td>56496.0</td>\n      <td>1,000,000+</td>\n      <td>Free</td>\n      <td>0</td>\n      <td>Teen</td>\n      <td>Action</td>\n      <td>August 7, 2018</td>\n      <td>1.5.447</td>\n      <td>4.0 and up</td>\n      <td>56496.0</td>\n      <td>False</td>\n    </tr>\n    <tr>\n      <th>10804</th>\n      <td>Poker Pro.Fr</td>\n      <td>GAME</td>\n      <td>4.2</td>\n      <td>5442.0</td>\n      <td>100,000+</td>\n      <td>Free</td>\n      <td>0</td>\n      <td>Teen</td>\n      <td>Card</td>\n      <td>May 22, 2018</td>\n      <td>4.1.3</td>\n      <td>2.3 and up</td>\n      <td>5442.0</td>\n      <td>False</td>\n    </tr>\n    <tr>\n      <th>10805</th>\n      <td>Scoreboard FR</td>\n      <td>LIFESTYLE</td>\n      <td>4.3</td>\n      <td>3.0</td>\n      <td>100+</td>\n      <td>Free</td>\n      <td>0</td>\n      <td>Everyone</td>\n      <td>Lifestyle</td>\n      <td>August 7, 2018</td>\n      <td>2.1</td>\n      <td>4.2 and up</td>\n      <td>3.0</td>\n      <td>False</td>\n    </tr>\n    <tr>\n      <th>10809</th>\n      <td>Castle Clash: RPG War and Strategy FR</td>\n      <td>FAMILY</td>\n      <td>4.7</td>\n      <td>376223.0</td>\n      <td>1,000,000+</td>\n      <td>Free</td>\n      <td>0</td>\n      <td>Everyone</td>\n      <td>Strategy</td>\n      <td>July 18, 2018</td>\n      <td>1.4.2</td>\n      <td>4.1 and up</td>\n      <td>376223.0</td>\n      <td>False</td>\n    </tr>\n    <tr>\n      <th>10810</th>\n      <td>Fr Lupupa Sermons</td>\n      <td>BUSINESS</td>\n      <td>4.8</td>\n      <td>19.0</td>\n      <td>100+</td>\n      <td>Free</td>\n      <td>0</td>\n      <td>Everyone</td>\n      <td>Business</td>\n      <td>June 12, 2018</td>\n      <td>1.0</td>\n      <td>4.4 and up</td>\n      <td>19.0</td>\n      <td>False</td>\n    </tr>\n    <tr>\n      <th>10812</th>\n      <td>Fr Agnel Pune</td>\n      <td>FAMILY</td>\n      <td>4.1</td>\n      <td>80.0</td>\n      <td>1,000+</td>\n      <td>Free</td>\n      <td>0</td>\n      <td>Everyone</td>\n      <td>Education</td>\n      <td>June 13, 2018</td>\n      <td>2.0.20</td>\n      <td>4.0.3 and up</td>\n      <td>80.0</td>\n      <td>False</td>\n    </tr>\n    <tr>\n      <th>10814</th>\n      <td>FR: My Secret Pets!</td>\n      <td>FAMILY</td>\n      <td>4.0</td>\n      <td>785.0</td>\n      <td>50,000+</td>\n      <td>Free</td>\n      <td>0</td>\n      <td>Teen</td>\n      <td>Entertainment</td>\n      <td>June 3, 2015</td>\n      <td>1.3.1</td>\n      <td>3.0 and up</td>\n      <td>785.0</td>\n      <td>False</td>\n    </tr>\n    <tr>\n      <th>10815</th>\n      <td>Golden Dictionary (FR-AR)</td>\n      <td>BOOKS_AND_REFERENCE</td>\n      <td>4.2</td>\n      <td>5775.0</td>\n      <td>500,000+</td>\n      <td>Free</td>\n      <td>0</td>\n      <td>Everyone</td>\n      <td>Books &amp; Reference</td>\n      <td>July 19, 2018</td>\n      <td>7.0.4.6</td>\n      <td>4.2 and up</td>\n      <td>5775.0</td>\n      <td>False</td>\n    </tr>\n    <tr>\n      <th>10817</th>\n      <td>HTC Sense Input - FR</td>\n      <td>TOOLS</td>\n      <td>4.0</td>\n      <td>885.0</td>\n      <td>100,000+</td>\n      <td>Free</td>\n      <td>0</td>\n      <td>Everyone</td>\n      <td>Tools</td>\n      <td>October 30, 2015</td>\n      <td>1.0.612928</td>\n      <td>5.0 and up</td>\n      <td>885.0</td>\n      <td>False</td>\n    </tr>\n    <tr>\n      <th>10819</th>\n      <td>Fanfic-FR</td>\n      <td>BOOKS_AND_REFERENCE</td>\n      <td>3.3</td>\n      <td>52.0</td>\n      <td>5,000+</td>\n      <td>Free</td>\n      <td>0</td>\n      <td>Teen</td>\n      <td>Books &amp; Reference</td>\n      <td>August 5, 2017</td>\n      <td>0.3.4</td>\n      <td>4.1 and up</td>\n      <td>52.0</td>\n      <td>False</td>\n    </tr>\n    <tr>\n      <th>10820</th>\n      <td>Fr. Daoud Lamei</td>\n      <td>FAMILY</td>\n      <td>5.0</td>\n      <td>22.0</td>\n      <td>1,000+</td>\n      <td>Free</td>\n      <td>0</td>\n      <td>Teen</td>\n      <td>Education</td>\n      <td>June 27, 2018</td>\n      <td>3.8.0</td>\n      <td>4.1 and up</td>\n      <td>22.0</td>\n      <td>False</td>\n    </tr>\n    <tr>\n      <th>10826</th>\n      <td>Frim: get new friends on local chat rooms</td>\n      <td>SOCIAL</td>\n      <td>4.0</td>\n      <td>88486.0</td>\n      <td>5,000,000+</td>\n      <td>Free</td>\n      <td>0</td>\n      <td>Mature 17+</td>\n      <td>Social</td>\n      <td>March 23, 2018</td>\n      <td>Varies with device</td>\n      <td>Varies with device</td>\n      <td>88486.0</td>\n      <td>False</td>\n    </tr>\n    <tr>\n      <th>10827</th>\n      <td>Fr Agnel Ambarnath</td>\n      <td>FAMILY</td>\n      <td>4.2</td>\n      <td>117.0</td>\n      <td>5,000+</td>\n      <td>Free</td>\n      <td>0</td>\n      <td>Everyone</td>\n      <td>Education</td>\n      <td>June 13, 2018</td>\n      <td>2.0.20</td>\n      <td>4.0.3 and up</td>\n      <td>117.0</td>\n      <td>False</td>\n    </tr>\n    <tr>\n      <th>10828</th>\n      <td>Manga-FR - Anime Vostfr</td>\n      <td>COMICS</td>\n      <td>3.4</td>\n      <td>291.0</td>\n      <td>10,000+</td>\n      <td>Free</td>\n      <td>0</td>\n      <td>Everyone</td>\n      <td>Comics</td>\n      <td>May 15, 2017</td>\n      <td>2.0.1</td>\n      <td>4.0 and up</td>\n      <td>291.0</td>\n      <td>False</td>\n    </tr>\n    <tr>\n      <th>10829</th>\n      <td>Bulgarian French Dictionary Fr</td>\n      <td>BOOKS_AND_REFERENCE</td>\n      <td>4.6</td>\n      <td>603.0</td>\n      <td>10,000+</td>\n      <td>Free</td>\n      <td>0</td>\n      <td>Everyone</td>\n      <td>Books &amp; Reference</td>\n      <td>June 19, 2016</td>\n      <td>2.96</td>\n      <td>4.1 and up</td>\n      <td>603.0</td>\n      <td>False</td>\n    </tr>\n    <tr>\n      <th>10830</th>\n      <td>News Minecraft.fr</td>\n      <td>NEWS_AND_MAGAZINES</td>\n      <td>3.8</td>\n      <td>881.0</td>\n      <td>100,000+</td>\n      <td>Free</td>\n      <td>0</td>\n      <td>Everyone</td>\n      <td>News &amp; Magazines</td>\n      <td>January 20, 2014</td>\n      <td>1.5</td>\n      <td>1.6 and up</td>\n      <td>881.0</td>\n      <td>False</td>\n    </tr>\n    <tr>\n      <th>10832</th>\n      <td>FR Tides</td>\n      <td>WEATHER</td>\n      <td>3.8</td>\n      <td>1195.0</td>\n      <td>100,000+</td>\n      <td>Free</td>\n      <td>0</td>\n      <td>Everyone</td>\n      <td>Weather</td>\n      <td>February 16, 2014</td>\n      <td>6.0</td>\n      <td>2.1 and up</td>\n      <td>1195.0</td>\n      <td>False</td>\n    </tr>\n    <tr>\n      <th>10833</th>\n      <td>Chemin (fr)</td>\n      <td>BOOKS_AND_REFERENCE</td>\n      <td>4.8</td>\n      <td>44.0</td>\n      <td>1,000+</td>\n      <td>Free</td>\n      <td>0</td>\n      <td>Everyone</td>\n      <td>Books &amp; Reference</td>\n      <td>March 23, 2014</td>\n      <td>0.8</td>\n      <td>2.2 and up</td>\n      <td>44.0</td>\n      <td>False</td>\n    </tr>\n    <tr>\n      <th>10834</th>\n      <td>FR Calculator</td>\n      <td>FAMILY</td>\n      <td>4.0</td>\n      <td>7.0</td>\n      <td>500+</td>\n      <td>Free</td>\n      <td>0</td>\n      <td>Everyone</td>\n      <td>Education</td>\n      <td>June 18, 2017</td>\n      <td>1.0.0</td>\n      <td>4.1 and up</td>\n      <td>7.0</td>\n      <td>False</td>\n    </tr>\n    <tr>\n      <th>10836</th>\n      <td>Sya9a Maroc - FR</td>\n      <td>FAMILY</td>\n      <td>4.5</td>\n      <td>38.0</td>\n      <td>5,000+</td>\n      <td>Free</td>\n      <td>0</td>\n      <td>Everyone</td>\n      <td>Education</td>\n      <td>July 25, 2017</td>\n      <td>1.48</td>\n      <td>4.1 and up</td>\n      <td>38.0</td>\n      <td>False</td>\n    </tr>\n    <tr>\n      <th>10837</th>\n      <td>Fr. Mike Schmitz Audio Teachings</td>\n      <td>FAMILY</td>\n      <td>5.0</td>\n      <td>4.0</td>\n      <td>100+</td>\n      <td>Free</td>\n      <td>0</td>\n      <td>Everyone</td>\n      <td>Education</td>\n      <td>July 6, 2018</td>\n      <td>1.0</td>\n      <td>4.1 and up</td>\n      <td>4.0</td>\n      <td>False</td>\n    </tr>\n    <tr>\n      <th>10839</th>\n      <td>The SCP Foundation DB fr nn5n</td>\n      <td>BOOKS_AND_REFERENCE</td>\n      <td>4.5</td>\n      <td>114.0</td>\n      <td>1,000+</td>\n      <td>Free</td>\n      <td>0</td>\n      <td>Mature 17+</td>\n      <td>Books &amp; Reference</td>\n      <td>January 19, 2015</td>\n      <td>Varies with device</td>\n      <td>Varies with device</td>\n      <td>114.0</td>\n      <td>False</td>\n    </tr>\n    <tr>\n      <th>10840</th>\n      <td>iHoroscope - 2018 Daily Horoscope &amp; Astrology</td>\n      <td>LIFESTYLE</td>\n      <td>4.5</td>\n      <td>398307.0</td>\n      <td>10,000,000+</td>\n      <td>Free</td>\n      <td>0</td>\n      <td>Everyone</td>\n      <td>Lifestyle</td>\n      <td>July 25, 2018</td>\n      <td>Varies with device</td>\n      <td>Varies with device</td>\n      <td>398307.0</td>\n      <td>False</td>\n    </tr>\n  </tbody>\n</table>\n<p>9360 rows × 14 columns</p>\n</div>",
      "text/plain": "                                                     App             Category  \\\n0         Photo Editor & Candy Camera & Grid & ScrapBook       ART_AND_DESIGN   \n1                                    Coloring book moana       ART_AND_DESIGN   \n2      U Launcher Lite – FREE Live Cool Themes, Hide ...       ART_AND_DESIGN   \n3                                  Sketch - Draw & Paint       ART_AND_DESIGN   \n4                  Pixel Draw - Number Art Coloring Book       ART_AND_DESIGN   \n5                             Paper flowers instructions       ART_AND_DESIGN   \n6                Smoke Effect Photo Maker - Smoke Editor       ART_AND_DESIGN   \n7                                       Infinite Painter       ART_AND_DESIGN   \n8                                   Garden Coloring Book       ART_AND_DESIGN   \n9                          Kids Paint Free - Drawing Fun       ART_AND_DESIGN   \n10                               Text on Photo - Fonteee       ART_AND_DESIGN   \n11               Name Art Photo Editor - Focus n Filters       ART_AND_DESIGN   \n12                        Tattoo Name On My Photo Editor       ART_AND_DESIGN   \n13                                 Mandala Coloring Book       ART_AND_DESIGN   \n14       3D Color Pixel by Number - Sandbox Art Coloring       ART_AND_DESIGN   \n16          Photo Designer - Write your name with shapes       ART_AND_DESIGN   \n17                              350 Diy Room Decor Ideas       ART_AND_DESIGN   \n18                         FlipaClip - Cartoon animation       ART_AND_DESIGN   \n19                                          ibis Paint X       ART_AND_DESIGN   \n20                           Logo Maker - Small Business       ART_AND_DESIGN   \n21             Boys Photo Editor - Six Pack & Men's Suit       ART_AND_DESIGN   \n22               Superheroes Wallpapers | 4K Backgrounds       ART_AND_DESIGN   \n24                           HD Mickey Minnie Wallpapers       ART_AND_DESIGN   \n25                            Harley Quinn wallpapers HD       ART_AND_DESIGN   \n26                         Colorfit - Drawing & Coloring       ART_AND_DESIGN   \n27                                 Animated Photo Editor       ART_AND_DESIGN   \n28                                 Pencil Sketch Drawing       ART_AND_DESIGN   \n29                       Easy Realistic Drawing Tutorial       ART_AND_DESIGN   \n30                        Pink Silver Bow Keyboard Theme       ART_AND_DESIGN   \n31                                     Art Drawing Ideas       ART_AND_DESIGN   \n...                                                  ...                  ...   \n10795                           Reindeer VPN - Proxy VPN                TOOLS   \n10796   Inf VPN - Global Proxy & Unlimited Free WIFI VPN                TOOLS   \n10797                              Fuel Rewards® program            LIFESTYLE   \n10799                                     Fr Daoud Lamei               SOCIAL   \n10800                                          FR Roster                TOOLS   \n10801                                Fr Ignacio Outreach               FAMILY   \n10802                                FR: My Famous Lover               FAMILY   \n10803                       Fatal Raid - No.1 Mobile FPS                 GAME   \n10804                                       Poker Pro.Fr                 GAME   \n10805                                      Scoreboard FR            LIFESTYLE   \n10809              Castle Clash: RPG War and Strategy FR               FAMILY   \n10810                                  Fr Lupupa Sermons             BUSINESS   \n10812                                      Fr Agnel Pune               FAMILY   \n10814                               FR: My Secret Pets!                FAMILY   \n10815                          Golden Dictionary (FR-AR)  BOOKS_AND_REFERENCE   \n10817                               HTC Sense Input - FR                TOOLS   \n10819                                          Fanfic-FR  BOOKS_AND_REFERENCE   \n10820                                    Fr. Daoud Lamei               FAMILY   \n10826          Frim: get new friends on local chat rooms               SOCIAL   \n10827                                 Fr Agnel Ambarnath               FAMILY   \n10828                            Manga-FR - Anime Vostfr               COMICS   \n10829                     Bulgarian French Dictionary Fr  BOOKS_AND_REFERENCE   \n10830                                  News Minecraft.fr   NEWS_AND_MAGAZINES   \n10832                                           FR Tides              WEATHER   \n10833                                        Chemin (fr)  BOOKS_AND_REFERENCE   \n10834                                      FR Calculator               FAMILY   \n10836                                   Sya9a Maroc - FR               FAMILY   \n10837                   Fr. Mike Schmitz Audio Teachings               FAMILY   \n10839                      The SCP Foundation DB fr nn5n  BOOKS_AND_REFERENCE   \n10840      iHoroscope - 2018 Daily Horoscope & Astrology            LIFESTYLE   \n\n       Rating   Reviews     Installs  Type Price Content Rating  \\\n0         4.1     159.0      10,000+  Free     0       Everyone   \n1         3.9     967.0     500,000+  Free     0       Everyone   \n2         4.7   87510.0   5,000,000+  Free     0       Everyone   \n3         4.5  215644.0  50,000,000+  Free     0           Teen   \n4         4.3     967.0     100,000+  Free     0       Everyone   \n5         4.4     167.0      50,000+  Free     0       Everyone   \n6         3.8     178.0      50,000+  Free     0       Everyone   \n7         4.1   36815.0   1,000,000+  Free     0       Everyone   \n8         4.4   13791.0   1,000,000+  Free     0       Everyone   \n9         4.7     121.0      10,000+  Free     0       Everyone   \n10        4.4   13880.0   1,000,000+  Free     0       Everyone   \n11        4.4    8788.0   1,000,000+  Free     0       Everyone   \n12        4.2   44829.0  10,000,000+  Free     0           Teen   \n13        4.6    4326.0     100,000+  Free     0       Everyone   \n14        4.4    1518.0     100,000+  Free     0       Everyone   \n16        4.7    3632.0     500,000+  Free     0       Everyone   \n17        4.5      27.0      10,000+  Free     0       Everyone   \n18        4.3  194216.0   5,000,000+  Free     0       Everyone   \n19        4.6  224399.0  10,000,000+  Free     0       Everyone   \n20        4.0     450.0     100,000+  Free     0       Everyone   \n21        4.1     654.0     100,000+  Free     0       Everyone   \n22        4.7    7699.0     500,000+  Free     0   Everyone 10+   \n24        4.7     118.0      50,000+  Free     0       Everyone   \n25        4.8     192.0      10,000+  Free     0       Everyone   \n26        4.7   20260.0     500,000+  Free     0       Everyone   \n27        4.1     203.0     100,000+  Free     0       Everyone   \n28        3.9     136.0      10,000+  Free     0       Everyone   \n29        4.1     223.0     100,000+  Free     0       Everyone   \n30        4.2    1120.0     100,000+  Free     0       Everyone   \n31        4.1     227.0      50,000+  Free     0       Everyone   \n...       ...       ...          ...   ...   ...            ...   \n10795     4.2    7339.0     100,000+  Free     0       Everyone   \n10796     4.7   61445.0   1,000,000+  Free     0       Everyone   \n10797     4.6   32433.0   1,000,000+  Free     0       Everyone   \n10799     4.7    2036.0     100,000+  Free     0       Everyone   \n10800     4.1     174.0       5,000+  Free     0       Everyone   \n10801     4.9      52.0       1,000+  Free     0       Everyone   \n10802     4.0     185.0      10,000+  Free     0           Teen   \n10803     4.3   56496.0   1,000,000+  Free     0           Teen   \n10804     4.2    5442.0     100,000+  Free     0           Teen   \n10805     4.3       3.0         100+  Free     0       Everyone   \n10809     4.7  376223.0   1,000,000+  Free     0       Everyone   \n10810     4.8      19.0         100+  Free     0       Everyone   \n10812     4.1      80.0       1,000+  Free     0       Everyone   \n10814     4.0     785.0      50,000+  Free     0           Teen   \n10815     4.2    5775.0     500,000+  Free     0       Everyone   \n10817     4.0     885.0     100,000+  Free     0       Everyone   \n10819     3.3      52.0       5,000+  Free     0           Teen   \n10820     5.0      22.0       1,000+  Free     0           Teen   \n10826     4.0   88486.0   5,000,000+  Free     0     Mature 17+   \n10827     4.2     117.0       5,000+  Free     0       Everyone   \n10828     3.4     291.0      10,000+  Free     0       Everyone   \n10829     4.6     603.0      10,000+  Free     0       Everyone   \n10830     3.8     881.0     100,000+  Free     0       Everyone   \n10832     3.8    1195.0     100,000+  Free     0       Everyone   \n10833     4.8      44.0       1,000+  Free     0       Everyone   \n10834     4.0       7.0         500+  Free     0       Everyone   \n10836     4.5      38.0       5,000+  Free     0       Everyone   \n10837     5.0       4.0         100+  Free     0       Everyone   \n10839     4.5     114.0       1,000+  Free     0     Mature 17+   \n10840     4.5  398307.0  10,000,000+  Free     0       Everyone   \n\n                          Genres        Last Updated         Current Ver  \\\n0                   Art & Design     January 7, 2018               1.0.0   \n1      Art & Design;Pretend Play    January 15, 2018               2.0.0   \n2                   Art & Design      August 1, 2018               1.2.4   \n3                   Art & Design        June 8, 2018  Varies with device   \n4        Art & Design;Creativity       June 20, 2018                 1.1   \n5                   Art & Design      March 26, 2017                 1.0   \n6                   Art & Design      April 26, 2018                 1.1   \n7                   Art & Design       June 14, 2018            6.1.61.1   \n8                   Art & Design  September 20, 2017               2.9.2   \n9        Art & Design;Creativity        July 3, 2018                 2.8   \n10                  Art & Design    October 27, 2017               1.0.4   \n11                  Art & Design       July 31, 2018              1.0.15   \n12                  Art & Design       April 2, 2018                 3.8   \n13                  Art & Design       June 26, 2018               1.0.4   \n14                  Art & Design      August 3, 2018               1.2.3   \n16                  Art & Design       July 31, 2018                 3.1   \n17                  Art & Design    November 7, 2017                 1.0   \n18                  Art & Design      August 3, 2018               2.2.5   \n19                  Art & Design       July 30, 2018               5.5.4   \n20                  Art & Design      April 20, 2018                 4.0   \n21                  Art & Design      March 20, 2018                 1.1   \n22                  Art & Design       July 12, 2018             2.2.6.2   \n24                  Art & Design        July 7, 2018               1.1.3   \n25                  Art & Design      April 25, 2018                 1.5   \n26       Art & Design;Creativity    October 11, 2017               1.0.8   \n27                  Art & Design      March 21, 2018                1.03   \n28                  Art & Design       July 12, 2018                 6.0   \n29                  Art & Design     August 22, 2017                 1.0   \n30                  Art & Design       July 12, 2018         6.7.12.2018   \n31                  Art & Design        May 31, 2018                 1.2   \n...                          ...                 ...                 ...   \n10795                      Tools        May 10, 2018                1.74   \n10796                      Tools       July 26, 2018             1.9.734   \n10797                  Lifestyle       June 26, 2018               2.9.1   \n10799                     Social        May 20, 2018                1.72   \n10800                      Tools       July 30, 2018                6.04   \n10801                  Education    January 19, 2018                 1.0   \n10802              Entertainment      August 6, 2015               1.3.0   \n10803                     Action      August 7, 2018             1.5.447   \n10804                       Card        May 22, 2018               4.1.3   \n10805                  Lifestyle      August 7, 2018                 2.1   \n10809                   Strategy       July 18, 2018               1.4.2   \n10810                   Business       June 12, 2018                 1.0   \n10812                  Education       June 13, 2018              2.0.20   \n10814              Entertainment        June 3, 2015               1.3.1   \n10815          Books & Reference       July 19, 2018             7.0.4.6   \n10817                      Tools    October 30, 2015          1.0.612928   \n10819          Books & Reference      August 5, 2017               0.3.4   \n10820                  Education       June 27, 2018               3.8.0   \n10826                     Social      March 23, 2018  Varies with device   \n10827                  Education       June 13, 2018              2.0.20   \n10828                     Comics        May 15, 2017               2.0.1   \n10829          Books & Reference       June 19, 2016                2.96   \n10830           News & Magazines    January 20, 2014                 1.5   \n10832                    Weather   February 16, 2014                 6.0   \n10833          Books & Reference      March 23, 2014                 0.8   \n10834                  Education       June 18, 2017               1.0.0   \n10836                  Education       July 25, 2017                1.48   \n10837                  Education        July 6, 2018                 1.0   \n10839          Books & Reference    January 19, 2015  Varies with device   \n10840                  Lifestyle       July 25, 2018  Varies with device   \n\n              Android Ver  Reviews_numeric  Review_isnull  \n0            4.0.3 and up            159.0          False  \n1            4.0.3 and up            967.0          False  \n2            4.0.3 and up          87510.0          False  \n3              4.2 and up         215644.0          False  \n4              4.4 and up            967.0          False  \n5              2.3 and up            167.0          False  \n6            4.0.3 and up            178.0          False  \n7              4.2 and up          36815.0          False  \n8              3.0 and up          13791.0          False  \n9            4.0.3 and up            121.0          False  \n10             4.1 and up          13880.0          False  \n11             4.0 and up           8788.0          False  \n12             4.1 and up          44829.0          False  \n13             4.4 and up           4326.0          False  \n14             2.3 and up           1518.0          False  \n16             4.1 and up           3632.0          False  \n17             2.3 and up             27.0          False  \n18           4.0.3 and up         194216.0          False  \n19             4.1 and up         224399.0          False  \n20             4.1 and up            450.0          False  \n21           4.0.3 and up            654.0          False  \n22           4.0.3 and up           7699.0          False  \n24             4.1 and up            118.0          False  \n25             3.0 and up            192.0          False  \n26           4.0.3 and up          20260.0          False  \n27           4.0.3 and up            203.0          False  \n28             2.3 and up            136.0          False  \n29             2.3 and up            223.0          False  \n30           4.0.3 and up           1120.0          False  \n31             2.3 and up            227.0          False  \n...                   ...              ...            ...  \n10795          4.1 and up           7339.0          False  \n10796          4.1 and up          61445.0          False  \n10797          5.0 and up          32433.0          False  \n10799        4.0.3 and up           2036.0          False  \n10800          4.4 and up            174.0          False  \n10801          4.4 and up             52.0          False  \n10802          3.0 and up            185.0          False  \n10803          4.0 and up          56496.0          False  \n10804          2.3 and up           5442.0          False  \n10805          4.2 and up              3.0          False  \n10809          4.1 and up         376223.0          False  \n10810          4.4 and up             19.0          False  \n10812        4.0.3 and up             80.0          False  \n10814          3.0 and up            785.0          False  \n10815          4.2 and up           5775.0          False  \n10817          5.0 and up            885.0          False  \n10819          4.1 and up             52.0          False  \n10820          4.1 and up             22.0          False  \n10826  Varies with device          88486.0          False  \n10827        4.0.3 and up            117.0          False  \n10828          4.0 and up            291.0          False  \n10829          4.1 and up            603.0          False  \n10830          1.6 and up            881.0          False  \n10832          2.1 and up           1195.0          False  \n10833          2.2 and up             44.0          False  \n10834          4.1 and up              7.0          False  \n10836          4.1 and up             38.0          False  \n10837          4.1 and up              4.0          False  \n10839  Varies with device            114.0          False  \n10840  Varies with device         398307.0          False  \n\n[9360 rows x 14 columns]"
     },
     "execution_count": 55,
     "metadata": {},
     "output_type": "execute_result"
    }
   ],
   "source": [
    "# Your code here:\n",
    "# missing_data_columns = [column for column in google_play.columns if google_play[column].isna().sum() >= 1]\n",
    "# google_missing_removed = google_play.drop(missing_data_columns, inplace = False)\n",
    "google_missing_removed = google_play.dropna()\n",
    "google_missing_removed "
   ]
  },
  {
   "cell_type": "code",
   "execution_count": 56,
   "metadata": {},
   "outputs": [
    {
     "data": {
      "text/plain": "App                0\nCategory           0\nRating             0\nReviews            0\nInstalls           0\nType               0\nPrice              0\nContent Rating     0\nGenres             0\nLast Updated       0\nCurrent Ver        0\nAndroid Ver        0\nReviews_numeric    0\nReview_isnull      0\ndtype: int64"
     },
     "execution_count": 56,
     "metadata": {},
     "output_type": "execute_result"
    }
   ],
   "source": [
    "google_missing_removed.isna().sum()"
   ]
  },
  {
   "cell_type": "markdown",
   "metadata": {},
   "source": [
    "From now on, we use the `google_missing_removed` variable instead of `google_play`.\n",
    "\n",
    "#### Next, we look at the `Last Updated` column.\n",
    "\n",
    "The `Last Updated` column seems to contain a date, though it is classified as an object type. Let's convert this column using the `pd.to_datetime` function ([documentation](https://pandas.pydata.org/pandas-docs/stable/generated/pandas.to_datetime.html))."
   ]
  },
  {
   "cell_type": "code",
   "execution_count": 57,
   "metadata": {},
   "outputs": [
    {
     "name": "stderr",
     "output_type": "stream",
     "text": "C:\\Users\\Ironhack\\AppData\\Roaming\\Python\\Python37\\site-packages\\ipykernel_launcher.py:2: SettingWithCopyWarning: \nA value is trying to be set on a copy of a slice from a DataFrame.\nTry using .loc[row_indexer,col_indexer] = value instead\n\nSee the caveats in the documentation: http://pandas.pydata.org/pandas-docs/stable/indexing.html#indexing-view-versus-copy\n  \n"
    }
   ],
   "source": [
    "# Your code here:\n",
    "google_missing_removed['Last Updated'] = google_missing_removed['Last Updated'].apply(pd.to_datetime)"
   ]
  },
  {
   "cell_type": "code",
   "execution_count": 58,
   "metadata": {},
   "outputs": [
    {
     "data": {
      "text/plain": "dtype('<M8[ns]')"
     },
     "execution_count": 58,
     "metadata": {},
     "output_type": "execute_result"
    }
   ],
   "source": [
    "google_missing_removed['Last Updated'].dtypes"
   ]
  },
  {
   "cell_type": "markdown",
   "metadata": {},
   "source": [
    "#### The last column we will transform is `Price`. \n",
    "\n",
    "We start by looking at the unique values of this column."
   ]
  },
  {
   "cell_type": "code",
   "execution_count": 59,
   "metadata": {},
   "outputs": [
    {
     "data": {
      "text/plain": "array(['0', '$4.99', '$3.99', '$6.99', '$7.99', '$5.99', '$2.99', '$3.49',\n       '$1.99', '$9.99', '$7.49', '$0.99', '$9.00', '$5.49', '$10.00',\n       '$24.99', '$11.99', '$79.99', '$16.99', '$14.99', '$29.99',\n       '$12.99', '$2.49', '$10.99', '$1.50', '$19.99', '$15.99', '$33.99',\n       '$39.99', '$3.95', '$4.49', '$1.70', '$8.99', '$1.49', '$3.88',\n       '$399.99', '$17.99', '$400.00', '$3.02', '$1.76', '$4.84', '$4.77',\n       '$1.61', '$2.50', '$1.59', '$6.49', '$1.29', '$299.99', '$379.99',\n       '$37.99', '$18.99', '$389.99', '$8.49', '$1.75', '$14.00', '$2.00',\n       '$3.08', '$2.59', '$19.40', '$3.90', '$4.59', '$15.46', '$3.04',\n       '$13.99', '$4.29', '$3.28', '$4.60', '$1.00', '$2.95', '$2.90',\n       '$1.97', '$2.56', '$1.20'], dtype=object)"
     },
     "execution_count": 59,
     "metadata": {},
     "output_type": "execute_result"
    }
   ],
   "source": [
    "# Your code here:\n",
    "google_missing_removed['Price'].unique()"
   ]
  },
  {
   "cell_type": "markdown",
   "metadata": {},
   "source": [
    "Since all prices are ordinal data without exceptions, we can tranform this column by removing the dollar sign and converting to numeric. We can create a new column called `Price Numerical` and drop the original column.\n",
    "\n",
    "We will achieve our goal in three steps. Follow the instructions of each step below.\n",
    "\n",
    "#### First we remove the dollar sign. Do this in the next cell by applying the `str.replace` function to the column to replace `$` with an empty string (`''`)."
   ]
  },
  {
   "cell_type": "code",
   "execution_count": 78,
   "metadata": {},
   "outputs": [
    {
     "name": "stderr",
     "output_type": "stream",
     "text": "C:\\Users\\Ironhack\\AppData\\Roaming\\Python\\Python37\\site-packages\\ipykernel_launcher.py:2: SettingWithCopyWarning: \nA value is trying to be set on a copy of a slice from a DataFrame.\nTry using .loc[row_indexer,col_indexer] = value instead\n\nSee the caveats in the documentation: http://pandas.pydata.org/pandas-docs/stable/indexing.html#indexing-view-versus-copy\n  \n"
    },
    {
     "data": {
      "text/plain": "array(['0', '4.99', '3.99', '6.99', '7.99', '5.99', '2.99', '3.49',\n       '1.99', '9.99', '7.49', '0.99', '9.00', '5.49', '10.00', '24.99',\n       '11.99', '79.99', '16.99', '14.99', '29.99', '12.99', '2.49',\n       '10.99', '1.50', '19.99', '15.99', '33.99', '39.99', '3.95',\n       '4.49', '1.70', '8.99', '1.49', '3.88', '399.99', '17.99',\n       '400.00', '3.02', '1.76', '4.84', '4.77', '1.61', '2.50', '1.59',\n       '6.49', '1.29', '299.99', '379.99', '37.99', '18.99', '389.99',\n       '8.49', '1.75', '14.00', '2.00', '3.08', '2.59', '19.40', '3.90',\n       '4.59', '15.46', '3.04', '13.99', '4.29', '3.28', '4.60', '1.00',\n       '2.95', '2.90', '1.97', '2.56', '1.20'], dtype=object)"
     },
     "execution_count": 78,
     "metadata": {},
     "output_type": "execute_result"
    }
   ],
   "source": [
    "# Your code here:\n",
    "google_missing_removed['Price Numerical'] = google_missing_removed['Price'].str.replace('$', '')\n",
    "google_missing_removed['Price Numerical'].unique()"
   ]
  },
  {
   "cell_type": "markdown",
   "metadata": {},
   "source": [
    "#### Second step, coerce the `Price Numerical` column to numeric."
   ]
  },
  {
   "cell_type": "code",
   "execution_count": 80,
   "metadata": {},
   "outputs": [
    {
     "name": "stderr",
     "output_type": "stream",
     "text": "C:\\Users\\Ironhack\\AppData\\Roaming\\Python\\Python37\\site-packages\\ipykernel_launcher.py:2: SettingWithCopyWarning: \nA value is trying to be set on a copy of a slice from a DataFrame.\nTry using .loc[row_indexer,col_indexer] = value instead\n\nSee the caveats in the documentation: http://pandas.pydata.org/pandas-docs/stable/indexing.html#indexing-view-versus-copy\n  \n"
    }
   ],
   "source": [
    "# Your code here:\n",
    "google_missing_removed['Price Numerical'] = pd.to_numeric(google_missing_removed['Price Numerical'])"
   ]
  },
  {
   "cell_type": "code",
   "execution_count": 82,
   "metadata": {},
   "outputs": [
    {
     "data": {
      "text/plain": "dtype('float64')"
     },
     "execution_count": 82,
     "metadata": {},
     "output_type": "execute_result"
    }
   ],
   "source": [
    "google_missing_removed['Price Numerical'].dtypes"
   ]
  },
  {
   "cell_type": "markdown",
   "metadata": {},
   "source": [
    "**Finally, drop the original `Price` column.**"
   ]
  },
  {
   "cell_type": "code",
   "execution_count": 83,
   "metadata": {},
   "outputs": [],
   "source": [
    "# Your code here:\n",
    "google_missing_removed = google_missing_removed.drop('Price', axis = 1)"
   ]
  },
  {
   "cell_type": "markdown",
   "metadata": {},
   "source": [
    "Now check the variable types of `google_missing_removed`. Make sure:\n",
    "\n",
    "* `Size` and `Price` columns have been removed.\n",
    "* `Rating`, `Reviews`, and `Price Numerical` have the type of `float64`.\n",
    "* `Last Updated` has the type of `datetime64`."
   ]
  },
  {
   "cell_type": "code",
   "execution_count": 85,
   "metadata": {},
   "outputs": [
    {
     "data": {
      "text/plain": "App                        object\nCategory                   object\nRating                    float64\nReviews                   float64\nInstalls                   object\nType                       object\nContent Rating             object\nGenres                     object\nLast Updated       datetime64[ns]\nCurrent Ver                object\nAndroid Ver                object\nReviews_numeric           float64\nReview_isnull                bool\nPrice Numerical           float64\ndtype: object"
     },
     "execution_count": 85,
     "metadata": {},
     "output_type": "execute_result"
    }
   ],
   "source": [
    "# Your code here\n",
    "google_missing_removed.columns\n",
    "google_missing_removed.dtypes"
   ]
  },
  {
   "cell_type": "markdown",
   "metadata": {},
   "source": [
    "# Challenge 2 - Loading and Extracting Features from the Second Dataset"
   ]
  },
  {
   "cell_type": "markdown",
   "metadata": {},
   "source": [
    "Load the second dataset to the variable `google_reviews`. The data is in the file `googleplaystore_user_reviews.csv`."
   ]
  },
  {
   "cell_type": "code",
   "execution_count": 87,
   "metadata": {},
   "outputs": [],
   "source": [
    "# Your code here:\n",
    "\n",
    "google_review = pd.read_csv('C:/Users/Ironhack/Documents/Ironhack/Week1/data-labs/module-3/lab-supervised-learning-feature-extraction/googleplaystore_user_reviews.csv')"
   ]
  },
  {
   "cell_type": "markdown",
   "metadata": {},
   "source": [
    "#### This dataset contains the top 100 reviews for each app. \n",
    "\n",
    "Let's examine this dataset using the `head` function"
   ]
  },
  {
   "cell_type": "code",
   "execution_count": 88,
   "metadata": {},
   "outputs": [
    {
     "data": {
      "text/html": "<div>\n<style scoped>\n    .dataframe tbody tr th:only-of-type {\n        vertical-align: middle;\n    }\n\n    .dataframe tbody tr th {\n        vertical-align: top;\n    }\n\n    .dataframe thead th {\n        text-align: right;\n    }\n</style>\n<table border=\"1\" class=\"dataframe\">\n  <thead>\n    <tr style=\"text-align: right;\">\n      <th></th>\n      <th>App</th>\n      <th>Translated_Review</th>\n      <th>Sentiment</th>\n      <th>Sentiment_Polarity</th>\n      <th>Sentiment_Subjectivity</th>\n    </tr>\n  </thead>\n  <tbody>\n    <tr>\n      <th>0</th>\n      <td>10 Best Foods for You</td>\n      <td>I like eat delicious food. That's I'm cooking ...</td>\n      <td>Positive</td>\n      <td>1.00</td>\n      <td>0.533333</td>\n    </tr>\n    <tr>\n      <th>1</th>\n      <td>10 Best Foods for You</td>\n      <td>This help eating healthy exercise regular basis</td>\n      <td>Positive</td>\n      <td>0.25</td>\n      <td>0.288462</td>\n    </tr>\n    <tr>\n      <th>2</th>\n      <td>10 Best Foods for You</td>\n      <td>NaN</td>\n      <td>NaN</td>\n      <td>NaN</td>\n      <td>NaN</td>\n    </tr>\n    <tr>\n      <th>3</th>\n      <td>10 Best Foods for You</td>\n      <td>Works great especially going grocery store</td>\n      <td>Positive</td>\n      <td>0.40</td>\n      <td>0.875000</td>\n    </tr>\n    <tr>\n      <th>4</th>\n      <td>10 Best Foods for You</td>\n      <td>Best idea us</td>\n      <td>Positive</td>\n      <td>1.00</td>\n      <td>0.300000</td>\n    </tr>\n  </tbody>\n</table>\n</div>",
      "text/plain": "                     App                                  Translated_Review  \\\n0  10 Best Foods for You  I like eat delicious food. That's I'm cooking ...   \n1  10 Best Foods for You    This help eating healthy exercise regular basis   \n2  10 Best Foods for You                                                NaN   \n3  10 Best Foods for You         Works great especially going grocery store   \n4  10 Best Foods for You                                       Best idea us   \n\n  Sentiment  Sentiment_Polarity  Sentiment_Subjectivity  \n0  Positive                1.00                0.533333  \n1  Positive                0.25                0.288462  \n2       NaN                 NaN                     NaN  \n3  Positive                0.40                0.875000  \n4  Positive                1.00                0.300000  "
     },
     "execution_count": 88,
     "metadata": {},
     "output_type": "execute_result"
    }
   ],
   "source": [
    "# Your code here\n",
    "google_review.head()"
   ]
  },
  {
   "cell_type": "markdown",
   "metadata": {},
   "source": [
    "#### The main piece of information we would like to extract from this dataset is the proportion of positive reviews of each app. \n",
    "\n",
    "Columns like `Sentiment_Polarity` and `Sentiment_Subjectivity` are not to our interests because we have no clue how to use them. We do not care about `Translated_Review` because natural language processing is too complex for us at present (in fact the `Sentiment`, `Sentiment_Polarity`, and `Sentiment_Subjectivity` columns are derived from `Translated_Review` the data scientists). \n",
    "\n",
    "What we care about in this challenge is `Sentiment`. To be more precise, we care about **what is the proportion of *Positive* sentiment of each app**. This will require us to aggregate the `Sentiment` data by `App` in order to calculate the proportions.\n",
    "\n",
    "Now that you are clear about what we are trying to achieve, follow the steps below that will walk you through towards our goal."
   ]
  },
  {
   "cell_type": "markdown",
   "metadata": {},
   "source": [
    "#### Our first step will be to remove all rows with missing sentiment. \n",
    "\n",
    "In the next cell, drop all rows with missing data using the `dropna()` function and assign this new dataframe to `review_missing_removed`."
   ]
  },
  {
   "cell_type": "code",
   "execution_count": 95,
   "metadata": {},
   "outputs": [
    {
     "data": {
      "text/plain": "37427"
     },
     "execution_count": 95,
     "metadata": {},
     "output_type": "execute_result"
    }
   ],
   "source": [
    "# Your code here:\n",
    "review_missing_removed = google_review.dropna()\n",
    "review_missing_removed.shape[0]"
   ]
  },
  {
   "cell_type": "code",
   "execution_count": 96,
   "metadata": {},
   "outputs": [
    {
     "data": {
      "text/plain": "64295"
     },
     "execution_count": 96,
     "metadata": {},
     "output_type": "execute_result"
    }
   ],
   "source": [
    "google_review.shape[0]"
   ]
  },
  {
   "cell_type": "markdown",
   "metadata": {},
   "source": [
    "#### Now, use the `value_counts()` function ([documentation](https://pandas.pydata.org/pandas-docs/stable/generated/pandas.Series.value_counts.html)) to get a sense on how many apps are in this dataset and their review counts."
   ]
  },
  {
   "cell_type": "code",
   "execution_count": 98,
   "metadata": {},
   "outputs": [
    {
     "data": {
      "text/plain": "Bowmasters                                            312\nAngry Birds Classic                                   273\nHelix Jump                                            273\nCalorie Counter - MyFitnessPal                        254\nDuolingo: Learn Languages Free                        240\nCandy Crush Saga                                      240\nGarena Free Fire                                      222\n8 Ball Pool                                           219\nCalorie Counter - Macros                              200\n10 Best Foods for You                                 194\nCBS Sports App - Scores, News, Stats & Watch Live     192\nGoogle Photos                                         191\nAlto's Adventure                                      175\n8fit Workouts & Meal Planner                          171\nDRAGON BALL LEGENDS                                   167\nCandy Crush Soda Saga                                 166\nClash Royale                                          165\nAdobe Acrobat Reader                                  162\nEpisode - Choose Your Story                           160\nBlock Puzzle                                          154\nFlow Free                                             154\nBubble Shooter                                        145\nCalorie Counter - MyNetDiary                          139\nAgar.io                                               136\nCooking Fever                                         135\nCalorie Counter & Diet Tracker                        135\nGalaxy Attack: Alien Shooter                          134\nColorfy: Coloring Book for Adults - Free              133\nGardenscapes                                          133\nFacebook                                              132\n                                                     ... \nCalculator with Percent (Free)                          2\nASUS Quick Memo                                         2\nGoogle Translate                                        2\nCM Browser - Ad Blocker , Fast Download , Privacy       2\nAmazon Prime Video                                      2\nFruit Block - Puzzle Legend                             1\nCalculator - unit converter                             1\nDraw A Stickman                                         1\nDraw In                                                 1\nDashClock Widget                                        1\nCallApp: Caller ID, Blocker & Phone Call Recorder       1\nAll-in-One Mahjong 3 FREE                               1\nBest Fiends - Free Puzzle Game                          1\nCBS News                                                1\nCaller ID +                                             1\nCaf - Mon Compte                                        1\nBed Time Fan - White Noise Sleep Sounds                 1\nCalendar+ Schedule Planner App                          1\nGoogle Slides                                           1\nHD Camera                                               1\nApartment Decorating Ideas                              1\nHomeWork                                                1\nGPS Map Free                                            1\nDrawing for Kids Learning Games for Toddlers age 3      1\nBest Ovulation Tracker Fertility Calendar App Glow      1\nDaily Workouts - Exercise Fitness Routine Trainer       1\nDiscover Mobile                                         1\nFree Live Talk-Video Call                               1\nGoogle Trips - Travel Planner                           1\nDraw a Stickman: EPIC 2                                 1\nName: App, Length: 865, dtype: int64"
     },
     "execution_count": 98,
     "metadata": {},
     "output_type": "execute_result"
    }
   ],
   "source": [
    "# Your code here:\n",
    "review_missing_removed['App'].value_counts()"
   ]
  },
  {
   "cell_type": "markdown",
   "metadata": {},
   "source": [
    "#### Now the tough part comes. Let's plan how we will achieve our goal:\n",
    "\n",
    "1. We will count the number of reviews that contain *Positive* in the `Sentiment` column.\n",
    "\n",
    "1. We will create a new dataframe to contain the `App` name, the number of positive reviews, and the total number of reviews of each app.\n",
    "\n",
    "1. We will then loop the new dataframe to calculate the postivie review portion of each app."
   ]
  },
  {
   "cell_type": "markdown",
   "metadata": {},
   "source": [
    "#### Step 1: Count the number of positive reviews.\n",
    "\n",
    "In the following cell, write a function that takes a column and returns the number of times *Positive* appears in the column. \n",
    "\n",
    "*Hint: One option is to use the `np.where()` function ([documentation](https://docs.scipy.org/doc/numpy-1.13.0/reference/generated/numpy.where.html)).*"
   ]
  },
  {
   "cell_type": "code",
   "execution_count": 105,
   "metadata": {},
   "outputs": [
    {
     "data": {
      "text/plain": "array([1, 1, 1, ..., 0, 1, 0])"
     },
     "execution_count": 105,
     "metadata": {},
     "output_type": "execute_result"
    }
   ],
   "source": [
    "# Your code below\n",
    "\n",
    "def positive_function(x):\n",
    "    \"\"\"\n",
    "    Count how many times the string `Positive` appears in a column (exact string match).\n",
    "    \n",
    "    Args:\n",
    "        x: data column\n",
    "    \n",
    "    \n",
    "    Returns:\n",
    "        The number of occurrences of `Positive` in the column data.\n",
    "    \"\"\"\n",
    "    return np.where(\n",
    "        x == 'Positive',\n",
    "        1, 0\n",
    "        )\n",
    "positive_function(review_missing_removed['Sentiment'])"
   ]
  },
  {
   "cell_type": "markdown",
   "metadata": {},
   "source": [
    "#### Step 2: Create a new dataframe to contain the `App` name, the number of positive reviews, and the total number of reviews of each app\n",
    "\n",
    "We will group `review_missing_removed` by the `App` column, then aggregate the grouped dataframe on the number of positive reviews and the total review counts of each app. The result will be assigned to a new variable `google_agg`. Here is the ([documentation on how to achieve it](https://pandas.pydata.org/pandas-docs/stable/generated/pandas.core.groupby.DataFrameGroupBy.agg.html)). Take a moment or two to read the documentation and google examples because it is pretty complex.\n",
    "\n",
    "When you obtain `google_agg`, check its values to make sure it has an `App` column as its index as well as a `Positive` column and a `Total` column. Your output should look like:\n",
    "\n",
    "![Positive Reviews Agg](positive-review-agg.png)\n",
    "\n",
    "*Hint: Use `positive_function` you created earlier as part of the param passed to the `agg()` function in order to aggregate the number of positive reviews.*\n",
    "\n",
    "#### Bonus:\n",
    "\n",
    "As of Pandas v0.23.4, you may opt to supply an array or an object to `agg()`. If you use the array param, you'll need to rename the columns so that their names are `Positive` and `Total`. Using the object param will allow you to create the aggregated columns with the desirable names without renaming them. However, you will probably encounter a warning indicating supplying an object to `agg()` will become outdated. It's up to you which way you will use. Try both ways out. Any way is fine as long as it works."
   ]
  },
  {
   "cell_type": "code",
   "execution_count": 116,
   "metadata": {},
   "outputs": [
    {
     "name": "stderr",
     "output_type": "stream",
     "text": "C:\\Users\\Ironhack\\AppData\\Roaming\\Python\\Python37\\site-packages\\ipykernel_launcher.py:5: SettingWithCopyWarning: \nA value is trying to be set on a copy of a slice from a DataFrame.\nTry using .loc[row_indexer,col_indexer] = value instead\n\nSee the caveats in the documentation: http://pandas.pydata.org/pandas-docs/stable/indexing.html#indexing-view-versus-copy\n  \"\"\"\n"
    }
   ],
   "source": [
    "# Your code here:\n",
    "total = review_missing_removed.groupby('App').count()\n",
    "total['Total'] = total['Sentiment'] #rename column\n",
    "total = total['Total']\n",
    "review_missing_removed['Positive'] = positive_function(review_missing_removed['Sentiment'])\n",
    "positive = review_missing_removed[review_missing_removed[\"Positive\"] > 0].groupby(['App']).count()\n",
    "positive.head()\n",
    "positive2 = positive['Positive']\n",
    "google_agg = pd.concat([total, positive2], axis=1, join='inner')"
   ]
  },
  {
   "cell_type": "markdown",
   "metadata": {},
   "source": [
    "Print the first 5 rows of `google_agg` to check it."
   ]
  },
  {
   "cell_type": "code",
   "execution_count": 117,
   "metadata": {},
   "outputs": [
    {
     "data": {
      "text/html": "<div>\n<style scoped>\n    .dataframe tbody tr th:only-of-type {\n        vertical-align: middle;\n    }\n\n    .dataframe tbody tr th {\n        vertical-align: top;\n    }\n\n    .dataframe thead th {\n        text-align: right;\n    }\n</style>\n<table border=\"1\" class=\"dataframe\">\n  <thead>\n    <tr style=\"text-align: right;\">\n      <th></th>\n      <th>Total</th>\n      <th>Positive</th>\n    </tr>\n    <tr>\n      <th>App</th>\n      <th></th>\n      <th></th>\n    </tr>\n  </thead>\n  <tbody>\n    <tr>\n      <th>10 Best Foods for You</th>\n      <td>194</td>\n      <td>162</td>\n    </tr>\n    <tr>\n      <th>104 找工作 - 找工作 找打工 找兼職 履歷健檢 履歷診療室</th>\n      <td>40</td>\n      <td>31</td>\n    </tr>\n    <tr>\n      <th>11st</th>\n      <td>39</td>\n      <td>23</td>\n    </tr>\n    <tr>\n      <th>1800 Contacts - Lens Store</th>\n      <td>80</td>\n      <td>64</td>\n    </tr>\n    <tr>\n      <th>1LINE – One Line with One Touch</th>\n      <td>38</td>\n      <td>27</td>\n    </tr>\n  </tbody>\n</table>\n</div>",
      "text/plain": "                                  Total  Positive\nApp                                              \n10 Best Foods for You               194       162\n104 找工作 - 找工作 找打工 找兼職 履歷健檢 履歷診療室     40        31\n11st                                 39        23\n1800 Contacts - Lens Store           80        64\n1LINE – One Line with One Touch      38        27"
     },
     "execution_count": 117,
     "metadata": {},
     "output_type": "execute_result"
    }
   ],
   "source": [
    "# Your code here\n",
    "google_agg.head()"
   ]
  },
  {
   "cell_type": "markdown",
   "metadata": {},
   "source": [
    "#### Add a derived column to `google_agg` that is the ratio of the `Positive` and the `Total` columns. Call this column `Positive Ratio`. \n",
    "\n",
    "Make sure to account for the case where the denominator is zero using the `np.where()` function."
   ]
  },
  {
   "cell_type": "code",
   "execution_count": 120,
   "metadata": {},
   "outputs": [],
   "source": [
    "# Your code here:\n",
    "google_agg['Positive Ratio'] = google_agg['Positive']/google_agg['Total']"
   ]
  },
  {
   "cell_type": "markdown",
   "metadata": {},
   "source": [
    "#### Now drop the `Positive` and `Total` columns. Do this with `inplace=True`."
   ]
  },
  {
   "cell_type": "code",
   "execution_count": 123,
   "metadata": {},
   "outputs": [],
   "source": [
    "# Your code here:\n",
    "google_agg.drop(columns=['Positive', 'Total'], inplace=True)"
   ]
  },
  {
   "cell_type": "markdown",
   "metadata": {},
   "source": [
    "Print the first 5 rows of `google_agg`. Your output should look like:\n",
    "\n",
    "![Positive Reviews Agg](positive-review-ratio.png)"
   ]
  },
  {
   "cell_type": "code",
   "execution_count": 124,
   "metadata": {},
   "outputs": [
    {
     "data": {
      "text/html": "<div>\n<style scoped>\n    .dataframe tbody tr th:only-of-type {\n        vertical-align: middle;\n    }\n\n    .dataframe tbody tr th {\n        vertical-align: top;\n    }\n\n    .dataframe thead th {\n        text-align: right;\n    }\n</style>\n<table border=\"1\" class=\"dataframe\">\n  <thead>\n    <tr style=\"text-align: right;\">\n      <th></th>\n      <th>Positive Ratio</th>\n    </tr>\n    <tr>\n      <th>App</th>\n      <th></th>\n    </tr>\n  </thead>\n  <tbody>\n    <tr>\n      <th>10 Best Foods for You</th>\n      <td>0.835052</td>\n    </tr>\n    <tr>\n      <th>104 找工作 - 找工作 找打工 找兼職 履歷健檢 履歷診療室</th>\n      <td>0.775000</td>\n    </tr>\n    <tr>\n      <th>11st</th>\n      <td>0.589744</td>\n    </tr>\n    <tr>\n      <th>1800 Contacts - Lens Store</th>\n      <td>0.800000</td>\n    </tr>\n    <tr>\n      <th>1LINE – One Line with One Touch</th>\n      <td>0.710526</td>\n    </tr>\n  </tbody>\n</table>\n</div>",
      "text/plain": "                                  Positive Ratio\nApp                                             \n10 Best Foods for You                   0.835052\n104 找工作 - 找工作 找打工 找兼職 履歷健檢 履歷診療室        0.775000\n11st                                    0.589744\n1800 Contacts - Lens Store              0.800000\n1LINE – One Line with One Touch         0.710526"
     },
     "execution_count": 124,
     "metadata": {},
     "output_type": "execute_result"
    }
   ],
   "source": [
    "# Your code here:\n",
    "google_agg.head()"
   ]
  },
  {
   "cell_type": "markdown",
   "metadata": {},
   "source": [
    "# Challenge 3 - Join the Dataframes\n",
    "\n",
    "In this part of the lab, we will join the two dataframes and obtain a dataframe that contains features we can use in our ML algorithm.\n",
    "\n",
    "In the next cell, join the `google_missing_removed` dataframe with the `google_agg` dataframe on the `App` column. Assign this dataframe to the variable `google`."
   ]
  },
  {
   "cell_type": "code",
   "execution_count": 130,
   "metadata": {},
   "outputs": [],
   "source": [
    "# Your code here:\n",
    "google = pd.merge(google_missing_removed, google_agg, on='App', how='inner')"
   ]
  },
  {
   "cell_type": "markdown",
   "metadata": {},
   "source": [
    "#### Let's look at the final result using the `head()` function. Your final product should look like:\n",
    "\n",
    "![Final Product](google-final-head.png)"
   ]
  },
  {
   "cell_type": "code",
   "execution_count": 132,
   "metadata": {},
   "outputs": [
    {
     "data": {
      "text/html": "<div>\n<style scoped>\n    .dataframe tbody tr th:only-of-type {\n        vertical-align: middle;\n    }\n\n    .dataframe tbody tr th {\n        vertical-align: top;\n    }\n\n    .dataframe thead th {\n        text-align: right;\n    }\n</style>\n<table border=\"1\" class=\"dataframe\">\n  <thead>\n    <tr style=\"text-align: right;\">\n      <th></th>\n      <th>App</th>\n      <th>Category</th>\n      <th>Rating</th>\n      <th>Reviews</th>\n      <th>Installs</th>\n      <th>Type</th>\n      <th>Content Rating</th>\n      <th>Genres</th>\n      <th>Last Updated</th>\n      <th>Current Ver</th>\n      <th>Android Ver</th>\n      <th>Reviews_numeric</th>\n      <th>Review_isnull</th>\n      <th>Price Numerical</th>\n      <th>Positive Ratio</th>\n    </tr>\n  </thead>\n  <tbody>\n    <tr>\n      <th>0</th>\n      <td>Coloring book moana</td>\n      <td>ART_AND_DESIGN</td>\n      <td>3.9</td>\n      <td>967.0</td>\n      <td>500,000+</td>\n      <td>Free</td>\n      <td>Everyone</td>\n      <td>Art &amp; Design;Pretend Play</td>\n      <td>2018-01-15</td>\n      <td>2.0.0</td>\n      <td>4.0.3 and up</td>\n      <td>967.0</td>\n      <td>False</td>\n      <td>0.0</td>\n      <td>0.590909</td>\n    </tr>\n    <tr>\n      <th>1</th>\n      <td>Coloring book moana</td>\n      <td>FAMILY</td>\n      <td>3.9</td>\n      <td>974.0</td>\n      <td>500,000+</td>\n      <td>Free</td>\n      <td>Everyone</td>\n      <td>Art &amp; Design;Pretend Play</td>\n      <td>2018-01-15</td>\n      <td>2.0.0</td>\n      <td>4.0.3 and up</td>\n      <td>974.0</td>\n      <td>False</td>\n      <td>0.0</td>\n      <td>0.590909</td>\n    </tr>\n    <tr>\n      <th>2</th>\n      <td>Garden Coloring Book</td>\n      <td>ART_AND_DESIGN</td>\n      <td>4.4</td>\n      <td>13791.0</td>\n      <td>1,000,000+</td>\n      <td>Free</td>\n      <td>Everyone</td>\n      <td>Art &amp; Design</td>\n      <td>2017-09-20</td>\n      <td>2.9.2</td>\n      <td>3.0 and up</td>\n      <td>13791.0</td>\n      <td>False</td>\n      <td>0.0</td>\n      <td>0.711111</td>\n    </tr>\n    <tr>\n      <th>3</th>\n      <td>FlipaClip - Cartoon animation</td>\n      <td>ART_AND_DESIGN</td>\n      <td>4.3</td>\n      <td>194216.0</td>\n      <td>5,000,000+</td>\n      <td>Free</td>\n      <td>Everyone</td>\n      <td>Art &amp; Design</td>\n      <td>2018-08-03</td>\n      <td>2.2.5</td>\n      <td>4.0.3 and up</td>\n      <td>194216.0</td>\n      <td>False</td>\n      <td>0.0</td>\n      <td>1.000000</td>\n    </tr>\n    <tr>\n      <th>4</th>\n      <td>Boys Photo Editor - Six Pack &amp; Men's Suit</td>\n      <td>ART_AND_DESIGN</td>\n      <td>4.1</td>\n      <td>654.0</td>\n      <td>100,000+</td>\n      <td>Free</td>\n      <td>Everyone</td>\n      <td>Art &amp; Design</td>\n      <td>2018-03-20</td>\n      <td>1.1</td>\n      <td>4.0.3 and up</td>\n      <td>654.0</td>\n      <td>False</td>\n      <td>0.0</td>\n      <td>0.605263</td>\n    </tr>\n  </tbody>\n</table>\n</div>",
      "text/plain": "                                         App        Category  Rating  \\\n0                        Coloring book moana  ART_AND_DESIGN     3.9   \n1                        Coloring book moana          FAMILY     3.9   \n2                       Garden Coloring Book  ART_AND_DESIGN     4.4   \n3              FlipaClip - Cartoon animation  ART_AND_DESIGN     4.3   \n4  Boys Photo Editor - Six Pack & Men's Suit  ART_AND_DESIGN     4.1   \n\n    Reviews    Installs  Type Content Rating                     Genres  \\\n0     967.0    500,000+  Free       Everyone  Art & Design;Pretend Play   \n1     974.0    500,000+  Free       Everyone  Art & Design;Pretend Play   \n2   13791.0  1,000,000+  Free       Everyone               Art & Design   \n3  194216.0  5,000,000+  Free       Everyone               Art & Design   \n4     654.0    100,000+  Free       Everyone               Art & Design   \n\n  Last Updated Current Ver   Android Ver  Reviews_numeric  Review_isnull  \\\n0   2018-01-15       2.0.0  4.0.3 and up            967.0          False   \n1   2018-01-15       2.0.0  4.0.3 and up            974.0          False   \n2   2017-09-20       2.9.2    3.0 and up          13791.0          False   \n3   2018-08-03       2.2.5  4.0.3 and up         194216.0          False   \n4   2018-03-20         1.1  4.0.3 and up            654.0          False   \n\n   Price Numerical  Positive Ratio  \n0              0.0        0.590909  \n1              0.0        0.590909  \n2              0.0        0.711111  \n3              0.0        1.000000  \n4              0.0        0.605263  "
     },
     "execution_count": 132,
     "metadata": {},
     "output_type": "execute_result"
    }
   ],
   "source": [
    "# Your code here:\n",
    "google.head()"
   ]
  },
  {
   "cell_type": "code",
   "execution_count": null,
   "metadata": {},
   "outputs": [],
   "source": []
  }
 ],
 "metadata": {
  "kernelspec": {
   "display_name": "Python 3",
   "language": "python",
   "name": "python3"
  },
  "language_info": {
   "codemirror_mode": {
    "name": "ipython",
    "version": 3
   },
   "file_extension": ".py",
   "mimetype": "text/x-python",
   "name": "python",
   "nbconvert_exporter": "python",
   "pygments_lexer": "ipython3",
   "version": "3.7.0"
  }
 },
 "nbformat": 4,
 "nbformat_minor": 2
}